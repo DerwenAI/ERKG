{
 "cells": [
  {
   "cell_type": "markdown",
   "id": "8ff268dd-175c-4495-8c56-202c7b3553f7",
   "metadata": {},
   "source": [
    "## Set up"
   ]
  },
  {
   "cell_type": "markdown",
   "id": "a8f9008b-16dd-451a-8b65-fdb0cfc60422",
   "metadata": {},
   "source": [
    "Load the Python dependencies."
   ]
  },
  {
   "cell_type": "code",
   "execution_count": 1,
   "id": "8438a9b9-0008-4c03-a0b1-01052a16f39b",
   "metadata": {
    "execution": {
     "iopub.execute_input": "2024-06-28T17:13:15.357700Z",
     "iopub.status.busy": "2024-06-28T17:13:15.357345Z",
     "iopub.status.idle": "2024-06-28T17:13:15.745012Z",
     "shell.execute_reply": "2024-06-28T17:13:15.744786Z",
     "shell.execute_reply.started": "2024-06-28T17:13:15.357678Z"
    }
   },
   "outputs": [],
   "source": [
    "from dataclasses import dataclass, field\n",
    "import json\n",
    "import os\n",
    "import pathlib\n",
    "import sys\n",
    "import typing\n",
    "\n",
    "from graphdatascience import GraphDataScience\n",
    "from icecream import ic\n",
    "from tqdm import tqdm\n",
    "import dotenv\n",
    "import neo4j\n",
    "import pandas as pd\n",
    "import watermark\n",
    "\n",
    "%load_ext watermark"
   ]
  },
  {
   "cell_type": "code",
   "execution_count": 2,
   "id": "88148b53-7d00-4aa4-ad24-3ac35af0c958",
   "metadata": {
    "execution": {
     "iopub.execute_input": "2024-06-28T17:13:17.001773Z",
     "iopub.status.busy": "2024-06-28T17:13:17.000574Z",
     "iopub.status.idle": "2024-06-28T17:13:17.025505Z",
     "shell.execute_reply": "2024-06-28T17:13:17.024816Z",
     "shell.execute_reply.started": "2024-06-28T17:13:17.001731Z"
    }
   },
   "outputs": [
    {
     "name": "stdout",
     "output_type": "stream",
     "text": [
      "Last updated: 2024-06-28T10:13:17.004352-07:00\n",
      "\n",
      "Python implementation: CPython\n",
      "Python version       : 3.11.9\n",
      "IPython version      : 8.25.0\n",
      "\n",
      "Compiler    : Clang 13.0.0 (clang-1300.0.29.30)\n",
      "OS          : Darwin\n",
      "Release     : 23.5.0\n",
      "Machine     : arm64\n",
      "Processor   : arm\n",
      "CPU cores   : 14\n",
      "Architecture: 64bit\n",
      "\n",
      "watermark: 2.4.3\n",
      "pandas   : 2.2.2\n",
      "sys      : 3.11.9 (v3.11.9:de54cf5be3, Apr  2 2024, 07:12:50) [Clang 13.0.0 (clang-1300.0.29.30)]\n",
      "json     : 2.0.9\n",
      "neo4j    : 5.22.0\n",
      "\n"
     ]
    }
   ],
   "source": [
    "%watermark\n",
    "%watermark --iversions"
   ]
  },
  {
   "cell_type": "markdown",
   "id": "cb9fcd10-bdd9-4b21-9062-0a808533da82",
   "metadata": {},
   "source": [
    "Establish a GDS connection to Neo4j."
   ]
  },
  {
   "cell_type": "code",
   "execution_count": 3,
   "id": "7eca743b-bae0-4210-b772-a2578dd50892",
   "metadata": {
    "execution": {
     "iopub.execute_input": "2024-06-28T17:13:18.194533Z",
     "iopub.status.busy": "2024-06-28T17:13:18.193937Z",
     "iopub.status.idle": "2024-06-28T17:13:18.257315Z",
     "shell.execute_reply": "2024-06-28T17:13:18.256741Z",
     "shell.execute_reply.started": "2024-06-28T17:13:18.194497Z"
    }
   },
   "outputs": [
    {
     "name": "stderr",
     "output_type": "stream",
     "text": [
      "Received notification from DBMS server: {severity: WARNING} {code: Neo.ClientNotification.Statement.FeatureDeprecationWarning} {category: DEPRECATION} {title: This feature is deprecated and will be removed in future versions.} {description: The query used a deprecated field from a procedure. ('advertisedListenAddress' returned by 'gds.debug.arrow' is deprecated.)} {position: line: 1, column: 1, offset: 0} for query: 'CALL gds.debug.arrow()'\n",
      "Received notification from DBMS server: {severity: WARNING} {code: Neo.ClientNotification.Statement.FeatureDeprecationWarning} {category: DEPRECATION} {title: This feature is deprecated and will be removed in future versions.} {description: The query used a deprecated field from a procedure. ('serverLocation' returned by 'gds.debug.arrow' is deprecated.)} {position: line: 1, column: 1, offset: 0} for query: 'CALL gds.debug.arrow()'\n"
     ]
    }
   ],
   "source": [
    "dotenv.load_dotenv(dotenv.find_dotenv())\n",
    "\n",
    "bolt_uri: str = os.environ.get(\"NEO4J_BOLT\")\n",
    "database: str = os.environ.get(\"NEO4J_DBMS\")\n",
    "username: str = os.environ.get(\"NEO4J_USER\")\n",
    "password: str = os.environ.get(\"NEO4J_PASS\")\n",
    "\n",
    "gds:GraphDataScience = GraphDataScience(\n",
    "    bolt_uri,\n",
    "    auth = ( username, password, ),\n",
    "    database = database,\n",
    "    aura_ds = False,\n",
    ")"
   ]
  },
  {
   "cell_type": "markdown",
   "id": "11ebffbc-aebc-4fd8-a419-f35ec4bc5c76",
   "metadata": {},
   "source": [
    "## Load the Senzing overlay"
   ]
  },
  {
   "cell_type": "code",
   "execution_count": 4,
   "id": "835dd5c0-e643-48c0-a6bd-04b1a25bbcd0",
   "metadata": {
    "execution": {
     "iopub.execute_input": "2024-06-28T17:18:02.621868Z",
     "iopub.status.busy": "2024-06-28T17:18:02.621310Z",
     "iopub.status.idle": "2024-06-28T17:18:02.631282Z",
     "shell.execute_reply": "2024-06-28T17:18:02.630598Z",
     "shell.execute_reply.started": "2024-06-28T17:18:02.621830Z"
    }
   },
   "outputs": [],
   "source": [
    "@dataclass(order=False, frozen=False)\n",
    "class Entity:  # pylint: disable=R0902\n",
    "    \"\"\"\n",
    "A data class representing a resolved entity.\n",
    "    \"\"\"\n",
    "    entity_uid: id\n",
    "    name: str\n",
    "    num_recs: int\n",
    "    records: typing.Dict[ str, str ] = field(default_factory = lambda: {})\n",
    "    related: typing.Dict[ int, dict ] = field(default_factory = lambda: {})\n",
    "    has_ref: bool = False"
   ]
  },
  {
   "cell_type": "code",
   "execution_count": 5,
   "id": "5ef67a9a-09e5-4f37-84a3-dfe394bbfc14",
   "metadata": {
    "execution": {
     "iopub.execute_input": "2024-06-28T17:18:03.474303Z",
     "iopub.status.busy": "2024-06-28T17:18:03.473435Z",
     "iopub.status.idle": "2024-06-28T17:18:24.128693Z",
     "shell.execute_reply": "2024-06-28T17:18:24.128477Z",
     "shell.execute_reply.started": "2024-06-28T17:18:03.474266Z"
    }
   },
   "outputs": [
    {
     "name": "stderr",
     "output_type": "stream",
     "text": [
      "read JSON: 100%|█████████████████████████████████████████████████████████████████████████████████████████████████████████| 1547418/1547418 [00:18<00:00, 85286.05it/s]\n"
     ]
    },
    {
     "data": {
      "text/plain": [
       "1547418"
      ]
     },
     "execution_count": 5,
     "metadata": {},
     "output_type": "execute_result"
    }
   ],
   "source": [
    "export_path: pathlib.Path = pathlib.Path(\"ICIJ-entity-report-2024-06-21_12-04-57-std.json\")\n",
    "entities: dict = {}\n",
    "count : int = 0\n",
    "\n",
    "with export_path.open() as fp:\n",
    "    for line in tqdm(fp.readlines(), desc = \"read JSON\"):\n",
    "        count += 1\n",
    "        entity_dat: dict = json.loads(line)\n",
    "        entity_uid: int = entity_dat[\"RESOLVED_ENTITY\"][\"ENTITY_ID\"]\n",
    "        entity_name: str = entity_dat[\"RESOLVED_ENTITY\"][\"ENTITY_NAME\"]\n",
    "        records: dict = {}\n",
    "\n",
    "        for rec in entity_dat[\"RESOLVED_ENTITY\"][\"RECORDS\"]:\n",
    "            record_uid: str = rec[\"RECORD_ID\"]\n",
    "\n",
    "            if not record_uid.startswith(\"#\"):\n",
    "                match_key: str = rec[\"MATCH_KEY\"]\n",
    "\n",
    "                if match_key.strip() == \"\":\n",
    "                    match_key = \"INITIAL\"\n",
    "\n",
    "                records[record_uid] = match_key\n",
    "\n",
    "            if entity_name == \"\" and rec[\"ENTITY_DESC\"] != \"\":\n",
    "                entity_name = rec[\"ENTITY_DESC\"]\n",
    "\n",
    "        if entity_name == \"\":\n",
    "            entity_name = entity_uid\n",
    "\n",
    "        entities[entity_uid] = Entity(\n",
    "            entity_uid = entity_uid,\n",
    "            name = entity_name,\n",
    "            records = records,\n",
    "            num_recs = len(records),\n",
    "            related = {\n",
    "                r[\"ENTITY_ID\"]: r\n",
    "                for r in entity_dat[\"RELATED_ENTITIES\"]\n",
    "            },\n",
    "        )\n",
    "\n",
    "count"
   ]
  },
  {
   "cell_type": "code",
   "execution_count": 6,
   "id": "f6c08227-64b2-4d65-892b-e43b33877e8a",
   "metadata": {
    "execution": {
     "iopub.execute_input": "2024-06-28T17:18:24.129399Z",
     "iopub.status.busy": "2024-06-28T17:18:24.129328Z",
     "iopub.status.idle": "2024-06-28T17:18:24.131596Z",
     "shell.execute_reply": "2024-06-28T17:18:24.131386Z",
     "shell.execute_reply.started": "2024-06-28T17:18:24.129393Z"
    }
   },
   "outputs": [
    {
     "data": {
      "text/plain": [
       "{'RESOLVED_ENTITY': {'ENTITY_ID': 1809179,\n",
       "  'ENTITY_NAME': 'Vistamax Kenya Ltd',\n",
       "  'FEATURES': {'ADDRESS': [{'FEAT_DESC': 'Kay Construction Complex   Mombasa Road Nairobi KENYA',\n",
       "     'LIB_FEAT_ID': 15469571,\n",
       "     'FEAT_DESC_VALUES': [{'FEAT_DESC': 'Kay Construction Complex   Mombasa Road Nairobi KENYA',\n",
       "       'LIB_FEAT_ID': 15469571}]}],\n",
       "   'DUNS_NUMBER': [{'FEAT_DESC': '499289270',\n",
       "     'LIB_FEAT_ID': 15469585,\n",
       "     'FEAT_DESC_VALUES': [{'FEAT_DESC': '499289270',\n",
       "       'LIB_FEAT_ID': 15469585}]}],\n",
       "   'NAME': [{'FEAT_DESC': 'Vistamax Kenya Ltd',\n",
       "     'LIB_FEAT_ID': 15469564,\n",
       "     'USAGE_TYPE': 'COMPANY',\n",
       "     'FEAT_DESC_VALUES': [{'FEAT_DESC': 'Vistamax Kenya Ltd',\n",
       "       'LIB_FEAT_ID': 15469564}]},\n",
       "    {'FEAT_DESC': 'Zuresh Said',\n",
       "     'LIB_FEAT_ID': 15469570,\n",
       "     'USAGE_TYPE': 'EXECUTIVE',\n",
       "     'FEAT_DESC_VALUES': [{'FEAT_DESC': 'Zuresh Said',\n",
       "       'LIB_FEAT_ID': 15469570}]}],\n",
       "   'PHONE': [{'FEAT_DESC': '254-282-4805',\n",
       "     'LIB_FEAT_ID': 15469572,\n",
       "     'USAGE_TYPE': 'CONTACT',\n",
       "     'FEAT_DESC_VALUES': [{'FEAT_DESC': '254-282-4805',\n",
       "       'LIB_FEAT_ID': 15469572}]},\n",
       "    {'FEAT_DESC': '254-282-4805',\n",
       "     'LIB_FEAT_ID': 15469572,\n",
       "     'USAGE_TYPE': 'PRIMARY',\n",
       "     'FEAT_DESC_VALUES': [{'FEAT_DESC': '254-282-4805',\n",
       "       'LIB_FEAT_ID': 15469572}]}]},\n",
       "  'RECORDS': [{'DATA_SOURCE': 'FACTIVA KENYA',\n",
       "    'RECORD_ID': '#8588',\n",
       "    'ENTITY_TYPE': 'GENERIC',\n",
       "    'INTERNAL_ID': 1809179,\n",
       "    'ENTITY_KEY': '264E8BA76FD103662A81C4589E2F8F29647FF29D',\n",
       "    'ENTITY_DESC': 'Vistamax Kenya Ltd',\n",
       "    'MATCH_KEY': '',\n",
       "    'MATCH_LEVEL': 0,\n",
       "    'MATCH_LEVEL_CODE': '',\n",
       "    'ERRULE_CODE': '',\n",
       "    'LAST_SEEN_DT': '2023-08-17 19:04:45.658'}]},\n",
       " 'RELATED_ENTITIES': []}"
      ]
     },
     "execution_count": 6,
     "metadata": {},
     "output_type": "execute_result"
    }
   ],
   "source": [
    "entity_dat"
   ]
  },
  {
   "cell_type": "code",
   "execution_count": 7,
   "id": "f1600dcb-ed91-431b-b749-1dfbc74e4de3",
   "metadata": {
    "execution": {
     "iopub.execute_input": "2024-06-28T17:18:24.131954Z",
     "iopub.status.busy": "2024-06-28T17:18:24.131890Z",
     "iopub.status.idle": "2024-06-28T17:18:25.870694Z",
     "shell.execute_reply": "2024-06-28T17:18:25.870298Z",
     "shell.execute_reply.started": "2024-06-28T17:18:24.131947Z"
    }
   },
   "outputs": [],
   "source": [
    "for entity in entities.values():\n",
    "    if entity.num_recs > 0:\n",
    "        entity.has_ref = True\n",
    "\n",
    "    for rel_ent_id in entity.related:\n",
    "        entities[rel_ent_id].has_ref = True"
   ]
  },
  {
   "cell_type": "markdown",
   "id": "31e9f22a-8018-4a65-ac16-bda7a186a5a0",
   "metadata": {},
   "source": [
    "How many entities link to known records or other entities?"
   ]
  },
  {
   "cell_type": "code",
   "execution_count": 8,
   "id": "4391d8f0-e586-4426-8750-7b33157314cc",
   "metadata": {
    "execution": {
     "iopub.execute_input": "2024-06-28T17:18:30.205460Z",
     "iopub.status.busy": "2024-06-28T17:18:30.204778Z",
     "iopub.status.idle": "2024-06-28T17:18:30.522317Z",
     "shell.execute_reply": "2024-06-28T17:18:30.522080Z",
     "shell.execute_reply.started": "2024-06-28T17:18:30.205416Z"
    },
    "scrolled": true
   },
   "outputs": [
    {
     "data": {
      "text/plain": [
       "1526801"
      ]
     },
     "execution_count": 8,
     "metadata": {},
     "output_type": "execute_result"
    }
   ],
   "source": [
    "count: int = 0\n",
    "\n",
    "for ent in entities.values():\n",
    "    if len(ent.records) > 0 or len(ent.related) > 0:\n",
    "        count += 1\n",
    "\n",
    "count"
   ]
  },
  {
   "cell_type": "code",
   "execution_count": 9,
   "id": "783e36e8-f418-460c-abb3-ffdef6d1fc45",
   "metadata": {
    "execution": {
     "iopub.execute_input": "2024-06-28T17:18:31.826103Z",
     "iopub.status.busy": "2024-06-28T17:18:31.825514Z",
     "iopub.status.idle": "2024-06-28T17:18:33.037529Z",
     "shell.execute_reply": "2024-06-28T17:18:33.036989Z",
     "shell.execute_reply.started": "2024-06-28T17:18:31.826065Z"
    }
   },
   "outputs": [
    {
     "data": {
      "text/html": [
       "<div>\n",
       "<style scoped>\n",
       "    .dataframe tbody tr th:only-of-type {\n",
       "        vertical-align: middle;\n",
       "    }\n",
       "\n",
       "    .dataframe tbody tr th {\n",
       "        vertical-align: top;\n",
       "    }\n",
       "\n",
       "    .dataframe thead th {\n",
       "        text-align: right;\n",
       "    }\n",
       "</style>\n",
       "<table border=\"1\" class=\"dataframe\">\n",
       "  <thead>\n",
       "    <tr style=\"text-align: right;\">\n",
       "      <th></th>\n",
       "    </tr>\n",
       "  </thead>\n",
       "  <tbody>\n",
       "  </tbody>\n",
       "</table>\n",
       "</div>"
      ],
      "text/plain": [
       "Empty DataFrame\n",
       "Columns: []\n",
       "Index: []"
      ]
     },
     "execution_count": 9,
     "metadata": {},
     "output_type": "execute_result"
    }
   ],
   "source": [
    "gds.run_cypher(\"\"\"\n",
    "DROP CONSTRAINT `sz_entity_node_key` IF EXISTS\n",
    "\"\"\")\n",
    "\n",
    "gds.run_cypher(\"\"\"\n",
    "CREATE CONSTRAINT `sz_entity_node_key` IF NOT EXISTS\n",
    "  FOR (ent:SzEntity)\n",
    "  REQUIRE ent.uid IS NODE KEY\n",
    "\"\"\")"
   ]
  },
  {
   "cell_type": "markdown",
   "id": "190a723c-134d-4adb-b101-d5b0bf2edeb5",
   "metadata": {},
   "source": [
    "Load the Senzing entities."
   ]
  },
  {
   "cell_type": "code",
   "execution_count": 10,
   "id": "4d8c910a-752a-4f9d-9dfd-4387e79b7b36",
   "metadata": {
    "execution": {
     "iopub.execute_input": "2024-06-28T17:18:36.877741Z",
     "iopub.status.busy": "2024-06-28T17:18:36.877116Z",
     "iopub.status.idle": "2024-06-28T17:18:52.069836Z",
     "shell.execute_reply": "2024-06-28T17:18:52.068734Z",
     "shell.execute_reply.started": "2024-06-28T17:18:36.877703Z"
    }
   },
   "outputs": [
    {
     "data": {
      "text/html": [
       "<div>\n",
       "<style scoped>\n",
       "    .dataframe tbody tr th:only-of-type {\n",
       "        vertical-align: middle;\n",
       "    }\n",
       "\n",
       "    .dataframe tbody tr th {\n",
       "        vertical-align: top;\n",
       "    }\n",
       "\n",
       "    .dataframe thead th {\n",
       "        text-align: right;\n",
       "    }\n",
       "</style>\n",
       "<table border=\"1\" class=\"dataframe\">\n",
       "  <thead>\n",
       "    <tr style=\"text-align: right;\">\n",
       "      <th></th>\n",
       "    </tr>\n",
       "  </thead>\n",
       "  <tbody>\n",
       "  </tbody>\n",
       "</table>\n",
       "</div>"
      ],
      "text/plain": [
       "Empty DataFrame\n",
       "Columns: []\n",
       "Index: []"
      ]
     },
     "execution_count": 10,
     "metadata": {},
     "output_type": "execute_result"
    }
   ],
   "source": [
    "df_ent: pd.DataFrame = pd.DataFrame([\n",
    "    {\n",
    "        \"uid\": entity.entity_uid,\n",
    "        \"name\": entity.name,\n",
    "        \"has_ref\": entity.has_ref,\n",
    "    }\n",
    "    for entity in entities.values()\n",
    "])\n",
    "\n",
    "unwind_query: str = \"\"\"\n",
    "UNWIND $rows AS row\n",
    "CALL {\n",
    "  WITH row\n",
    "  MERGE (ent:SzEntity {uid: row.uid, name: row.name, has_ref: row.has_ref})\n",
    "} IN TRANSACTIONS OF 10000 ROWS\n",
    "    \"\"\"\n",
    "\n",
    "gds.run_cypher(\n",
    "    unwind_query,\n",
    "    {\"rows\": df_ent.to_dict(orient = \"records\")},\n",
    ")"
   ]
  },
  {
   "cell_type": "code",
   "execution_count": 11,
   "id": "72170dfc-9cfa-4998-8ee5-d08c51ed869e",
   "metadata": {
    "execution": {
     "iopub.execute_input": "2024-06-28T17:18:55.453298Z",
     "iopub.status.busy": "2024-06-28T17:18:55.452800Z",
     "iopub.status.idle": "2024-06-28T17:19:21.348987Z",
     "shell.execute_reply": "2024-06-28T17:19:21.348740Z",
     "shell.execute_reply.started": "2024-06-28T17:18:55.453262Z"
    }
   },
   "outputs": [
    {
     "data": {
      "text/html": [
       "<div>\n",
       "<style scoped>\n",
       "    .dataframe tbody tr th:only-of-type {\n",
       "        vertical-align: middle;\n",
       "    }\n",
       "\n",
       "    .dataframe tbody tr th {\n",
       "        vertical-align: top;\n",
       "    }\n",
       "\n",
       "    .dataframe thead th {\n",
       "        text-align: right;\n",
       "    }\n",
       "</style>\n",
       "<table border=\"1\" class=\"dataframe\">\n",
       "  <thead>\n",
       "    <tr style=\"text-align: right;\">\n",
       "      <th></th>\n",
       "      <th>node_id</th>\n",
       "      <th>label</th>\n",
       "      <th>name</th>\n",
       "    </tr>\n",
       "  </thead>\n",
       "  <tbody>\n",
       "    <tr>\n",
       "      <th>0</th>\n",
       "      <td>10000001</td>\n",
       "      <td>Entity</td>\n",
       "      <td>TIANSHENG INDUSTRY AND TRADING CO., LTD.</td>\n",
       "    </tr>\n",
       "    <tr>\n",
       "      <th>1</th>\n",
       "      <td>10000002</td>\n",
       "      <td>Entity</td>\n",
       "      <td>NINGBO SUNRISE ENTERPRISES UNITED CO., LTD.</td>\n",
       "    </tr>\n",
       "    <tr>\n",
       "      <th>2</th>\n",
       "      <td>10000003</td>\n",
       "      <td>Entity</td>\n",
       "      <td>HOTFOCUS CO., LTD.</td>\n",
       "    </tr>\n",
       "    <tr>\n",
       "      <th>3</th>\n",
       "      <td>10000004</td>\n",
       "      <td>Entity</td>\n",
       "      <td>SKY-BLUE GIFTS &amp; TOYS CO., LTD.</td>\n",
       "    </tr>\n",
       "    <tr>\n",
       "      <th>4</th>\n",
       "      <td>10000005</td>\n",
       "      <td>Entity</td>\n",
       "      <td>FORTUNEMAKER INVESTMENTS CORPORATION</td>\n",
       "    </tr>\n",
       "    <tr>\n",
       "      <th>...</th>\n",
       "      <td>...</td>\n",
       "      <td>...</td>\n",
       "      <td>...</td>\n",
       "    </tr>\n",
       "    <tr>\n",
       "      <th>2016518</th>\n",
       "      <td>240554205</td>\n",
       "      <td>Entity</td>\n",
       "      <td>The Giscarl Trust</td>\n",
       "    </tr>\n",
       "    <tr>\n",
       "      <th>2016519</th>\n",
       "      <td>240554206</td>\n",
       "      <td>Entity</td>\n",
       "      <td>Woodland Irrevocable Trust</td>\n",
       "    </tr>\n",
       "    <tr>\n",
       "      <th>2016520</th>\n",
       "      <td>240554207</td>\n",
       "      <td>Entity</td>\n",
       "      <td>Kapecod Trust</td>\n",
       "    </tr>\n",
       "    <tr>\n",
       "      <th>2016521</th>\n",
       "      <td>240554208</td>\n",
       "      <td>Entity</td>\n",
       "      <td>The Schijman Trust</td>\n",
       "    </tr>\n",
       "    <tr>\n",
       "      <th>2016522</th>\n",
       "      <td>240554209</td>\n",
       "      <td>Entity</td>\n",
       "      <td>The 150E42Trust</td>\n",
       "    </tr>\n",
       "  </tbody>\n",
       "</table>\n",
       "<p>2016523 rows × 3 columns</p>\n",
       "</div>"
      ],
      "text/plain": [
       "           node_id   label                                         name\n",
       "0         10000001  Entity     TIANSHENG INDUSTRY AND TRADING CO., LTD.\n",
       "1         10000002  Entity  NINGBO SUNRISE ENTERPRISES UNITED CO., LTD.\n",
       "2         10000003  Entity                           HOTFOCUS CO., LTD.\n",
       "3         10000004  Entity              SKY-BLUE GIFTS & TOYS CO., LTD.\n",
       "4         10000005  Entity         FORTUNEMAKER INVESTMENTS CORPORATION\n",
       "...            ...     ...                                          ...\n",
       "2016518  240554205  Entity                            The Giscarl Trust\n",
       "2016519  240554206  Entity                   Woodland Irrevocable Trust\n",
       "2016520  240554207  Entity                                Kapecod Trust\n",
       "2016521  240554208  Entity                           The Schijman Trust\n",
       "2016522  240554209  Entity                              The 150E42Trust\n",
       "\n",
       "[2016523 rows x 3 columns]"
      ]
     },
     "execution_count": 11,
     "metadata": {},
     "output_type": "execute_result"
    }
   ],
   "source": [
    "df_rec: pd.DataFrame = gds.run_cypher(\n",
    "  \"\"\"\n",
    "MATCH (rec)\n",
    "WHERE rec.node_id IS NOT NULL\n",
    "RETURN rec.node_id AS node_id, head(labels(rec)) AS label, rec.name AS name\n",
    "  \"\"\"\n",
    ")\n",
    "\n",
    "df_rec"
   ]
  },
  {
   "cell_type": "code",
   "execution_count": 12,
   "id": "da6db723-cf1f-4146-931c-485279cf229f",
   "metadata": {
    "execution": {
     "iopub.execute_input": "2024-06-28T17:19:30.210607Z",
     "iopub.status.busy": "2024-06-28T17:19:30.210029Z",
     "iopub.status.idle": "2024-06-28T17:19:31.073357Z",
     "shell.execute_reply": "2024-06-28T17:19:31.072940Z",
     "shell.execute_reply.started": "2024-06-28T17:19:30.210571Z"
    },
    "scrolled": true
   },
   "outputs": [],
   "source": [
    "ent_kind: dict = pd.Series(df_rec.label.values,index=df_rec.node_id.astype(str)).to_dict()"
   ]
  },
  {
   "cell_type": "code",
   "execution_count": 13,
   "id": "c3974dd3-95d5-4534-8e81-704a9ff344e2",
   "metadata": {
    "execution": {
     "iopub.execute_input": "2024-06-28T17:19:32.486031Z",
     "iopub.status.busy": "2024-06-28T17:19:32.485593Z",
     "iopub.status.idle": "2024-06-28T17:19:34.243228Z",
     "shell.execute_reply": "2024-06-28T17:19:34.243002Z",
     "shell.execute_reply.started": "2024-06-28T17:19:32.486007Z"
    }
   },
   "outputs": [
    {
     "data": {
      "text/plain": [
       "1614277"
      ]
     },
     "execution_count": 13,
     "metadata": {},
     "output_type": "execute_result"
    }
   ],
   "source": [
    "df_load: pd.DataFrame = pd.DataFrame([\n",
    "    {\n",
    "        \"entity_uid\": entity.entity_uid,\n",
    "        \"record_uid\": record_uid,\n",
    "        \"label\": ent_kind[record_uid],\n",
    "        \"match_key\": match_key,\n",
    "    }\n",
    "    for entity in entities.values()\n",
    "    for record_uid, match_key in entity.records.items()\n",
    "    if record_uid in ent_kind\n",
    "])\n",
    "\n",
    "len(df_load)"
   ]
  },
  {
   "cell_type": "code",
   "execution_count": 14,
   "id": "fc6d0f2d-bbb4-4438-8094-2365479b292f",
   "metadata": {
    "execution": {
     "iopub.execute_input": "2024-06-28T17:19:35.363574Z",
     "iopub.status.busy": "2024-06-28T17:19:35.363128Z",
     "iopub.status.idle": "2024-06-28T17:19:35.372659Z",
     "shell.execute_reply": "2024-06-28T17:19:35.372030Z",
     "shell.execute_reply.started": "2024-06-28T17:19:35.363548Z"
    }
   },
   "outputs": [
    {
     "data": {
      "text/html": [
       "<div>\n",
       "<style scoped>\n",
       "    .dataframe tbody tr th:only-of-type {\n",
       "        vertical-align: middle;\n",
       "    }\n",
       "\n",
       "    .dataframe tbody tr th {\n",
       "        vertical-align: top;\n",
       "    }\n",
       "\n",
       "    .dataframe thead th {\n",
       "        text-align: right;\n",
       "    }\n",
       "</style>\n",
       "<table border=\"1\" class=\"dataframe\">\n",
       "  <thead>\n",
       "    <tr style=\"text-align: right;\">\n",
       "      <th></th>\n",
       "      <th>entity_uid</th>\n",
       "      <th>record_uid</th>\n",
       "      <th>label</th>\n",
       "      <th>match_key</th>\n",
       "    </tr>\n",
       "  </thead>\n",
       "  <tbody>\n",
       "    <tr>\n",
       "      <th>0</th>\n",
       "      <td>463</td>\n",
       "      <td>240130486</td>\n",
       "      <td>Officer</td>\n",
       "      <td>+NAME+ADDRESS</td>\n",
       "    </tr>\n",
       "    <tr>\n",
       "      <th>1</th>\n",
       "      <td>1650</td>\n",
       "      <td>56096328</td>\n",
       "      <td>Officer</td>\n",
       "      <td>+NAME+ADDRESS</td>\n",
       "    </tr>\n",
       "    <tr>\n",
       "      <th>2</th>\n",
       "      <td>1756</td>\n",
       "      <td>56051487</td>\n",
       "      <td>Officer</td>\n",
       "      <td>+NAME+ADDRESS</td>\n",
       "    </tr>\n",
       "    <tr>\n",
       "      <th>3</th>\n",
       "      <td>100003</td>\n",
       "      <td>56008866</td>\n",
       "      <td>Officer</td>\n",
       "      <td>INITIAL</td>\n",
       "    </tr>\n",
       "    <tr>\n",
       "      <th>4</th>\n",
       "      <td>100028</td>\n",
       "      <td>80060589</td>\n",
       "      <td>Officer</td>\n",
       "      <td>INITIAL</td>\n",
       "    </tr>\n",
       "    <tr>\n",
       "      <th>...</th>\n",
       "      <td>...</td>\n",
       "      <td>...</td>\n",
       "      <td>...</td>\n",
       "      <td>...</td>\n",
       "    </tr>\n",
       "    <tr>\n",
       "      <th>1614272</th>\n",
       "      <td>1734124</td>\n",
       "      <td>12125912</td>\n",
       "      <td>Officer</td>\n",
       "      <td>INITIAL</td>\n",
       "    </tr>\n",
       "    <tr>\n",
       "      <th>1614273</th>\n",
       "      <td>1734125</td>\n",
       "      <td>200128234</td>\n",
       "      <td>Entity</td>\n",
       "      <td>INITIAL</td>\n",
       "    </tr>\n",
       "    <tr>\n",
       "      <th>1614274</th>\n",
       "      <td>1734127</td>\n",
       "      <td>10127496</td>\n",
       "      <td>Entity</td>\n",
       "      <td>INITIAL</td>\n",
       "    </tr>\n",
       "    <tr>\n",
       "      <th>1614275</th>\n",
       "      <td>1734128</td>\n",
       "      <td>10009033</td>\n",
       "      <td>Entity</td>\n",
       "      <td>INITIAL</td>\n",
       "    </tr>\n",
       "    <tr>\n",
       "      <th>1614276</th>\n",
       "      <td>1734129</td>\n",
       "      <td>20098510</td>\n",
       "      <td>Entity</td>\n",
       "      <td>INITIAL</td>\n",
       "    </tr>\n",
       "  </tbody>\n",
       "</table>\n",
       "<p>1614277 rows × 4 columns</p>\n",
       "</div>"
      ],
      "text/plain": [
       "         entity_uid record_uid    label      match_key\n",
       "0               463  240130486  Officer  +NAME+ADDRESS\n",
       "1              1650   56096328  Officer  +NAME+ADDRESS\n",
       "2              1756   56051487  Officer  +NAME+ADDRESS\n",
       "3            100003   56008866  Officer        INITIAL\n",
       "4            100028   80060589  Officer        INITIAL\n",
       "...             ...        ...      ...            ...\n",
       "1614272     1734124   12125912  Officer        INITIAL\n",
       "1614273     1734125  200128234   Entity        INITIAL\n",
       "1614274     1734127   10127496   Entity        INITIAL\n",
       "1614275     1734128   10009033   Entity        INITIAL\n",
       "1614276     1734129   20098510   Entity        INITIAL\n",
       "\n",
       "[1614277 rows x 4 columns]"
      ]
     },
     "execution_count": 14,
     "metadata": {},
     "output_type": "execute_result"
    }
   ],
   "source": [
    "df_load"
   ]
  },
  {
   "cell_type": "markdown",
   "id": "962f19f4-8255-480c-ac64-9c52c0e2dde2",
   "metadata": {},
   "source": [
    "Connect the Senzing entities with records already loaded in Neo4j."
   ]
  },
  {
   "cell_type": "code",
   "execution_count": 15,
   "id": "64dec7ad-457c-4f62-add5-53f92c29fe08",
   "metadata": {
    "execution": {
     "iopub.execute_input": "2024-06-28T17:19:40.728760Z",
     "iopub.status.busy": "2024-06-28T17:19:40.728038Z",
     "iopub.status.idle": "2024-06-28T22:48:13.190891Z",
     "shell.execute_reply": "2024-06-28T22:48:13.189965Z",
     "shell.execute_reply.started": "2024-06-28T17:19:40.728726Z"
    },
    "scrolled": true
   },
   "outputs": [
    {
     "name": "stderr",
     "output_type": "stream",
     "text": [
      "load rows: 1614277it [5:28:32, 81.89it/s] \n"
     ]
    }
   ],
   "source": [
    "for _, row in tqdm(df_load.iterrows(), desc = \"load rows\"):\n",
    "    template: str = f\"\"\"\n",
    "  MATCH\n",
    "    (ent:SzEntity {{uid: {row.entity_uid}}}),\n",
    "    (rec:{row.label} {{node_id: {row.record_uid}}})\n",
    "  MERGE (ent)-[rel:RESOLVES {{match_key: \"{row.match_key}\"}}]->(rec)\n",
    "\"\"\"\n",
    "\n",
    "    gds.run_cypher(template)"
   ]
  },
  {
   "cell_type": "markdown",
   "id": "eba626a6-e3fd-4057-b49c-84417b084de4",
   "metadata": {},
   "source": [
    "Test the results"
   ]
  },
  {
   "cell_type": "code",
   "execution_count": 16,
   "id": "c9538306-738f-4831-8fea-78425af61144",
   "metadata": {
    "execution": {
     "iopub.execute_input": "2024-06-28T22:48:40.708792Z",
     "iopub.status.busy": "2024-06-28T22:48:40.708354Z",
     "iopub.status.idle": "2024-06-28T22:49:03.559284Z",
     "shell.execute_reply": "2024-06-28T22:49:03.559048Z",
     "shell.execute_reply.started": "2024-06-28T22:48:40.708768Z"
    }
   },
   "outputs": [
    {
     "data": {
      "text/html": [
       "<div>\n",
       "<style scoped>\n",
       "    .dataframe tbody tr th:only-of-type {\n",
       "        vertical-align: middle;\n",
       "    }\n",
       "\n",
       "    .dataframe tbody tr th {\n",
       "        vertical-align: top;\n",
       "    }\n",
       "\n",
       "    .dataframe thead th {\n",
       "        text-align: right;\n",
       "    }\n",
       "</style>\n",
       "<table border=\"1\" class=\"dataframe\">\n",
       "  <thead>\n",
       "    <tr style=\"text-align: right;\">\n",
       "      <th></th>\n",
       "      <th>labels(ent)</th>\n",
       "      <th>ent.name</th>\n",
       "      <th>rec.node_id</th>\n",
       "    </tr>\n",
       "  </thead>\n",
       "  <tbody>\n",
       "    <tr>\n",
       "      <th>0</th>\n",
       "      <td>[SzEntity]</td>\n",
       "      <td>HSBC PRIVATE BANK SUISSE S A AXEL STERN</td>\n",
       "      <td>11000398</td>\n",
       "    </tr>\n",
       "    <tr>\n",
       "      <th>1</th>\n",
       "      <td>[SzEntity]</td>\n",
       "      <td>AKSANA PALTARZHYTSKAYA</td>\n",
       "      <td>240130486</td>\n",
       "    </tr>\n",
       "    <tr>\n",
       "      <th>2</th>\n",
       "      <td>[SzEntity]</td>\n",
       "      <td>FAIDRA THEOFANOUS</td>\n",
       "      <td>56096328</td>\n",
       "    </tr>\n",
       "    <tr>\n",
       "      <th>3</th>\n",
       "      <td>[SzEntity]</td>\n",
       "      <td>HANNAH GERTSEN</td>\n",
       "      <td>56051487</td>\n",
       "    </tr>\n",
       "    <tr>\n",
       "      <th>4</th>\n",
       "      <td>[SzEntity]</td>\n",
       "      <td>KPMG HOLDINGS LIMITED</td>\n",
       "      <td>56008866</td>\n",
       "    </tr>\n",
       "    <tr>\n",
       "      <th>...</th>\n",
       "      <td>...</td>\n",
       "      <td>...</td>\n",
       "      <td>...</td>\n",
       "    </tr>\n",
       "    <tr>\n",
       "      <th>1614272</th>\n",
       "      <td>[SzEntity]</td>\n",
       "      <td>NORTHLAKE NOMINEES SERVICES LIMITED</td>\n",
       "      <td>12125912</td>\n",
       "    </tr>\n",
       "    <tr>\n",
       "      <th>1614273</th>\n",
       "      <td>[SzEntity]</td>\n",
       "      <td>Westbond Corporate Services Limited</td>\n",
       "      <td>200128234</td>\n",
       "    </tr>\n",
       "    <tr>\n",
       "      <th>1614274</th>\n",
       "      <td>[SzEntity]</td>\n",
       "      <td>Scout Holdings Limited</td>\n",
       "      <td>10127496</td>\n",
       "    </tr>\n",
       "    <tr>\n",
       "      <th>1614275</th>\n",
       "      <td>[SzEntity]</td>\n",
       "      <td>SAFAT INVESTMENTS LTD S A</td>\n",
       "      <td>10009033</td>\n",
       "    </tr>\n",
       "    <tr>\n",
       "      <th>1614276</th>\n",
       "      <td>[SzEntity]</td>\n",
       "      <td>TRINITY CAPITAL CORPORATION</td>\n",
       "      <td>20098510</td>\n",
       "    </tr>\n",
       "  </tbody>\n",
       "</table>\n",
       "<p>1614277 rows × 3 columns</p>\n",
       "</div>"
      ],
      "text/plain": [
       "        labels(ent)                                 ent.name  rec.node_id\n",
       "0        [SzEntity]  HSBC PRIVATE BANK SUISSE S A AXEL STERN     11000398\n",
       "1        [SzEntity]                   AKSANA PALTARZHYTSKAYA    240130486\n",
       "2        [SzEntity]                        FAIDRA THEOFANOUS     56096328\n",
       "3        [SzEntity]                           HANNAH GERTSEN     56051487\n",
       "4        [SzEntity]                    KPMG HOLDINGS LIMITED     56008866\n",
       "...             ...                                      ...          ...\n",
       "1614272  [SzEntity]      NORTHLAKE NOMINEES SERVICES LIMITED     12125912\n",
       "1614273  [SzEntity]      Westbond Corporate Services Limited    200128234\n",
       "1614274  [SzEntity]                   Scout Holdings Limited     10127496\n",
       "1614275  [SzEntity]                SAFAT INVESTMENTS LTD S A     10009033\n",
       "1614276  [SzEntity]              TRINITY CAPITAL CORPORATION     20098510\n",
       "\n",
       "[1614277 rows x 3 columns]"
      ]
     },
     "execution_count": 16,
     "metadata": {},
     "output_type": "execute_result"
    }
   ],
   "source": [
    "df_test: pd.DataFrame = gds.run_cypher(\n",
    "  \"\"\"\n",
    "MATCH (ent)-[rel:RESOLVES]->(rec)\n",
    "RETURN labels(ent), ent.name, rec.node_id\n",
    "  \"\"\"\n",
    ")\n",
    "\n",
    "df_test"
   ]
  }
 ],
 "metadata": {
  "kernelspec": {
   "display_name": "Python 3 (ipykernel)",
   "language": "python",
   "name": "python3"
  },
  "language_info": {
   "codemirror_mode": {
    "name": "ipython",
    "version": 3
   },
   "file_extension": ".py",
   "mimetype": "text/x-python",
   "name": "python",
   "nbconvert_exporter": "python",
   "pygments_lexer": "ipython3",
   "version": "3.11.9"
  }
 },
 "nbformat": 4,
 "nbformat_minor": 5
}
