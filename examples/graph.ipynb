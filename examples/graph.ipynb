{
 "cells": [
  {
   "cell_type": "markdown",
   "id": "7067d845-9121-47c1-8bc2-65db8f4d7004",
   "metadata": {},
   "source": [
    "# Senzing + Neo4j: Build a knowledge graph"
   ]
  },
  {
   "cell_type": "markdown",
   "id": "78939f8c-3e2c-49b0-b447-213cccfd5ea6",
   "metadata": {
    "execution": {
     "iopub.execute_input": "2024-03-15T19:36:02.310335Z",
     "iopub.status.busy": "2024-03-15T19:36:02.303320Z",
     "iopub.status.idle": "2024-03-15T19:36:02.352513Z",
     "shell.execute_reply": "2024-03-15T19:36:02.348131Z",
     "shell.execute_reply.started": "2024-03-15T19:36:02.310230Z"
    }
   },
   "source": [
    "## Set up the Python environment"
   ]
  },
  {
   "cell_type": "markdown",
   "id": "ea7cc699-a3f7-4768-966a-a7fd77b825c4",
   "metadata": {},
   "source": [
    "First, we need to import the Python library dependencies which are required for the code we'll be running."
   ]
  },
  {
   "cell_type": "code",
   "execution_count": 1,
   "id": "c55880de-2f5f-425d-bdfc-6a9cd19f9777",
   "metadata": {
    "execution": {
     "iopub.execute_input": "2024-04-05T18:56:09.309528Z",
     "iopub.status.busy": "2024-04-05T18:56:09.309164Z",
     "iopub.status.idle": "2024-04-05T18:56:10.526595Z",
     "shell.execute_reply": "2024-04-05T18:56:10.525851Z",
     "shell.execute_reply.started": "2024-04-05T18:56:09.309473Z"
    }
   },
   "outputs": [],
   "source": [
    "from dataclasses import dataclass, field\n",
    "import json\n",
    "import os\n",
    "import pathlib\n",
    "import sys\n",
    "import typing\n",
    "\n",
    "from graphdatascience import GraphDataScience\n",
    "from icecream import ic\n",
    "from tqdm import tqdm\n",
    "import dotenv\n",
    "import neo4j\n",
    "import pandas as pd\n",
    "import watermark\n",
    "\n",
    "%load_ext watermark"
   ]
  },
  {
   "cell_type": "markdown",
   "id": "11331aa0-be80-4de3-bed3-24beb12a57bc",
   "metadata": {},
   "source": [
    "Show a \"watermark\" of which versions are being used for system componenents and library dependencies. This may help in case you need to troubleshoot the dependencies on your system, e.g., if there's some conflict during installation."
   ]
  },
  {
   "cell_type": "code",
   "execution_count": 2,
   "id": "e6a97a2f-e4c4-4086-9dec-bfbf680fd9b9",
   "metadata": {
    "execution": {
     "iopub.execute_input": "2024-04-05T18:56:10.527800Z",
     "iopub.status.busy": "2024-04-05T18:56:10.527415Z",
     "iopub.status.idle": "2024-04-05T18:56:10.551649Z",
     "shell.execute_reply": "2024-04-05T18:56:10.550928Z",
     "shell.execute_reply.started": "2024-04-05T18:56:10.527780Z"
    },
    "scrolled": true
   },
   "outputs": [
    {
     "name": "stdout",
     "output_type": "stream",
     "text": [
      "Last updated: 2024-04-05T11:56:10.529028-07:00\n",
      "\n",
      "Python implementation: CPython\n",
      "Python version       : 3.11.0\n",
      "IPython version      : 8.22.2\n",
      "\n",
      "Compiler    : Clang 13.0.0 (clang-1300.0.29.30)\n",
      "OS          : Darwin\n",
      "Release     : 21.6.0\n",
      "Machine     : x86_64\n",
      "Processor   : i386\n",
      "CPU cores   : 8\n",
      "Architecture: 64bit\n",
      "\n",
      "sys      : 3.11.0 (v3.11.0:deaf509e8f, Oct 24 2022, 14:43:23) [Clang 13.0.0 (clang-1300.0.29.30)]\n",
      "watermark: 2.4.3\n",
      "pandas   : 2.2.1\n",
      "json     : 2.0.9\n",
      "neo4j    : 5.18.0\n",
      "\n"
     ]
    }
   ],
   "source": [
    "%watermark\n",
    "%watermark --iversions"
   ]
  },
  {
   "cell_type": "markdown",
   "id": "81a703a2-d9c4-4b73-8191-7b87398cb6e6",
   "metadata": {},
   "source": [
    "## Parse the results from Senzing"
   ]
  },
  {
   "cell_type": "markdown",
   "id": "c7056f3e-a3cd-478b-ae67-c791ad457dda",
   "metadata": {},
   "source": [
    "Let's define a `dataclass` to represent the parsed results from Senzing entity resolution."
   ]
  },
  {
   "cell_type": "code",
   "execution_count": 3,
   "id": "e5aab1cb-0dbe-4f3c-8fc1-0235207a88a9",
   "metadata": {
    "execution": {
     "iopub.execute_input": "2024-04-05T18:56:10.553550Z",
     "iopub.status.busy": "2024-04-05T18:56:10.553275Z",
     "iopub.status.idle": "2024-04-05T18:56:10.559955Z",
     "shell.execute_reply": "2024-04-05T18:56:10.559132Z",
     "shell.execute_reply.started": "2024-04-05T18:56:10.553521Z"
    }
   },
   "outputs": [],
   "source": [
    "@dataclass(order=False, frozen=False)\n",
    "class Entity:  # pylint: disable=R0902\n",
    "    \"\"\"\n",
    "A data class representing a resolved entity.\n",
    "    \"\"\"\n",
    "    entity_id: id\n",
    "    num_recs: int\n",
    "    records: typing.Set[ str ] = field(default_factory = lambda: set([]))\n",
    "    related: typing.Dict[ int, dict ] = field(default_factory = lambda: {})\n",
    "    has_ref: bool = False"
   ]
  },
  {
   "cell_type": "markdown",
   "id": "425c50d3-3646-4b50-a1e8-3891d8fb7c60",
   "metadata": {},
   "source": [
    "Parse the JSON data from the export, to build a dictionary of entities indexed by their unique identifiers. Also keep track of both the \"resolved\" and \"related\" records for each entity, to use for constructing the knowledge graph from these results."
   ]
  },
  {
   "cell_type": "code",
   "execution_count": 4,
   "id": "3d4c51f4-55d0-4c24-912d-dbd4f84441cf",
   "metadata": {
    "execution": {
     "iopub.execute_input": "2024-04-05T18:56:10.561308Z",
     "iopub.status.busy": "2024-04-05T18:56:10.560974Z",
     "iopub.status.idle": "2024-04-05T18:56:17.949450Z",
     "shell.execute_reply": "2024-04-05T18:56:17.948563Z",
     "shell.execute_reply.started": "2024-04-05T18:56:10.561288Z"
    }
   },
   "outputs": [
    {
     "name": "stderr",
     "output_type": "stream",
     "text": [
      "read JSON: 100%|████████████████████████████████████████████████████████████████████████████████████| 99156/99156 [00:07<00:00, 13931.59it/s]\n"
     ]
    }
   ],
   "source": [
    "export_path: pathlib.Path = pathlib.Path(\"../export.json\")\n",
    "entities: dict = {}\n",
    "\n",
    "with export_path.open() as fp:\n",
    "    for line in tqdm(fp.readlines(), desc = \"read JSON\"):\n",
    "        entity_dat: dict = json.loads(line)\n",
    "        entity_id: int = entity_dat[\"RESOLVED_ENTITY\"][\"ENTITY_ID\"]\n",
    "\n",
    "        records: set = set([\n",
    "            \".\".join([ r[\"DATA_SOURCE\"].upper(), str(r[\"RECORD_ID\"]) ])\n",
    "            for r in entity_dat[\"RESOLVED_ENTITY\"][\"RECORDS\"]\n",
    "        ])\n",
    "\n",
    "        entities[entity_id] = Entity(\n",
    "            entity_id = entity_id,\n",
    "            records = records,\n",
    "            num_recs = len(records),\n",
    "            related = {\n",
    "                r[\"ENTITY_ID\"]: r\n",
    "                for r in entity_dat[\"RELATED_ENTITIES\"]\n",
    "            },\n",
    "        )"
   ]
  },
  {
   "cell_type": "markdown",
   "id": "f53f47ea-0a46-4528-9384-5d85028d1d3c",
   "metadata": {},
   "source": [
    "To finish preparing the input data for resolved entities, let's make a quick traversal of the record linkage and set a flag for \"interesting\" entities which will have relations in the graph to visualize."
   ]
  },
  {
   "cell_type": "code",
   "execution_count": 5,
   "id": "0b97054f-fe09-480b-b9d2-17e071c76981",
   "metadata": {
    "execution": {
     "iopub.execute_input": "2024-04-05T18:56:17.951368Z",
     "iopub.status.busy": "2024-04-05T18:56:17.951056Z",
     "iopub.status.idle": "2024-04-05T18:56:18.173697Z",
     "shell.execute_reply": "2024-04-05T18:56:18.172533Z",
     "shell.execute_reply.started": "2024-04-05T18:56:17.951346Z"
    }
   },
   "outputs": [],
   "source": [
    "for entity in entities.values():\n",
    "    if entity.num_recs > 0:\n",
    "        entity.has_ref = True\n",
    "\n",
    "    for rel_ent_id in entity.related:\n",
    "        entities[rel_ent_id].has_ref = True"
   ]
  },
  {
   "cell_type": "markdown",
   "id": "929fc59f-8f76-4fd0-a99e-10176e0922df",
   "metadata": {},
   "source": [
    "Let's examine one of the resolved entity objects, to see which fields are available"
   ]
  },
  {
   "cell_type": "code",
   "execution_count": 6,
   "id": "b330e219-6766-4551-ba58-eb8745db7899",
   "metadata": {
    "execution": {
     "iopub.execute_input": "2024-04-05T18:56:18.189657Z",
     "iopub.status.busy": "2024-04-05T18:56:18.189013Z",
     "iopub.status.idle": "2024-04-05T18:56:18.217195Z",
     "shell.execute_reply": "2024-04-05T18:56:18.215932Z",
     "shell.execute_reply.started": "2024-04-05T18:56:18.189622Z"
    }
   },
   "outputs": [
    {
     "data": {
      "text/plain": [
       "{'RESOLVED_ENTITY': {'ENTITY_ID': 438737,\n",
       "  'RECORDS': [{'DATA_SOURCE': 'SAFEGRAPH',\n",
       "    'RECORD_ID': 'zzw-222@5yv-c8t-t7q',\n",
       "    'ENTITY_TYPE': 'GENERIC',\n",
       "    'INTERNAL_ID': 438737,\n",
       "    'ENTITY_KEY': '7A2952039A2EDAE86C89FF025284618BB47F5B0E',\n",
       "    'ENTITY_DESC': 'Royalty Renee Salez',\n",
       "    'MATCH_KEY': '',\n",
       "    'MATCH_LEVEL': 0,\n",
       "    'MATCH_LEVEL_CODE': '',\n",
       "    'ERRULE_CODE': '',\n",
       "    'LAST_SEEN_DT': '2024-03-12 18:54:15.638'}]},\n",
       " 'RELATED_ENTITIES': []}"
      ]
     },
     "execution_count": 6,
     "metadata": {},
     "output_type": "execute_result"
    }
   ],
   "source": [
    "entity_dat"
   ]
  },
  {
   "cell_type": "code",
   "execution_count": 7,
   "id": "4e6a500f-14b8-4782-875a-3b3bc918acbe",
   "metadata": {
    "execution": {
     "iopub.execute_input": "2024-04-05T18:56:18.228507Z",
     "iopub.status.busy": "2024-04-05T18:56:18.225677Z",
     "iopub.status.idle": "2024-04-05T18:56:18.451208Z",
     "shell.execute_reply": "2024-04-05T18:56:18.449453Z",
     "shell.execute_reply.started": "2024-04-05T18:56:18.228473Z"
    }
   },
   "outputs": [
    {
     "name": "stderr",
     "output_type": "stream",
     "text": [
      "ic| list(entities.values())[-1]: Entity(entity_id=438737,\n",
      "                                        num_recs=1,\n",
      "                                        records={'SAFEGRAPH.zzw-222@5yv-c8t-t7q'},\n",
      "                                        related={},\n",
      "                                        has_ref=True)\n"
     ]
    }
   ],
   "source": [
    "ic(list(entities.values())[-1]);"
   ]
  },
  {
   "cell_type": "markdown",
   "id": "915d34b2-c582-412f-86ad-8c569387f5ca",
   "metadata": {},
   "source": [
    "## Connect the GDS library to Neo4j Desktop"
   ]
  },
  {
   "cell_type": "markdown",
   "id": "184191bb-8761-4d96-b311-21df568df292",
   "metadata": {
    "execution": {
     "iopub.execute_input": "2024-03-26T21:56:48.062843Z",
     "iopub.status.busy": "2024-03-26T21:56:48.062487Z",
     "iopub.status.idle": "2024-03-26T21:56:48.111484Z",
     "shell.execute_reply": "2024-03-26T21:56:48.100460Z",
     "shell.execute_reply.started": "2024-03-26T21:56:48.062818Z"
    }
   },
   "source": [
    "Set up a GDS connection using our credentials for Neo4j Desktop"
   ]
  },
  {
   "cell_type": "code",
   "execution_count": 8,
   "id": "1bc0cacc-5534-4535-ab7b-1790f0c45e78",
   "metadata": {
    "execution": {
     "iopub.execute_input": "2024-04-05T18:56:18.454354Z",
     "iopub.status.busy": "2024-04-05T18:56:18.453968Z",
     "iopub.status.idle": "2024-04-05T18:56:20.291298Z",
     "shell.execute_reply": "2024-04-05T18:56:20.285882Z",
     "shell.execute_reply.started": "2024-04-05T18:56:18.454326Z"
    }
   },
   "outputs": [],
   "source": [
    "dotenv.load_dotenv(dotenv.find_dotenv())\n",
    "\n",
    "bolt_uri: str = os.environ.get(\"NEO4J_BOLT\")\n",
    "database: str = os.environ.get(\"NEO4J_DBMS\")\n",
    "username: str = os.environ.get(\"NEO4J_USER\")\n",
    "password: str = os.environ.get(\"NEO4J_PASS\")\n",
    "\n",
    "gds:GraphDataScience = GraphDataScience(\n",
    "    bolt_uri,\n",
    "    auth = ( username, password, ),\n",
    "    database = database,\n",
    "    aura_ds = False,\n",
    ")"
   ]
  },
  {
   "cell_type": "markdown",
   "id": "c973c13e-97b9-410d-9b83-4d0118b77be5",
   "metadata": {},
   "source": [
    "## Build the KG in Neo4j"
   ]
  },
  {
   "cell_type": "markdown",
   "id": "a75a6132-0ac8-4c4c-895c-83672a80f9ef",
   "metadata": {},
   "source": [
    "### Populate nodes from the Senzing entities"
   ]
  },
  {
   "cell_type": "code",
   "execution_count": 9,
   "id": "c54df578-89f3-4d94-a6a7-6909f2246b08",
   "metadata": {
    "execution": {
     "iopub.execute_input": "2024-04-05T18:56:20.295485Z",
     "iopub.status.busy": "2024-04-05T18:56:20.294701Z",
     "iopub.status.idle": "2024-04-05T18:56:20.910105Z",
     "shell.execute_reply": "2024-04-05T18:56:20.909381Z",
     "shell.execute_reply.started": "2024-04-05T18:56:20.295434Z"
    }
   },
   "outputs": [
    {
     "data": {
      "text/html": [
       "<div>\n",
       "<style scoped>\n",
       "    .dataframe tbody tr th:only-of-type {\n",
       "        vertical-align: middle;\n",
       "    }\n",
       "\n",
       "    .dataframe tbody tr th {\n",
       "        vertical-align: top;\n",
       "    }\n",
       "\n",
       "    .dataframe thead th {\n",
       "        text-align: right;\n",
       "    }\n",
       "</style>\n",
       "<table border=\"1\" class=\"dataframe\">\n",
       "  <thead>\n",
       "    <tr style=\"text-align: right;\">\n",
       "      <th></th>\n",
       "    </tr>\n",
       "  </thead>\n",
       "  <tbody>\n",
       "  </tbody>\n",
       "</table>\n",
       "</div>"
      ],
      "text/plain": [
       "Empty DataFrame\n",
       "Columns: []\n",
       "Index: []"
      ]
     },
     "execution_count": 9,
     "metadata": {},
     "output_type": "execute_result"
    }
   ],
   "source": [
    "gds.run_cypher(\"\"\"\n",
    "DROP CONSTRAINT `entity_node_key` IF EXISTS\n",
    "\"\"\")\n",
    "\n",
    "gds.run_cypher(\"\"\"\n",
    "CREATE CONSTRAINT `entity_node_key` IF NOT EXISTS\n",
    "  FOR (ent:Entity)\n",
    "  REQUIRE ent.uid IS NODE KEY\n",
    "\"\"\")"
   ]
  },
  {
   "cell_type": "code",
   "execution_count": 10,
   "id": "b7fd822e-7238-4dc0-acb8-878180113818",
   "metadata": {
    "execution": {
     "iopub.execute_input": "2024-04-05T18:56:20.912225Z",
     "iopub.status.busy": "2024-04-05T18:56:20.911929Z",
     "iopub.status.idle": "2024-04-05T18:56:27.611979Z",
     "shell.execute_reply": "2024-04-05T18:56:27.610708Z",
     "shell.execute_reply.started": "2024-04-05T18:56:20.912204Z"
    }
   },
   "outputs": [
    {
     "data": {
      "text/html": [
       "<div>\n",
       "<style scoped>\n",
       "    .dataframe tbody tr th:only-of-type {\n",
       "        vertical-align: middle;\n",
       "    }\n",
       "\n",
       "    .dataframe tbody tr th {\n",
       "        vertical-align: top;\n",
       "    }\n",
       "\n",
       "    .dataframe thead th {\n",
       "        text-align: right;\n",
       "    }\n",
       "</style>\n",
       "<table border=\"1\" class=\"dataframe\">\n",
       "  <thead>\n",
       "    <tr style=\"text-align: right;\">\n",
       "      <th></th>\n",
       "    </tr>\n",
       "  </thead>\n",
       "  <tbody>\n",
       "  </tbody>\n",
       "</table>\n",
       "</div>"
      ],
      "text/plain": [
       "Empty DataFrame\n",
       "Columns: []\n",
       "Index: []"
      ]
     },
     "execution_count": 10,
     "metadata": {},
     "output_type": "execute_result"
    }
   ],
   "source": [
    "df_ent: pd.DataFrame = pd.DataFrame([\n",
    "    {\n",
    "        \"uid\": entity.entity_id,\n",
    "        \"has_ref\": entity.has_ref,\n",
    "    }\n",
    "    for entity in entities.values()\n",
    "])\n",
    "\n",
    "unwind_query: str = \"\"\"\n",
    "UNWIND $rows AS row\n",
    "CALL {\n",
    "  WITH row\n",
    "  MERGE (ent:Entity {uid: row.uid, has_ref: row.has_ref})\n",
    "} IN TRANSACTIONS OF 10000 ROWS\n",
    "    \"\"\"\n",
    "\n",
    "gds.run_cypher(\n",
    "    unwind_query,\n",
    "    {\"rows\": df_ent.to_dict(orient = \"records\")},\n",
    ")"
   ]
  },
  {
   "cell_type": "markdown",
   "id": "14f3491c-09b5-46ab-80aa-e0d7865baaa4",
   "metadata": {
    "execution": {
     "iopub.execute_input": "2024-03-18T16:39:10.289069Z",
     "iopub.status.busy": "2024-03-18T16:39:10.286686Z",
     "iopub.status.idle": "2024-03-18T16:39:10.299516Z",
     "shell.execute_reply": "2024-03-18T16:39:10.298298Z",
     "shell.execute_reply.started": "2024-03-18T16:39:10.288998Z"
    }
   },
   "source": [
    "### Connect the resolved records and related entities"
   ]
  },
  {
   "cell_type": "code",
   "execution_count": 11,
   "id": "d12bdd32-014c-4b92-a172-f07be1f8b012",
   "metadata": {
    "execution": {
     "iopub.execute_input": "2024-04-05T18:56:27.615041Z",
     "iopub.status.busy": "2024-04-05T18:56:27.614683Z",
     "iopub.status.idle": "2024-04-05T18:56:35.804227Z",
     "shell.execute_reply": "2024-04-05T18:56:35.802692Z",
     "shell.execute_reply.started": "2024-04-05T18:56:27.615011Z"
    },
    "scrolled": true
   },
   "outputs": [
    {
     "data": {
      "text/html": [
       "<div>\n",
       "<style scoped>\n",
       "    .dataframe tbody tr th:only-of-type {\n",
       "        vertical-align: middle;\n",
       "    }\n",
       "\n",
       "    .dataframe tbody tr th {\n",
       "        vertical-align: top;\n",
       "    }\n",
       "\n",
       "    .dataframe thead th {\n",
       "        text-align: right;\n",
       "    }\n",
       "</style>\n",
       "<table border=\"1\" class=\"dataframe\">\n",
       "  <thead>\n",
       "    <tr style=\"text-align: right;\">\n",
       "      <th></th>\n",
       "    </tr>\n",
       "  </thead>\n",
       "  <tbody>\n",
       "  </tbody>\n",
       "</table>\n",
       "</div>"
      ],
      "text/plain": [
       "Empty DataFrame\n",
       "Columns: []\n",
       "Index: []"
      ]
     },
     "execution_count": 11,
     "metadata": {},
     "output_type": "execute_result"
    }
   ],
   "source": [
    "df_rec: pd.DataFrame = pd.DataFrame([\n",
    "    {\n",
    "        \"entity_uid\": entity.entity_id,\n",
    "        \"record_uid\": record_uid,\n",
    "    }\n",
    "    for entity in entities.values()\n",
    "    for record_uid in entity.records\n",
    "])\n",
    "\n",
    "unwind_query: str = \"\"\"\n",
    "UNWIND $rows AS row\n",
    "CALL {\n",
    "  WITH row\n",
    "  MATCH\n",
    "    (ent:Entity {uid: row.entity_uid}),\n",
    "    (rec:Record {uid: row.record_uid})       \n",
    "  MERGE (ent)-[:RESOLVES]->(rec)\n",
    "} IN TRANSACTIONS OF 10000 ROWS\n",
    "    \"\"\"\n",
    "\n",
    "gds.run_cypher(\n",
    "    unwind_query,\n",
    "    {\"rows\": df_rec.to_dict(orient = \"records\")},\n",
    ")"
   ]
  },
  {
   "cell_type": "code",
   "execution_count": 12,
   "id": "14b6fd89-47ee-4d18-86cc-1525d33e07a7",
   "metadata": {
    "execution": {
     "iopub.execute_input": "2024-04-05T18:56:35.808701Z",
     "iopub.status.busy": "2024-04-05T18:56:35.807648Z",
     "iopub.status.idle": "2024-04-05T18:56:59.667752Z",
     "shell.execute_reply": "2024-04-05T18:56:59.667089Z",
     "shell.execute_reply.started": "2024-04-05T18:56:35.808672Z"
    }
   },
   "outputs": [
    {
     "data": {
      "text/html": [
       "<div>\n",
       "<style scoped>\n",
       "    .dataframe tbody tr th:only-of-type {\n",
       "        vertical-align: middle;\n",
       "    }\n",
       "\n",
       "    .dataframe tbody tr th {\n",
       "        vertical-align: top;\n",
       "    }\n",
       "\n",
       "    .dataframe thead th {\n",
       "        text-align: right;\n",
       "    }\n",
       "</style>\n",
       "<table border=\"1\" class=\"dataframe\">\n",
       "  <thead>\n",
       "    <tr style=\"text-align: right;\">\n",
       "      <th></th>\n",
       "    </tr>\n",
       "  </thead>\n",
       "  <tbody>\n",
       "  </tbody>\n",
       "</table>\n",
       "</div>"
      ],
      "text/plain": [
       "Empty DataFrame\n",
       "Columns: []\n",
       "Index: []"
      ]
     },
     "execution_count": 12,
     "metadata": {},
     "output_type": "execute_result"
    }
   ],
   "source": [
    "df_rel: pd.DataFrame = pd.DataFrame([\n",
    "    {\n",
    "        \"entity_uid\": entity.entity_id,\n",
    "        \"rel_ent\": rel_ent[\"ENTITY_ID\"],\n",
    "        \"ambiguous\": (rel_ent[\"IS_AMBIGUOUS\"] == 0),\n",
    "        \"disclosed\": (rel_ent[\"IS_DISCLOSED\"] == 0),\n",
    "        \"match_key\": rel_ent[\"MATCH_KEY\"],\n",
    "        \"match_level\": rel_ent[\"MATCH_LEVEL\"],\n",
    "        \"match_level_code\": rel_ent[\"MATCH_LEVEL_CODE\"],\n",
    "    }\n",
    "    for entity in entities.values()\n",
    "    for rel_key, rel_ent in entity.related.items()\n",
    "])\n",
    "\n",
    "unwind_query: str = \"\"\"\n",
    "UNWIND $rows AS row\n",
    "CALL {\n",
    "  WITH row\n",
    "  MATCH\n",
    "    (ent:Entity {uid: row.entity_uid}),\n",
    "    (rel_ent:Entity {uid: row.rel_ent})       \n",
    "  MERGE (ent)-[:RELATED {ambiguous: row.ambiguous, disclosed: row.disclosed, match_key: row.match_key, match_level: row.match_level, match_level_code: row.match_level_code}]->(rel_ent)\n",
    "} IN TRANSACTIONS OF 10000 ROWS\n",
    "    \"\"\"\n",
    "\n",
    "gds.run_cypher(\n",
    "    unwind_query,\n",
    "    {\"rows\": df_rel.to_dict(orient = \"records\")},\n",
    ")"
   ]
  },
  {
   "cell_type": "code",
   "execution_count": 13,
   "id": "7c48bc06-194a-4b43-9837-9a8d0fe16c25",
   "metadata": {
    "execution": {
     "iopub.execute_input": "2024-04-05T18:56:59.670120Z",
     "iopub.status.busy": "2024-04-05T18:56:59.669745Z",
     "iopub.status.idle": "2024-04-05T18:56:59.743847Z",
     "shell.execute_reply": "2024-04-05T18:56:59.743070Z",
     "shell.execute_reply.started": "2024-04-05T18:56:59.670084Z"
    }
   },
   "outputs": [
    {
     "data": {
      "text/html": [
       "<div>\n",
       "<style scoped>\n",
       "    .dataframe tbody tr th:only-of-type {\n",
       "        vertical-align: middle;\n",
       "    }\n",
       "\n",
       "    .dataframe tbody tr th {\n",
       "        vertical-align: top;\n",
       "    }\n",
       "\n",
       "    .dataframe thead th {\n",
       "        text-align: right;\n",
       "    }\n",
       "</style>\n",
       "<table border=\"1\" class=\"dataframe\">\n",
       "  <thead>\n",
       "    <tr style=\"text-align: right;\">\n",
       "      <th></th>\n",
       "      <th>COUNT(ent.uid)</th>\n",
       "    </tr>\n",
       "  </thead>\n",
       "  <tbody>\n",
       "    <tr>\n",
       "      <th>0</th>\n",
       "      <td>99156</td>\n",
       "    </tr>\n",
       "  </tbody>\n",
       "</table>\n",
       "</div>"
      ],
      "text/plain": [
       "   COUNT(ent.uid)\n",
       "0           99156"
      ]
     },
     "execution_count": 13,
     "metadata": {},
     "output_type": "execute_result"
    }
   ],
   "source": [
    "gds.run_cypher(\"\"\"\n",
    "MATCH (ent:Entity)\n",
    "RETURN COUNT(ent.uid)\n",
    "\"\"\")"
   ]
  }
 ],
 "metadata": {
  "kernelspec": {
   "display_name": "Python 3 (ipykernel)",
   "language": "python",
   "name": "python3"
  },
  "language_info": {
   "codemirror_mode": {
    "name": "ipython",
    "version": 3
   },
   "file_extension": ".py",
   "mimetype": "text/x-python",
   "name": "python",
   "nbconvert_exporter": "python",
   "pygments_lexer": "ipython3",
   "version": "3.11.0"
  }
 },
 "nbformat": 4,
 "nbformat_minor": 5
}
