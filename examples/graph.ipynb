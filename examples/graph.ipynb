{
 "cells": [
  {
   "cell_type": "markdown",
   "id": "7067d845-9121-47c1-8bc2-65db8f4d7004",
   "metadata": {},
   "source": [
    "# Senzing + Neo4j: Build a knowledge graph"
   ]
  },
  {
   "cell_type": "markdown",
   "id": "78939f8c-3e2c-49b0-b447-213cccfd5ea6",
   "metadata": {
    "execution": {
     "iopub.execute_input": "2024-03-15T19:36:02.310335Z",
     "iopub.status.busy": "2024-03-15T19:36:02.303320Z",
     "iopub.status.idle": "2024-03-15T19:36:02.352513Z",
     "shell.execute_reply": "2024-03-15T19:36:02.348131Z",
     "shell.execute_reply.started": "2024-03-15T19:36:02.310230Z"
    }
   },
   "source": [
    "## Set up the Python environment"
   ]
  },
  {
   "cell_type": "markdown",
   "id": "ea7cc699-a3f7-4768-966a-a7fd77b825c4",
   "metadata": {},
   "source": [
    "First, we need to import the Python library dependencies which are required for the code we'll be running."
   ]
  },
  {
   "cell_type": "code",
   "execution_count": 8,
   "id": "c55880de-2f5f-425d-bdfc-6a9cd19f9777",
   "metadata": {
    "execution": {
     "iopub.execute_input": "2024-03-31T23:22:14.325783Z",
     "iopub.status.busy": "2024-03-31T23:22:14.324816Z",
     "iopub.status.idle": "2024-03-31T23:22:14.340149Z",
     "shell.execute_reply": "2024-03-31T23:22:14.339451Z",
     "shell.execute_reply.started": "2024-03-31T23:22:14.325734Z"
    }
   },
   "outputs": [
    {
     "name": "stdout",
     "output_type": "stream",
     "text": [
      "The watermark extension is already loaded. To reload it, use:\n",
      "  %reload_ext watermark\n"
     ]
    }
   ],
   "source": [
    "from dataclasses import dataclass, field\n",
    "import json\n",
    "import os\n",
    "import pathlib\n",
    "import sys\n",
    "import typing\n",
    "\n",
    "from icecream import ic\n",
    "from tqdm import tqdm\n",
    "import dotenv\n",
    "import neo4j\n",
    "import pandas as pd\n",
    "import watermark\n",
    "\n",
    "%load_ext watermark"
   ]
  },
  {
   "cell_type": "markdown",
   "id": "11331aa0-be80-4de3-bed3-24beb12a57bc",
   "metadata": {},
   "source": [
    "Show a \"watermark\" of which versions are being used for system componenents and library dependencies. This may help in case you need to troubleshoot the dependencies on your system, e.g., if there's some conflict during installation."
   ]
  },
  {
   "cell_type": "code",
   "execution_count": 2,
   "id": "e6a97a2f-e4c4-4086-9dec-bfbf680fd9b9",
   "metadata": {
    "execution": {
     "iopub.execute_input": "2024-03-31T23:21:47.527965Z",
     "iopub.status.busy": "2024-03-31T23:21:47.527120Z",
     "iopub.status.idle": "2024-03-31T23:21:47.567383Z",
     "shell.execute_reply": "2024-03-31T23:21:47.565974Z",
     "shell.execute_reply.started": "2024-03-31T23:21:47.527928Z"
    },
    "scrolled": true
   },
   "outputs": [
    {
     "name": "stdout",
     "output_type": "stream",
     "text": [
      "Last updated: 2024-03-31T16:21:47.530035-07:00\n",
      "\n",
      "Python implementation: CPython\n",
      "Python version       : 3.11.0\n",
      "IPython version      : 8.22.2\n",
      "\n",
      "Compiler    : Clang 13.0.0 (clang-1300.0.29.30)\n",
      "OS          : Darwin\n",
      "Release     : 21.6.0\n",
      "Machine     : x86_64\n",
      "Processor   : i386\n",
      "CPU cores   : 8\n",
      "Architecture: 64bit\n",
      "\n",
      "watermark: 2.4.3\n",
      "pandas   : 2.2.1\n",
      "sys      : 3.11.0 (v3.11.0:deaf509e8f, Oct 24 2022, 14:43:23) [Clang 13.0.0 (clang-1300.0.29.30)]\n",
      "json     : 2.0.9\n",
      "\n"
     ]
    }
   ],
   "source": [
    "%watermark\n",
    "%watermark --iversions"
   ]
  },
  {
   "cell_type": "markdown",
   "id": "81a703a2-d9c4-4b73-8191-7b87398cb6e6",
   "metadata": {},
   "source": [
    "## Parse the results from Senzing"
   ]
  },
  {
   "cell_type": "markdown",
   "id": "c7056f3e-a3cd-478b-ae67-c791ad457dda",
   "metadata": {},
   "source": [
    "Let's define a `dataclass` to represent the parsed results from Senzing entity resolution."
   ]
  },
  {
   "cell_type": "code",
   "execution_count": 3,
   "id": "e5aab1cb-0dbe-4f3c-8fc1-0235207a88a9",
   "metadata": {
    "execution": {
     "iopub.execute_input": "2024-03-31T23:21:52.940184Z",
     "iopub.status.busy": "2024-03-31T23:21:52.939620Z",
     "iopub.status.idle": "2024-03-31T23:21:52.949331Z",
     "shell.execute_reply": "2024-03-31T23:21:52.948007Z",
     "shell.execute_reply.started": "2024-03-31T23:21:52.940144Z"
    }
   },
   "outputs": [],
   "source": [
    "@dataclass(order=False, frozen=False)\n",
    "class Entity:  # pylint: disable=R0902\n",
    "    \"\"\"\n",
    "A data class representing a resolved entity.\n",
    "    \"\"\"\n",
    "    entity_id: id\n",
    "    num_recs: int\n",
    "    records: typing.Set[ str ] = field(default_factory = lambda: set([]))\n",
    "    related: typing.Dict[ int, dict ] = field(default_factory = lambda: {})\n",
    "    has_ref: bool = False"
   ]
  },
  {
   "cell_type": "markdown",
   "id": "425c50d3-3646-4b50-a1e8-3891d8fb7c60",
   "metadata": {},
   "source": [
    "Parse the JSON data from the export, to build a dictionary of entities indexed by their unique identifiers. Also keep track of both the \"resolved\" and \"related\" records for each entity, to use for constructing the knowledge graph from these results."
   ]
  },
  {
   "cell_type": "code",
   "execution_count": 4,
   "id": "3d4c51f4-55d0-4c24-912d-dbd4f84441cf",
   "metadata": {
    "execution": {
     "iopub.execute_input": "2024-03-31T23:21:54.499713Z",
     "iopub.status.busy": "2024-03-31T23:21:54.498645Z",
     "iopub.status.idle": "2024-03-31T23:21:57.760006Z",
     "shell.execute_reply": "2024-03-31T23:21:57.759285Z",
     "shell.execute_reply.started": "2024-03-31T23:21:54.499678Z"
    }
   },
   "outputs": [
    {
     "name": "stderr",
     "output_type": "stream",
     "text": [
      "read JSON: 100%|████████████████████████████████████████████████████████████████████████████████████| 99156/99156 [00:02<00:00, 34518.40it/s]\n"
     ]
    }
   ],
   "source": [
    "export_path: pathlib.Path = pathlib.Path(\"../export.json\")\n",
    "entities: dict = {}\n",
    "\n",
    "with export_path.open() as fp:\n",
    "    for line in tqdm(fp.readlines(), desc = \"read JSON\"):\n",
    "        entity_dat: dict = json.loads(line)\n",
    "        entity_id: int = entity_dat[\"RESOLVED_ENTITY\"][\"ENTITY_ID\"]\n",
    "\n",
    "        records: set = set([\n",
    "            \".\".join([ r[\"DATA_SOURCE\"].upper(), str(r[\"RECORD_ID\"]) ])\n",
    "            for r in entity_dat[\"RESOLVED_ENTITY\"][\"RECORDS\"]\n",
    "        ])\n",
    "\n",
    "        entities[entity_id] = Entity(\n",
    "            entity_id = entity_id,\n",
    "            records = records,\n",
    "            num_recs = len(records),\n",
    "            related = {\n",
    "                r[\"ENTITY_ID\"]: r\n",
    "                for r in entity_dat[\"RELATED_ENTITIES\"]\n",
    "            },\n",
    "        )"
   ]
  },
  {
   "cell_type": "markdown",
   "id": "f53f47ea-0a46-4528-9384-5d85028d1d3c",
   "metadata": {},
   "source": [
    "To finish preparing the input data for resolved entities, let's make a quick traversal of the record linkage and set a flag for \"interesting\" entities which will have relations in the graph to visualize."
   ]
  },
  {
   "cell_type": "code",
   "execution_count": 5,
   "id": "0b97054f-fe09-480b-b9d2-17e071c76981",
   "metadata": {
    "execution": {
     "iopub.execute_input": "2024-03-31T23:21:59.418890Z",
     "iopub.status.busy": "2024-03-31T23:21:59.418403Z",
     "iopub.status.idle": "2024-03-31T23:21:59.632348Z",
     "shell.execute_reply": "2024-03-31T23:21:59.631476Z",
     "shell.execute_reply.started": "2024-03-31T23:21:59.418853Z"
    }
   },
   "outputs": [],
   "source": [
    "for entity in entities.values():\n",
    "    if entity.num_recs > 0:\n",
    "        entity.has_ref = True\n",
    "\n",
    "    for rel_ent_id in entity.related:\n",
    "        entities[rel_ent_id].has_ref = True"
   ]
  },
  {
   "cell_type": "markdown",
   "id": "929fc59f-8f76-4fd0-a99e-10176e0922df",
   "metadata": {},
   "source": [
    "Let's examine one of the resolved entity objects, to see which fields are available"
   ]
  },
  {
   "cell_type": "code",
   "execution_count": 6,
   "id": "b330e219-6766-4551-ba58-eb8745db7899",
   "metadata": {
    "execution": {
     "iopub.execute_input": "2024-03-31T23:22:01.776016Z",
     "iopub.status.busy": "2024-03-31T23:22:01.773789Z",
     "iopub.status.idle": "2024-03-31T23:22:01.792899Z",
     "shell.execute_reply": "2024-03-31T23:22:01.791811Z",
     "shell.execute_reply.started": "2024-03-31T23:22:01.775866Z"
    }
   },
   "outputs": [
    {
     "data": {
      "text/plain": [
       "{'RESOLVED_ENTITY': {'ENTITY_ID': 438737,\n",
       "  'RECORDS': [{'DATA_SOURCE': 'SAFEGRAPH',\n",
       "    'RECORD_ID': 'zzw-222@5yv-c8t-t7q',\n",
       "    'ENTITY_TYPE': 'GENERIC',\n",
       "    'INTERNAL_ID': 438737,\n",
       "    'ENTITY_KEY': '7A2952039A2EDAE86C89FF025284618BB47F5B0E',\n",
       "    'ENTITY_DESC': 'Royalty Renee Salez',\n",
       "    'MATCH_KEY': '',\n",
       "    'MATCH_LEVEL': 0,\n",
       "    'MATCH_LEVEL_CODE': '',\n",
       "    'ERRULE_CODE': '',\n",
       "    'LAST_SEEN_DT': '2024-03-12 18:54:15.638'}]},\n",
       " 'RELATED_ENTITIES': []}"
      ]
     },
     "execution_count": 6,
     "metadata": {},
     "output_type": "execute_result"
    }
   ],
   "source": [
    "entity_dat"
   ]
  },
  {
   "cell_type": "code",
   "execution_count": 9,
   "id": "4e6a500f-14b8-4782-875a-3b3bc918acbe",
   "metadata": {
    "execution": {
     "iopub.execute_input": "2024-03-31T23:22:21.767179Z",
     "iopub.status.busy": "2024-03-31T23:22:21.766362Z",
     "iopub.status.idle": "2024-03-31T23:22:21.859460Z",
     "shell.execute_reply": "2024-03-31T23:22:21.858438Z",
     "shell.execute_reply.started": "2024-03-31T23:22:21.767137Z"
    }
   },
   "outputs": [
    {
     "name": "stderr",
     "output_type": "stream",
     "text": [
      "ic| list(entities.values())[-1]: Entity(entity_id=438737,\n",
      "                                        num_recs=1,\n",
      "                                        records={'SAFEGRAPH.zzw-222@5yv-c8t-t7q'},\n",
      "                                        related={},\n",
      "                                        has_ref=True)\n"
     ]
    }
   ],
   "source": [
    "ic(list(entities.values())[-1]);"
   ]
  },
  {
   "cell_type": "markdown",
   "id": "915d34b2-c582-412f-86ad-8c569387f5ca",
   "metadata": {},
   "source": [
    "## Connect to Neo4j Desktop"
   ]
  },
  {
   "cell_type": "markdown",
   "id": "184191bb-8761-4d96-b311-21df568df292",
   "metadata": {
    "execution": {
     "iopub.execute_input": "2024-03-26T21:56:48.062843Z",
     "iopub.status.busy": "2024-03-26T21:56:48.062487Z",
     "iopub.status.idle": "2024-03-26T21:56:48.111484Z",
     "shell.execute_reply": "2024-03-26T21:56:48.100460Z",
     "shell.execute_reply.started": "2024-03-26T21:56:48.062818Z"
    }
   },
   "source": [
    "Set up the Python API connection driver using our credentials for Neo4j Desktop"
   ]
  },
  {
   "cell_type": "code",
   "execution_count": 10,
   "id": "1bc0cacc-5534-4535-ab7b-1790f0c45e78",
   "metadata": {
    "execution": {
     "iopub.execute_input": "2024-03-31T23:22:29.074729Z",
     "iopub.status.busy": "2024-03-31T23:22:29.073939Z",
     "iopub.status.idle": "2024-03-31T23:22:29.083890Z",
     "shell.execute_reply": "2024-03-31T23:22:29.082162Z",
     "shell.execute_reply.started": "2024-03-31T23:22:29.074692Z"
    }
   },
   "outputs": [],
   "source": [
    "dotenv.load_dotenv(dotenv.find_dotenv())\n",
    "\n",
    "bolt_uri: str = os.environ.get(\"NEO4J_BOLT\")\n",
    "database: str = os.environ.get(\"NEO4J_DBMS\")\n",
    "username: str = os.environ.get(\"NEO4J_USER\")\n",
    "password: str = os.environ.get(\"NEO4J_PASS\")\n",
    "\n",
    "driver: neo4j.BoltDriver = neo4j.GraphDatabase.driver(\n",
    "    bolt_uri,\n",
    "    auth = ( username, password, ),\n",
    "    database = database,    \n",
    ")"
   ]
  },
  {
   "cell_type": "markdown",
   "id": "c973c13e-97b9-410d-9b83-4d0118b77be5",
   "metadata": {},
   "source": [
    "## Build the KG in Neo4j"
   ]
  },
  {
   "cell_type": "markdown",
   "id": "a75a6132-0ac8-4c4c-895c-83672a80f9ef",
   "metadata": {},
   "source": [
    "### Populate nodes from the Senzing entities"
   ]
  },
  {
   "cell_type": "code",
   "execution_count": 12,
   "id": "cfe0198a-9ec6-4a6b-8101-ecd7db840749",
   "metadata": {
    "execution": {
     "iopub.execute_input": "2024-03-31T23:25:54.075301Z",
     "iopub.status.busy": "2024-03-31T23:25:54.072585Z",
     "iopub.status.idle": "2024-03-31T23:25:54.502026Z",
     "shell.execute_reply": "2024-03-31T23:25:54.501191Z",
     "shell.execute_reply.started": "2024-03-31T23:25:54.075229Z"
    },
    "scrolled": true
   },
   "outputs": [
    {
     "name": "stderr",
     "output_type": "stream",
     "text": [
      "merge entity nodes:   0%|                                                                                          | 0/99156 [00:00<?, ?it/s]\n"
     ]
    }
   ],
   "source": [
    "with driver.session() as session:\n",
    "    for entity in tqdm(entities.values(), desc = \"merge entity nodes\"):\n",
    "        params = {\n",
    "            \"uid\": entity.entity_id,\n",
    "            \"has_ref\": entity.has_ref,\n",
    "        }\n",
    "\n",
    "        session.run(\n",
    "            \"MERGE (ent:Entity {uid: $params.uid, has_ref: $params.has_ref})\",\n",
    "            params = params,\n",
    "        )"
   ]
  },
  {
   "cell_type": "markdown",
   "id": "14f3491c-09b5-46ab-80aa-e0d7865baaa4",
   "metadata": {
    "execution": {
     "iopub.execute_input": "2024-03-18T16:39:10.289069Z",
     "iopub.status.busy": "2024-03-18T16:39:10.286686Z",
     "iopub.status.idle": "2024-03-18T16:39:10.299516Z",
     "shell.execute_reply": "2024-03-18T16:39:10.298298Z",
     "shell.execute_reply.started": "2024-03-18T16:39:10.288998Z"
    }
   },
   "source": [
    "### Connect the resolved records and related entities"
   ]
  },
  {
   "cell_type": "code",
   "execution_count": 20,
   "id": "d12bdd32-014c-4b92-a172-f07be1f8b012",
   "metadata": {
    "execution": {
     "iopub.execute_input": "2024-03-28T19:39:45.079725Z",
     "iopub.status.busy": "2024-03-28T19:39:45.074588Z",
     "iopub.status.idle": "2024-03-28T20:26:16.788007Z",
     "shell.execute_reply": "2024-03-28T20:26:16.639179Z",
     "shell.execute_reply.started": "2024-03-28T19:39:45.079656Z"
    },
    "scrolled": true
   },
   "outputs": [
    {
     "name": "stderr",
     "output_type": "stream",
     "text": [
      "merge ent->rec: 100%|██████████████████████████████████████████████████████████████████████████████████| 99156/99156 [46:31<00:00, 35.52it/s]\n"
     ]
    }
   ],
   "source": [
    "query = \"\"\"\n",
    "MATCH\n",
    "    (ent:Entity {uid: $params.entity_uid}),\n",
    "    (rec:Record {uid: $params.record_uid})       \n",
    "MERGE (ent)-[:RESOLVES]->(rec)\n",
    "\"\"\"\n",
    "\n",
    "with driver.session() as session:\n",
    "    for entity in tqdm(entities.values(), desc = \"merge ent->rec\"):\n",
    "        for record_uid in entity.records:\n",
    "            params = {\n",
    "                \"entity_uid\": entity.entity_id,\n",
    "                \"record_uid\": record_uid,\n",
    "            }\n",
    "\n",
    "            session.run(query, params = params)"
   ]
  },
  {
   "cell_type": "code",
   "execution_count": 22,
   "id": "d4b40061-76a6-4a68-84e5-b86a4ae6a52d",
   "metadata": {
    "execution": {
     "iopub.execute_input": "2024-03-28T20:57:06.242405Z",
     "iopub.status.busy": "2024-03-28T20:57:06.237447Z",
     "iopub.status.idle": "2024-03-28T23:09:36.807928Z",
     "shell.execute_reply": "2024-03-28T23:09:36.784388Z",
     "shell.execute_reply.started": "2024-03-28T20:57:06.242345Z"
    },
    "scrolled": true
   },
   "outputs": [
    {
     "name": "stderr",
     "output_type": "stream",
     "text": [
      "merge ent->rel: 100%|████████████████████████████████████████████████████████████████████████████████| 99156/99156 [2:12:30<00:00, 12.47it/s]\n"
     ]
    }
   ],
   "source": [
    "query = \"\"\"\n",
    "MATCH\n",
    "    (ent:Entity {uid: $params.entity_uid}),\n",
    "    (rel_ent:Entity {uid: $params.rel_ent})       \n",
    "MERGE (ent)-[:RELATED {ambiguous: $params.ambiguous, disclosed: $params.disclosed, match_key: $params.match_key, match_level: $params.match_level, match_level_code: $params.match_level_code}]->(rel_ent)\n",
    "\"\"\"\n",
    "\n",
    "with driver.session() as session:\n",
    "    for entity in tqdm(entities.values(), desc = \"merge ent->rel\"):\n",
    "        for rel_key, rel_ent in entity.related.items():\n",
    "            params = {\n",
    "                \"entity_uid\": entity.entity_id,\n",
    "                \"rel_ent\": rel_ent[\"ENTITY_ID\"],\n",
    "                \"ambiguous\": (rel_ent[\"IS_AMBIGUOUS\"] == 0),\n",
    "                \"disclosed\": (rel_ent[\"IS_DISCLOSED\"] == 0),\n",
    "                \"match_key\": rel_ent[\"MATCH_KEY\"],\n",
    "                \"match_level\": rel_ent[\"MATCH_LEVEL\"],\n",
    "                \"match_level_code\": rel_ent[\"MATCH_LEVEL_CODE\"],\n",
    "            }\n",
    "\n",
    "        session.run(query, params = params)"
   ]
  },
  {
   "cell_type": "code",
   "execution_count": 13,
   "id": "7c48bc06-194a-4b43-9837-9a8d0fe16c25",
   "metadata": {
    "execution": {
     "iopub.execute_input": "2024-03-31T23:29:06.627084Z",
     "iopub.status.busy": "2024-03-31T23:29:06.626603Z",
     "iopub.status.idle": "2024-03-31T23:29:07.236464Z",
     "shell.execute_reply": "2024-03-31T23:29:07.234150Z",
     "shell.execute_reply.started": "2024-03-31T23:29:06.627044Z"
    }
   },
   "outputs": [
    {
     "name": "stderr",
     "output_type": "stream",
     "text": [
      "ic| row: <Record COUNT(ent.uid)=99156>\n"
     ]
    }
   ],
   "source": [
    "query = \"\"\"\n",
    "MATCH (ent:Entity)\n",
    "RETURN COUNT(ent.uid)\n",
    "    \"\"\"\n",
    "    \n",
    "with driver.session() as session:\n",
    "    result = session.run(query)\n",
    "    \n",
    "    for row in result:\n",
    "        ic(row)"
   ]
  }
 ],
 "metadata": {
  "kernelspec": {
   "display_name": "Python 3 (ipykernel)",
   "language": "python",
   "name": "python3"
  },
  "language_info": {
   "codemirror_mode": {
    "name": "ipython",
    "version": 3
   },
   "file_extension": ".py",
   "mimetype": "text/x-python",
   "name": "python",
   "nbconvert_exporter": "python",
   "pygments_lexer": "ipython3",
   "version": "3.11.0"
  }
 },
 "nbformat": 4,
 "nbformat_minor": 5
}
