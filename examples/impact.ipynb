{
 "cells": [
  {
   "cell_type": "markdown",
   "id": "7067d845-9121-47c1-8bc2-65db8f4d7004",
   "metadata": {},
   "source": [
    "# Senzing + Neo4j: Analyze impact of ERKG"
   ]
  },
  {
   "cell_type": "markdown",
   "id": "78939f8c-3e2c-49b0-b447-213cccfd5ea6",
   "metadata": {
    "execution": {
     "iopub.execute_input": "2024-03-15T19:36:02.310335Z",
     "iopub.status.busy": "2024-03-15T19:36:02.303320Z",
     "iopub.status.idle": "2024-03-15T19:36:02.352513Z",
     "shell.execute_reply": "2024-03-15T19:36:02.348131Z",
     "shell.execute_reply.started": "2024-03-15T19:36:02.310230Z"
    }
   },
   "source": [
    "## Set up the Python environment"
   ]
  },
  {
   "cell_type": "markdown",
   "id": "ea7cc699-a3f7-4768-966a-a7fd77b825c4",
   "metadata": {},
   "source": [
    "First, we need to import the Python library dependencies which are required for the code we'll be running."
   ]
  },
  {
   "cell_type": "code",
   "execution_count": 1,
   "id": "c55880de-2f5f-425d-bdfc-6a9cd19f9777",
   "metadata": {
    "execution": {
     "iopub.execute_input": "2024-04-12T04:39:58.866312Z",
     "iopub.status.busy": "2024-04-12T04:39:58.865710Z",
     "iopub.status.idle": "2024-04-12T04:40:01.290553Z",
     "shell.execute_reply": "2024-04-12T04:40:01.289360Z",
     "shell.execute_reply.started": "2024-04-12T04:39:58.866285Z"
    }
   },
   "outputs": [],
   "source": [
    "import os\n",
    "\n",
    "from graphdatascience import GraphDataScience \n",
    "from icecream import ic\n",
    "from tqdm import tqdm\n",
    "import dotenv\n",
    "import matplotlib.pyplot as plt\n",
    "import pandas as pd\n",
    "import pyvis\n",
    "import seaborn as sns\n",
    "import watermark\n",
    "\n",
    "%load_ext watermark"
   ]
  },
  {
   "cell_type": "markdown",
   "id": "11331aa0-be80-4de3-bed3-24beb12a57bc",
   "metadata": {},
   "source": [
    "Show a \"watermark\" of which versions are being used for system componenents and library dependencies. This may help in case you need to troubleshoot the dependencies on your system, e.g., if there's some conflict during installation."
   ]
  },
  {
   "cell_type": "code",
   "execution_count": 2,
   "id": "e6a97a2f-e4c4-4086-9dec-bfbf680fd9b9",
   "metadata": {
    "execution": {
     "iopub.execute_input": "2024-04-12T04:40:01.292159Z",
     "iopub.status.busy": "2024-04-12T04:40:01.291715Z",
     "iopub.status.idle": "2024-04-12T04:40:01.332613Z",
     "shell.execute_reply": "2024-04-12T04:40:01.330839Z",
     "shell.execute_reply.started": "2024-04-12T04:40:01.292133Z"
    },
    "scrolled": true
   },
   "outputs": [
    {
     "name": "stdout",
     "output_type": "stream",
     "text": [
      "Last updated: 2024-04-11T21:40:01.293760-07:00\n",
      "\n",
      "Python implementation: CPython\n",
      "Python version       : 3.11.0\n",
      "IPython version      : 8.23.0\n",
      "\n",
      "Compiler    : Clang 13.0.0 (clang-1300.0.29.30)\n",
      "OS          : Darwin\n",
      "Release     : 21.6.0\n",
      "Machine     : x86_64\n",
      "Processor   : i386\n",
      "CPU cores   : 8\n",
      "Architecture: 64bit\n",
      "\n",
      "pandas    : 2.2.1\n",
      "matplotlib: 3.8.4\n",
      "seaborn   : 0.13.2\n",
      "watermark : 2.4.3\n",
      "pyvis     : 0.3.2\n",
      "\n"
     ]
    }
   ],
   "source": [
    "%watermark\n",
    "%watermark --iversions"
   ]
  },
  {
   "cell_type": "markdown",
   "id": "915d34b2-c582-412f-86ad-8c569387f5ca",
   "metadata": {},
   "source": [
    "## Connect the GDS library to Neo4j Desktop"
   ]
  },
  {
   "cell_type": "markdown",
   "id": "184191bb-8761-4d96-b311-21df568df292",
   "metadata": {
    "execution": {
     "iopub.execute_input": "2024-03-26T21:56:48.062843Z",
     "iopub.status.busy": "2024-03-26T21:56:48.062487Z",
     "iopub.status.idle": "2024-03-26T21:56:48.111484Z",
     "shell.execute_reply": "2024-03-26T21:56:48.100460Z",
     "shell.execute_reply.started": "2024-03-26T21:56:48.062818Z"
    }
   },
   "source": [
    "Set up a GDS connection using our credentials for Neo4j Desktop"
   ]
  },
  {
   "cell_type": "code",
   "execution_count": 3,
   "id": "1bc0cacc-5534-4535-ab7b-1790f0c45e78",
   "metadata": {
    "execution": {
     "iopub.execute_input": "2024-04-12T04:40:01.336090Z",
     "iopub.status.busy": "2024-04-12T04:40:01.335506Z",
     "iopub.status.idle": "2024-04-12T04:40:02.070411Z",
     "shell.execute_reply": "2024-04-12T04:40:02.069853Z",
     "shell.execute_reply.started": "2024-04-12T04:40:01.336059Z"
    }
   },
   "outputs": [],
   "source": [
    "dotenv.load_dotenv(dotenv.find_dotenv())\n",
    "\n",
    "bolt_uri: str = os.environ.get(\"NEO4J_BOLT\")\n",
    "database: str = os.environ.get(\"NEO4J_DBMS\")\n",
    "username: str = os.environ.get(\"NEO4J_USER\")\n",
    "password: str = os.environ.get(\"NEO4J_PASS\")\n",
    "\n",
    "gds:GraphDataScience = GraphDataScience(\n",
    "    bolt_uri,\n",
    "    auth = ( username, password, ),\n",
    "    database = database,\n",
    "    aura_ds = False,\n",
    ")"
   ]
  },
  {
   "cell_type": "markdown",
   "id": "8ae500c9-3f7c-48c8-b734-e89a88e05706",
   "metadata": {},
   "source": [
    "## Analyze the impact of ER"
   ]
  },
  {
   "cell_type": "markdown",
   "id": "da90a1fa-ab92-4976-bee9-a1c467d78173",
   "metadata": {},
   "source": [
    "Now let's analyze the Senzing results, measuring how much the process of _entity resolution_ has consolidated records among the input datasets.\n",
    "In particular, it's helpful to understand:\n",
    "\n",
    "  - total number of entities\n",
    "  - number of entities with linked reference (should be 100% in the graph)\n",
    "  - number of linked records per entity\n",
    "  - number of related entities per entity"
   ]
  },
  {
   "cell_type": "code",
   "execution_count": 4,
   "id": "b2905552-40dc-4e19-8acb-78a8179d7611",
   "metadata": {
    "execution": {
     "iopub.execute_input": "2024-04-12T04:40:02.071831Z",
     "iopub.status.busy": "2024-04-12T04:40:02.071241Z",
     "iopub.status.idle": "2024-04-12T04:40:06.183294Z",
     "shell.execute_reply": "2024-04-12T04:40:06.182662Z",
     "shell.execute_reply.started": "2024-04-12T04:40:02.071804Z"
    }
   },
   "outputs": [],
   "source": [
    "df_ent: pd.DataFrame = gds.run_cypher(\n",
    "  \"\"\"\n",
    "MATCH (ent:Entity)\n",
    "RETURN ent.uid AS ent_uid, COUNT { (ent)-[:RESOLVES]->(:Record) } AS num_rec, COUNT { (ent)-[:RELATED]->(:Entity) } AS num_rel\n",
    "ORDER BY num_rec DESC\n",
    "  \"\"\"\n",
    ")\n",
    "\n",
    "df_rec: pd.DataFrame = gds.run_cypher(\n",
    "  \"\"\"\n",
    "MATCH (ent:Entity)\n",
    "RETURN COUNT(ent.uid) AS count_ent, COUNT { (ent)-[:RESOLVES]->(:Record) } AS num_rec\n",
    "ORDER BY num_rec DESC\n",
    "  \"\"\"\n",
    ")\n",
    "\n",
    "df_rel: pd.DataFrame = gds.run_cypher(\n",
    "  \"\"\"\n",
    "MATCH (ent:Entity)\n",
    "RETURN COUNT(ent.uid) AS count_ent, COUNT { (ent)-[:RELATED]->(:Entity) } AS num_rel\n",
    "ORDER BY num_rel DESC\n",
    "  \"\"\"\n",
    ")"
   ]
  },
  {
   "cell_type": "code",
   "execution_count": 5,
   "id": "0e8c6d36-a02e-45ee-b704-e5cf7e75ba26",
   "metadata": {
    "execution": {
     "iopub.execute_input": "2024-04-12T04:40:06.184565Z",
     "iopub.status.busy": "2024-04-12T04:40:06.184040Z",
     "iopub.status.idle": "2024-04-12T04:40:06.346230Z",
     "shell.execute_reply": "2024-04-12T04:40:06.345081Z",
     "shell.execute_reply.started": "2024-04-12T04:40:06.184544Z"
    }
   },
   "outputs": [
    {
     "name": "stderr",
     "output_type": "stream",
     "text": [
      "ic| total_entities: 83386\n",
      "    total_records: 84988\n",
      "    unref_ents: 0\n",
      "    dupl_rate: 0.02\n"
     ]
    }
   ],
   "source": [
    "total_entities: int = df_ent.ent_uid.count()\n",
    "total_records: int = df_ent.num_rec.sum()\n",
    "unref_ents: int = df_rec.loc[df_rec[\"num_rec\"] < 1].count().iloc[0]\n",
    "dupl_rate: float = round((total_records - total_entities) / float(total_entities), 2)\n",
    "\n",
    "ic(total_entities, total_records, unref_ents, dupl_rate);"
   ]
  },
  {
   "cell_type": "markdown",
   "id": "d65c19ae-ae59-4efb-9556-4f1186cea67d",
   "metadata": {},
   "source": [
    "Great, 100% of the input records have been resolved as entities – as expected.\n",
    "A rate of ~2% duplicates was detected among these records."
   ]
  },
  {
   "cell_type": "markdown",
   "id": "4c936201-c852-41b2-abff-8194a19e2552",
   "metadata": {},
   "source": [
    "Now let's run more detailed statistical analysis, visualizing a histogram of the resolved entities versus their related records from the input datasets."
   ]
  },
  {
   "cell_type": "code",
   "execution_count": 6,
   "id": "80f4c0dd-d318-49eb-b8eb-06a798771e76",
   "metadata": {
    "execution": {
     "iopub.execute_input": "2024-04-12T04:40:06.350521Z",
     "iopub.status.busy": "2024-04-12T04:40:06.350201Z",
     "iopub.status.idle": "2024-04-12T04:40:06.385038Z",
     "shell.execute_reply": "2024-04-12T04:40:06.384540Z",
     "shell.execute_reply.started": "2024-04-12T04:40:06.350500Z"
    }
   },
   "outputs": [
    {
     "data": {
      "text/html": [
       "<div>\n",
       "<style scoped>\n",
       "    .dataframe tbody tr th:only-of-type {\n",
       "        vertical-align: middle;\n",
       "    }\n",
       "\n",
       "    .dataframe tbody tr th {\n",
       "        vertical-align: top;\n",
       "    }\n",
       "\n",
       "    .dataframe thead th {\n",
       "        text-align: right;\n",
       "    }\n",
       "</style>\n",
       "<table border=\"1\" class=\"dataframe\">\n",
       "  <thead>\n",
       "    <tr style=\"text-align: right;\">\n",
       "      <th></th>\n",
       "      <th>ent_uid</th>\n",
       "      <th>num_rec</th>\n",
       "      <th>num_rel</th>\n",
       "    </tr>\n",
       "  </thead>\n",
       "  <tbody>\n",
       "    <tr>\n",
       "      <th>count</th>\n",
       "      <td>83386.000000</td>\n",
       "      <td>83386.000000</td>\n",
       "      <td>83386.000000</td>\n",
       "    </tr>\n",
       "    <tr>\n",
       "      <th>mean</th>\n",
       "      <td>45603.987204</td>\n",
       "      <td>1.019212</td>\n",
       "      <td>4.134459</td>\n",
       "    </tr>\n",
       "    <tr>\n",
       "      <th>std</th>\n",
       "      <td>36222.739725</td>\n",
       "      <td>0.173885</td>\n",
       "      <td>6.380714</td>\n",
       "    </tr>\n",
       "    <tr>\n",
       "      <th>min</th>\n",
       "      <td>1.000000</td>\n",
       "      <td>1.000000</td>\n",
       "      <td>0.000000</td>\n",
       "    </tr>\n",
       "    <tr>\n",
       "      <th>25%</th>\n",
       "      <td>20905.250000</td>\n",
       "      <td>1.000000</td>\n",
       "      <td>1.000000</td>\n",
       "    </tr>\n",
       "    <tr>\n",
       "      <th>50%</th>\n",
       "      <td>41770.500000</td>\n",
       "      <td>1.000000</td>\n",
       "      <td>3.000000</td>\n",
       "    </tr>\n",
       "    <tr>\n",
       "      <th>75%</th>\n",
       "      <td>62639.750000</td>\n",
       "      <td>1.000000</td>\n",
       "      <td>6.000000</td>\n",
       "    </tr>\n",
       "    <tr>\n",
       "      <th>max</th>\n",
       "      <td>203487.000000</td>\n",
       "      <td>14.000000</td>\n",
       "      <td>326.000000</td>\n",
       "    </tr>\n",
       "  </tbody>\n",
       "</table>\n",
       "</div>"
      ],
      "text/plain": [
       "             ent_uid       num_rec       num_rel\n",
       "count   83386.000000  83386.000000  83386.000000\n",
       "mean    45603.987204      1.019212      4.134459\n",
       "std     36222.739725      0.173885      6.380714\n",
       "min         1.000000      1.000000      0.000000\n",
       "25%     20905.250000      1.000000      1.000000\n",
       "50%     41770.500000      1.000000      3.000000\n",
       "75%     62639.750000      1.000000      6.000000\n",
       "max    203487.000000     14.000000    326.000000"
      ]
     },
     "execution_count": 6,
     "metadata": {},
     "output_type": "execute_result"
    }
   ],
   "source": [
    "df_ent.describe()"
   ]
  },
  {
   "cell_type": "code",
   "execution_count": 7,
   "id": "ac11fdfb-3d10-4f81-b992-ff1801cbc690",
   "metadata": {
    "execution": {
     "iopub.execute_input": "2024-04-12T04:40:06.386114Z",
     "iopub.status.busy": "2024-04-12T04:40:06.385941Z",
     "iopub.status.idle": "2024-04-12T04:40:07.010585Z",
     "shell.execute_reply": "2024-04-12T04:40:07.009839Z",
     "shell.execute_reply.started": "2024-04-12T04:40:06.386097Z"
    }
   },
   "outputs": [
    {
     "data": {
      "image/png": "[encoded data removed]",
      "text/plain": [
       "<Figure size 640x480 with 1 Axes>"
      ]
     },
     "metadata": {},
     "output_type": "display_data"
    }
   ],
   "source": [
    "fig, ax = plt.subplots()\n",
    "plt.rcParams[\"font.family\"] = \"sans-serif\"\n",
    "\n",
    "y = sns.barplot(df_rec, y = \"count_ent\", x = \"num_rec\")\n",
    "y.tick_params(axis = \"y\", size = 9, colors = \"gray\")\n",
    "y.bar_label(y.containers[0], padding = 3, color = \"gray\", fontsize = 7)\n",
    "\n",
    "plt.xlabel(\"records per entity\", size = 10, fontstyle = \"italic\")\n",
    "plt.ylabel(\"entity count\", size = 10, fontstyle = \"italic\")\n",
    "\n",
    "rec_mean: float = df_ent.num_rec.mean()\n",
    "plt.axvline(x = rec_mean, color = \"red\", lw = 2.5)\n",
    "\n",
    "sns.despine(bottom = True, left = True)\n",
    "plt.yscale(\"log\")\n",
    "\n",
    "fig.savefig(\"../article/img/graphs.plot.ent_rec.png\")"
   ]
  },
  {
   "cell_type": "code",
   "execution_count": 8,
   "id": "e015a2b9-71e6-4844-890f-a1af043d1619",
   "metadata": {
    "execution": {
     "iopub.execute_input": "2024-04-12T04:40:07.011909Z",
     "iopub.status.busy": "2024-04-12T04:40:07.011633Z",
     "iopub.status.idle": "2024-04-12T04:40:07.381592Z",
     "shell.execute_reply": "2024-04-12T04:40:07.381035Z",
     "shell.execute_reply.started": "2024-04-12T04:40:07.011859Z"
    }
   },
   "outputs": [
    {
     "data": {
      "image/png": "[encoded data removed]",
      "text/plain": [
       "<Figure size 640x480 with 1 Axes>"
      ]
     },
     "metadata": {},
     "output_type": "display_data"
    }
   ],
   "source": [
    "fig, ax = plt.subplots()\n",
    "plt.rcParams[\"font.family\"] = \"sans-serif\"\n",
    "\n",
    "y = sns.scatterplot(df_rel, y = \"count_ent\", x = \"num_rel\")\n",
    "\n",
    "plt.xlabel(\"related entities per entity\", size = 10, fontstyle = \"italic\")\n",
    "plt.ylabel(\"entity count\", size = 10, fontstyle = \"italic\")\n",
    "\n",
    "rel_mean: float = df_ent.num_rel.mean()\n",
    "plt.axvline(x = rel_mean, color = \"red\", lw = 2.5)\n",
    "\n",
    "sns.despine(bottom = True, left = True)\n",
    "plt.yscale(\"log\")\n",
    "\n",
    "fig.savefig(\"../article/img/graphs.plot.ent_rel.png\")"
   ]
  },
  {
   "cell_type": "markdown",
   "id": "0e7e638e-0778-48a6-a273-11df768d446f",
   "metadata": {},
   "source": [
    "## Graph visualizations"
   ]
  },
  {
   "cell_type": "code",
   "execution_count": 9,
   "id": "002b8a7c-76c4-4d31-908d-8f648d9f3bf5",
   "metadata": {
    "execution": {
     "iopub.execute_input": "2024-04-12T04:40:07.383269Z",
     "iopub.status.busy": "2024-04-12T04:40:07.383031Z",
     "iopub.status.idle": "2024-04-12T04:40:11.335267Z",
     "shell.execute_reply": "2024-04-12T04:40:11.334336Z",
     "shell.execute_reply.started": "2024-04-12T04:40:07.383251Z"
    }
   },
   "outputs": [],
   "source": [
    "df_link_rec = gds.run_cypher(\n",
    "  \"\"\"\n",
    "MATCH (ent:Entity)-[rel:RESOLVES]->(rec:Record)\n",
    "RETURN ent.uid AS ent_uid, ent.name AS ent_name, COUNT { (ent)-[:RESOLVES]->(:Record) } as num_rec, rec.uid AS rec_uid, rec.name AS rec_name, rel.match_key AS match_key\n",
    "  \"\"\"\n",
    ")\n",
    "\n",
    "MIN_DEGREE: int = 3  # adjust lower to view a larger graph\n",
    "\n",
    "df_link_rec = df_link_rec.loc[df_link_rec[\"num_rec\"] >= MIN_DEGREE]"
   ]
  },
  {
   "cell_type": "code",
   "execution_count": 10,
   "id": "6fb44630-12e8-42be-bbbf-7bfb8c64694e",
   "metadata": {
    "execution": {
     "iopub.execute_input": "2024-04-12T04:40:11.336749Z",
     "iopub.status.busy": "2024-04-12T04:40:11.336507Z",
     "iopub.status.idle": "2024-04-12T04:40:11.394104Z",
     "shell.execute_reply": "2024-04-12T04:40:11.393274Z",
     "shell.execute_reply.started": "2024-04-12T04:40:11.336727Z"
    }
   },
   "outputs": [
    {
     "name": "stdout",
     "output_type": "stream",
     "text": [
      "Warning: When  cdn_resources is 'local' jupyter notebook has issues displaying graphics on chrome/safari. Use cdn_resources='in_line' or cdn_resources='remote' if you have issues viewing graphics in a notebook.\n",
      "vegas.1.html\n"
     ]
    },
    {
     "data": {
      "text/html": [
       "\n",
       "        <iframe\n",
       "            width=\"100%\"\n",
       "            height=\"600px\"\n",
       "            src=\"vegas.1.html\"\n",
       "            frameborder=\"0\"\n",
       "            allowfullscreen\n",
       "            \n",
       "        ></iframe>\n",
       "        "
      ],
      "text/plain": [
       "<IPython.lib.display.IFrame at 0x1260bd7d0>"
      ]
     },
     "execution_count": 10,
     "metadata": {},
     "output_type": "execute_result"
    }
   ],
   "source": [
    "net: pyvis.network.Network = pyvis.network.Network(notebook = True)\n",
    "\n",
    "for _, row in df_link_rec.iterrows():\n",
    "    net.add_node(\n",
    "        row.rec_uid,\n",
    "        label = row.rec_name,\n",
    "        color = \"blue\",\n",
    "        shape = \"square\",\n",
    "    )\n",
    "\n",
    "net.toggle_physics(True)\n",
    "net.show(\"vegas.1.html\")"
   ]
  },
  {
   "cell_type": "code",
   "execution_count": 11,
   "id": "f0cf23d5-9d7b-4f9d-86d8-e934fe20c795",
   "metadata": {
    "execution": {
     "iopub.execute_input": "2024-04-12T04:40:11.395435Z",
     "iopub.status.busy": "2024-04-12T04:40:11.395234Z",
     "iopub.status.idle": "2024-04-12T04:40:24.334510Z",
     "shell.execute_reply": "2024-04-12T04:40:24.333633Z",
     "shell.execute_reply.started": "2024-04-12T04:40:11.395419Z"
    }
   },
   "outputs": [],
   "source": [
    "df_link_rel: pd.DataFrame = gds.run_cypher(\n",
    "  \"\"\"\n",
    "MATCH (ent:Entity)-[rel:RELATED]->(rel_ent:Entity)\n",
    "RETURN ent.uid AS ent_uid, rel.match_key AS match_key, rel_ent.uid AS rel_uid, rel_ent.name AS rel_name\n",
    "  \"\"\"\n",
    ")"
   ]
  },
  {
   "cell_type": "code",
   "execution_count": 12,
   "id": "1ab87df2-b5bd-412a-82fb-7d5496b73745",
   "metadata": {
    "execution": {
     "iopub.execute_input": "2024-04-12T04:40:24.335966Z",
     "iopub.status.busy": "2024-04-12T04:40:24.335756Z",
     "iopub.status.idle": "2024-04-12T04:40:53.047365Z",
     "shell.execute_reply": "2024-04-12T04:40:53.043119Z",
     "shell.execute_reply.started": "2024-04-12T04:40:24.335946Z"
    }
   },
   "outputs": [
    {
     "name": "stdout",
     "output_type": "stream",
     "text": [
      "Warning: When  cdn_resources is 'local' jupyter notebook has issues displaying graphics on chrome/safari. Use cdn_resources='in_line' or cdn_resources='remote' if you have issues viewing graphics in a notebook.\n",
      "vegas.2.html\n"
     ]
    },
    {
     "data": {
      "text/html": [
       "\n",
       "        <iframe\n",
       "            width=\"100%\"\n",
       "            height=\"600px\"\n",
       "            src=\"vegas.2.html\"\n",
       "            frameborder=\"0\"\n",
       "            allowfullscreen\n",
       "            \n",
       "        ></iframe>\n",
       "        "
      ],
      "text/plain": [
       "<IPython.lib.display.IFrame at 0x126a45310>"
      ]
     },
     "execution_count": 12,
     "metadata": {},
     "output_type": "execute_result"
    }
   ],
   "source": [
    "net: pyvis.network.Network = pyvis.network.Network(notebook = True)\n",
    "\n",
    "for _, row in df_link_rec.iterrows():\n",
    "    net.add_node(\n",
    "        row.rec_uid,\n",
    "        label = row.rec_name,\n",
    "        color = \"blue\",\n",
    "        shape = \"square\",\n",
    "        size = 10,\n",
    "    )\n",
    "    \n",
    "    net.add_node(\n",
    "        row.ent_uid,\n",
    "        label = row.ent_name,\n",
    "        color = \"red\",\n",
    "        shape = \"star\",\n",
    "        size = row.num_rec,\n",
    "    )\n",
    "    \n",
    "    edge = net.add_edge(\n",
    "        row.rec_uid,\n",
    "        row.ent_uid,\n",
    "        label = row.match_key,\n",
    "        color = \"green\",\n",
    "        #value = 1.0,\n",
    "    )\n",
    "\n",
    "# enumerate the nodes, so we can do efficient lookups later\n",
    "node_ids: dict = {\n",
    "    node[\"id\"]: i\n",
    "    for i, node in enumerate(net.nodes)\n",
    "}\n",
    "\n",
    "# link the nodes/edges for \"RELATED\" entities\n",
    "for _, row in df_link_rel.iterrows():\n",
    "    if row.ent_uid in node_ids:\n",
    "        if row.rel_uid not in node_ids:\n",
    "            net.add_node(\n",
    "                row.rel_uid,\n",
    "                label = row.rel_name,\n",
    "                color = \"gray\",\n",
    "                shape = \"star\",\n",
    "                size = 4,\n",
    "            )\n",
    "\n",
    "        edge = net.add_edge(\n",
    "            row.ent_uid,\n",
    "            row.rel_uid,\n",
    "            title = row.match_key,\n",
    "            color = \"#d3d3d3\",\n",
    "        )\n",
    "\n",
    "# add titles (flyover HTML) to show the properties for each node\n",
    "df_recs: pd.DataFrame = gds.run_cypher(\"\"\"\n",
    "MATCH (ent:Entity)-[rel:RESOLVES]->(rec:Record)\n",
    "RETURN rec.uid AS rec_uid, properties(rec) as props\n",
    "\"\"\")\n",
    "\n",
    "for _, row in df_recs.iterrows():\n",
    "    if row.rec_uid in node_ids:\n",
    "        title: str = \"\\n\".join([\n",
    "            f\"{key}: {val}\"\n",
    "            for key, val in row.props.items()\n",
    "        ])\n",
    "        net.nodes[node_ids[row.rec_uid]][\"title\"] = title\n",
    "\n",
    "# set the font size and color for nodes and edges\n",
    "for node in net.nodes:\n",
    "    if \"label\" in node:\n",
    "        node[\"font\"] = {\n",
    "            \"size\": 9,\n",
    "            \"color\": \"gray\",\n",
    "        }\n",
    "\n",
    "for edge in net.edges:\n",
    "    if \"label\" in edge:\n",
    "        edge[\"font\"] = {\n",
    "            \"size\": 8,\n",
    "            \"color\": \"green\",\n",
    "        }\n",
    "\n",
    "# visualize as HTML\n",
    "net.toggle_physics(True)\n",
    "net.show(\"vegas.2.html\")"
   ]
  }
 ],
 "metadata": {
  "kernelspec": {
   "display_name": "Python 3 (ipykernel)",
   "language": "python",
   "name": "python3"
  },
  "language_info": {
   "codemirror_mode": {
    "name": "ipython",
    "version": 3
   },
   "file_extension": ".py",
   "mimetype": "text/x-python",
   "name": "python",
   "nbconvert_exporter": "python",
   "pygments_lexer": "ipython3",
   "version": "3.11.0"
  }
 },
 "nbformat": 4,
 "nbformat_minor": 5
}
