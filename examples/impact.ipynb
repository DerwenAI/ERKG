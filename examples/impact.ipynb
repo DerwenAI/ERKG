{
 "cells": [
  {
   "cell_type": "markdown",
   "id": "7067d845-9121-47c1-8bc2-65db8f4d7004",
   "metadata": {},
   "source": [
    "# Senzing + Neo4j: Analyze impact of ERKG"
   ]
  },
  {
   "cell_type": "markdown",
   "id": "78939f8c-3e2c-49b0-b447-213cccfd5ea6",
   "metadata": {
    "execution": {
     "iopub.execute_input": "2024-03-15T19:36:02.310335Z",
     "iopub.status.busy": "2024-03-15T19:36:02.303320Z",
     "iopub.status.idle": "2024-03-15T19:36:02.352513Z",
     "shell.execute_reply": "2024-03-15T19:36:02.348131Z",
     "shell.execute_reply.started": "2024-03-15T19:36:02.310230Z"
    }
   },
   "source": [
    "## Set up the Python environment"
   ]
  },
  {
   "cell_type": "markdown",
   "id": "ea7cc699-a3f7-4768-966a-a7fd77b825c4",
   "metadata": {},
   "source": [
    "First, we need to import the Python library dependencies which are required for the code we'll be running."
   ]
  },
  {
   "cell_type": "code",
   "execution_count": 1,
   "id": "c55880de-2f5f-425d-bdfc-6a9cd19f9777",
   "metadata": {
    "execution": {
     "iopub.execute_input": "2024-03-31T23:10:00.060351Z",
     "iopub.status.busy": "2024-03-31T23:10:00.057936Z",
     "iopub.status.idle": "2024-03-31T23:10:02.747947Z",
     "shell.execute_reply": "2024-03-31T23:10:02.746963Z",
     "shell.execute_reply.started": "2024-03-31T23:10:00.060216Z"
    }
   },
   "outputs": [],
   "source": [
    "import os\n",
    "\n",
    "from graphdatascience import GraphDataScience \n",
    "from icecream import ic\n",
    "from tqdm import tqdm\n",
    "import dotenv\n",
    "import matplotlib.pyplot as plt\n",
    "import pandas as pd\n",
    "import pyvis\n",
    "import seaborn as sns\n",
    "import watermark\n",
    "\n",
    "%load_ext watermark"
   ]
  },
  {
   "cell_type": "markdown",
   "id": "11331aa0-be80-4de3-bed3-24beb12a57bc",
   "metadata": {},
   "source": [
    "Show a \"watermark\" of which versions are being used for system componenents and library dependencies. This may help in case you need to troubleshoot the dependencies on your system, e.g., if there's some conflict during installation."
   ]
  },
  {
   "cell_type": "code",
   "execution_count": 2,
   "id": "e6a97a2f-e4c4-4086-9dec-bfbf680fd9b9",
   "metadata": {
    "execution": {
     "iopub.execute_input": "2024-03-31T23:10:02.759258Z",
     "iopub.status.busy": "2024-03-31T23:10:02.758623Z",
     "iopub.status.idle": "2024-03-31T23:10:02.812353Z",
     "shell.execute_reply": "2024-03-31T23:10:02.810985Z",
     "shell.execute_reply.started": "2024-03-31T23:10:02.759226Z"
    },
    "scrolled": true
   },
   "outputs": [
    {
     "name": "stdout",
     "output_type": "stream",
     "text": [
      "Last updated: 2024-03-31T16:10:02.761976-07:00\n",
      "\n",
      "Python implementation: CPython\n",
      "Python version       : 3.11.0\n",
      "IPython version      : 8.22.2\n",
      "\n",
      "Compiler    : Clang 13.0.0 (clang-1300.0.29.30)\n",
      "OS          : Darwin\n",
      "Release     : 21.6.0\n",
      "Machine     : x86_64\n",
      "Processor   : i386\n",
      "CPU cores   : 8\n",
      "Architecture: 64bit\n",
      "\n",
      "seaborn   : 0.13.2\n",
      "pandas    : 2.2.1\n",
      "matplotlib: 3.8.3\n",
      "watermark : 2.4.3\n",
      "pyvis     : 0.3.2\n",
      "\n"
     ]
    }
   ],
   "source": [
    "%watermark\n",
    "%watermark --iversions"
   ]
  },
  {
   "cell_type": "markdown",
   "id": "c7056f3e-a3cd-478b-ae67-c791ad457dda",
   "metadata": {},
   "source": [
    "Let's define a `dataclass` to represent the parsed results from Senzing entity resolution."
   ]
  },
  {
   "cell_type": "code",
   "execution_count": 4,
   "id": "e5aab1cb-0dbe-4f3c-8fc1-0235207a88a9",
   "metadata": {
    "execution": {
     "iopub.execute_input": "2024-03-29T20:42:16.602204Z",
     "iopub.status.busy": "2024-03-29T20:42:16.601584Z",
     "iopub.status.idle": "2024-03-29T20:42:16.609794Z",
     "shell.execute_reply": "2024-03-29T20:42:16.608695Z",
     "shell.execute_reply.started": "2024-03-29T20:42:16.602168Z"
    }
   },
   "outputs": [],
   "source": [
    "@dataclass(order=False, frozen=False)\n",
    "class Entity:  # pylint: disable=R0902\n",
    "    \"\"\"\n",
    "A data class representing a resolved entity.\n",
    "    \"\"\"\n",
    "    entity_id: id\n",
    "    num_recs: int\n",
    "    records: typing.Set[ str ] = field(default_factory = lambda: set([]))\n",
    "    related: typing.Dict[ int, dict ] = field(default_factory = lambda: {})\n",
    "    has_ref: bool = False"
   ]
  },
  {
   "cell_type": "markdown",
   "id": "425c50d3-3646-4b50-a1e8-3891d8fb7c60",
   "metadata": {},
   "source": [
    "Parse the JSON data from the export, to build a dictionary of entities indexed by their unique identifiers. Also keep track of both the \"resolved\" and \"related\" records for each entity, to use for constructing the knowledge graph from these results."
   ]
  },
  {
   "cell_type": "code",
   "execution_count": 6,
   "id": "3d4c51f4-55d0-4c24-912d-dbd4f84441cf",
   "metadata": {
    "execution": {
     "iopub.execute_input": "2024-03-29T20:42:30.841249Z",
     "iopub.status.busy": "2024-03-29T20:42:30.840733Z",
     "iopub.status.idle": "2024-03-29T20:42:34.093149Z",
     "shell.execute_reply": "2024-03-29T20:42:34.092109Z",
     "shell.execute_reply.started": "2024-03-29T20:42:30.841186Z"
    }
   },
   "outputs": [
    {
     "name": "stderr",
     "output_type": "stream",
     "text": [
      "read JSON: 100%|████████████████████████████████████████████████████████████████████████████████████| 99156/99156 [00:02<00:00, 33793.16it/s]\n"
     ]
    }
   ],
   "source": [
    "export_path: pathlib.Path = pathlib.Path(\"../export.json\")\n",
    "entities: dict = {}\n",
    "\n",
    "with export_path.open() as fp:\n",
    "    for line in tqdm(fp.readlines(), desc = \"read JSON\"):\n",
    "        entity_dat: dict = json.loads(line)\n",
    "        entity_id: int = entity_dat[\"RESOLVED_ENTITY\"][\"ENTITY_ID\"]\n",
    "\n",
    "        records: set = set([\n",
    "            \".\".join([ r[\"DATA_SOURCE\"].upper(), str(r[\"RECORD_ID\"]) ])\n",
    "            for r in entity_dat[\"RESOLVED_ENTITY\"][\"RECORDS\"]\n",
    "        ])\n",
    "\n",
    "        entities[entity_id] = Entity(\n",
    "            entity_id = entity_id,\n",
    "            records = records,\n",
    "            num_recs = len(records),\n",
    "            related = {\n",
    "                r[\"ENTITY_ID\"]: r\n",
    "                for r in entity_dat[\"RELATED_ENTITIES\"]\n",
    "            },\n",
    "        )"
   ]
  },
  {
   "cell_type": "markdown",
   "id": "f53f47ea-0a46-4528-9384-5d85028d1d3c",
   "metadata": {},
   "source": [
    "To finish preparing the input data for resolved entities, let's make a quick traversal of the record linkage and set a flag for \"interesting\" entities which will have relations in the graph to visualize."
   ]
  },
  {
   "cell_type": "code",
   "execution_count": 7,
   "id": "0b97054f-fe09-480b-b9d2-17e071c76981",
   "metadata": {
    "execution": {
     "iopub.execute_input": "2024-03-29T20:42:41.076965Z",
     "iopub.status.busy": "2024-03-29T20:42:41.076409Z",
     "iopub.status.idle": "2024-03-29T20:42:41.298741Z",
     "shell.execute_reply": "2024-03-29T20:42:41.297900Z",
     "shell.execute_reply.started": "2024-03-29T20:42:41.076924Z"
    }
   },
   "outputs": [],
   "source": [
    "for entity in entities.values():\n",
    "    if entity.num_recs > 0:\n",
    "        entity.has_ref = True\n",
    "\n",
    "    for rel_ent_id in entity.related:\n",
    "        entities[rel_ent_id].has_ref = True"
   ]
  },
  {
   "cell_type": "markdown",
   "id": "929fc59f-8f76-4fd0-a99e-10176e0922df",
   "metadata": {},
   "source": [
    "Let's examine one of the resolved entity objects, to see which fields are available"
   ]
  },
  {
   "cell_type": "code",
   "execution_count": 8,
   "id": "b330e219-6766-4551-ba58-eb8745db7899",
   "metadata": {
    "execution": {
     "iopub.execute_input": "2024-03-29T20:42:45.428608Z",
     "iopub.status.busy": "2024-03-29T20:42:45.428206Z",
     "iopub.status.idle": "2024-03-29T20:42:45.437962Z",
     "shell.execute_reply": "2024-03-29T20:42:45.437122Z",
     "shell.execute_reply.started": "2024-03-29T20:42:45.428578Z"
    }
   },
   "outputs": [
    {
     "data": {
      "text/plain": [
       "{'RESOLVED_ENTITY': {'ENTITY_ID': 438737,\n",
       "  'RECORDS': [{'DATA_SOURCE': 'SAFEGRAPH',\n",
       "    'RECORD_ID': 'zzw-222@5yv-c8t-t7q',\n",
       "    'ENTITY_TYPE': 'GENERIC',\n",
       "    'INTERNAL_ID': 438737,\n",
       "    'ENTITY_KEY': '7A2952039A2EDAE86C89FF025284618BB47F5B0E',\n",
       "    'ENTITY_DESC': 'Royalty Renee Salez',\n",
       "    'MATCH_KEY': '',\n",
       "    'MATCH_LEVEL': 0,\n",
       "    'MATCH_LEVEL_CODE': '',\n",
       "    'ERRULE_CODE': '',\n",
       "    'LAST_SEEN_DT': '2024-03-12 18:54:15.638'}]},\n",
       " 'RELATED_ENTITIES': []}"
      ]
     },
     "execution_count": 8,
     "metadata": {},
     "output_type": "execute_result"
    }
   ],
   "source": [
    "entity_dat"
   ]
  },
  {
   "cell_type": "code",
   "execution_count": 9,
   "id": "4e6a500f-14b8-4782-875a-3b3bc918acbe",
   "metadata": {
    "execution": {
     "iopub.execute_input": "2024-03-29T20:42:48.159509Z",
     "iopub.status.busy": "2024-03-29T20:42:48.158806Z",
     "iopub.status.idle": "2024-03-29T20:42:48.262470Z",
     "shell.execute_reply": "2024-03-29T20:42:48.261265Z",
     "shell.execute_reply.started": "2024-03-29T20:42:48.159461Z"
    }
   },
   "outputs": [
    {
     "name": "stderr",
     "output_type": "stream",
     "text": [
      "ic| list(entities.values())[-1]: Entity(entity_id=438737,\n",
      "                                        num_recs=1,\n",
      "                                        records={'SAFEGRAPH.zzw-222@5yv-c8t-t7q'},\n",
      "                                        related={},\n",
      "                                        has_ref=True)\n"
     ]
    }
   ],
   "source": [
    "ic(list(entities.values())[-1]);"
   ]
  },
  {
   "cell_type": "markdown",
   "id": "915d34b2-c582-412f-86ad-8c569387f5ca",
   "metadata": {},
   "source": [
    "## Connect the GDS library to Neo4j Desktop"
   ]
  },
  {
   "cell_type": "markdown",
   "id": "184191bb-8761-4d96-b311-21df568df292",
   "metadata": {
    "execution": {
     "iopub.execute_input": "2024-03-26T21:56:48.062843Z",
     "iopub.status.busy": "2024-03-26T21:56:48.062487Z",
     "iopub.status.idle": "2024-03-26T21:56:48.111484Z",
     "shell.execute_reply": "2024-03-26T21:56:48.100460Z",
     "shell.execute_reply.started": "2024-03-26T21:56:48.062818Z"
    }
   },
   "source": [
    "Set up a GDS connection using our credentials for Neo4j Desktop"
   ]
  },
  {
   "cell_type": "code",
   "execution_count": 2,
   "id": "1bc0cacc-5534-4535-ab7b-1790f0c45e78",
   "metadata": {
    "execution": {
     "iopub.execute_input": "2024-03-29T20:38:35.835039Z",
     "iopub.status.busy": "2024-03-29T20:38:35.832784Z",
     "iopub.status.idle": "2024-03-29T20:38:36.000214Z",
     "shell.execute_reply": "2024-03-29T20:38:35.998901Z",
     "shell.execute_reply.started": "2024-03-29T20:38:35.834989Z"
    }
   },
   "outputs": [],
   "source": [
    "dotenv.load_dotenv(dotenv.find_dotenv())\n",
    "\n",
    "bolt_uri: str = os.environ.get(\"NEO4J_BOLT\")\n",
    "database: str = os.environ.get(\"NEO4J_DBMS\")\n",
    "username: str = os.environ.get(\"NEO4J_USER\")\n",
    "password: str = os.environ.get(\"NEO4J_PASS\")\n",
    "\n",
    "gds:GraphDataScience = GraphDataScience(\n",
    "    bolt_uri,\n",
    "    auth = ( username, password, ),\n",
    "    database = database,\n",
    "    aura_ds = False,\n",
    ")"
   ]
  },
  {
   "cell_type": "markdown",
   "id": "a75a6132-0ac8-4c4c-895c-83672a80f9ef",
   "metadata": {},
   "source": [
    "### Populate nodes from the Senzing entities"
   ]
  },
  {
   "cell_type": "code",
   "execution_count": 19,
   "id": "cfe0198a-9ec6-4a6b-8101-ecd7db840749",
   "metadata": {
    "execution": {
     "iopub.execute_input": "2024-03-28T18:35:21.815350Z",
     "iopub.status.busy": "2024-03-28T18:35:21.813967Z",
     "iopub.status.idle": "2024-03-28T19:26:41.971013Z",
     "shell.execute_reply": "2024-03-28T19:26:41.949566Z",
     "shell.execute_reply.started": "2024-03-28T18:35:21.815316Z"
    },
    "scrolled": true
   },
   "outputs": [
    {
     "name": "stderr",
     "output_type": "stream",
     "text": [
      "merge entity nodes: 100%|██████████████████████████████████████████████████████████████████████████████| 99156/99156 [51:19<00:00, 32.19it/s]\n"
     ]
    }
   ],
   "source": [
    "for entity in tqdm(entities.values(), desc = \"merge entity nodes\"):\n",
    "    params = {\n",
    "        \"uid\": entity.entity_id,\n",
    "        \"has_ref\": entity.has_ref,\n",
    "    }\n",
    "\n",
    "    gds.run_cypher(\n",
    "        \"MERGE (ent:Entity {uid: $uid, has_ref: $has_ref})\",\n",
    "        params,\n",
    "    )"
   ]
  },
  {
   "cell_type": "markdown",
   "id": "14f3491c-09b5-46ab-80aa-e0d7865baaa4",
   "metadata": {
    "execution": {
     "iopub.execute_input": "2024-03-18T16:39:10.289069Z",
     "iopub.status.busy": "2024-03-18T16:39:10.286686Z",
     "iopub.status.idle": "2024-03-18T16:39:10.299516Z",
     "shell.execute_reply": "2024-03-18T16:39:10.298298Z",
     "shell.execute_reply.started": "2024-03-18T16:39:10.288998Z"
    }
   },
   "source": [
    "### Connect the resolved records and related entities"
   ]
  },
  {
   "cell_type": "code",
   "execution_count": 20,
   "id": "d12bdd32-014c-4b92-a172-f07be1f8b012",
   "metadata": {
    "execution": {
     "iopub.execute_input": "2024-03-28T19:39:45.079725Z",
     "iopub.status.busy": "2024-03-28T19:39:45.074588Z",
     "iopub.status.idle": "2024-03-28T20:26:16.788007Z",
     "shell.execute_reply": "2024-03-28T20:26:16.639179Z",
     "shell.execute_reply.started": "2024-03-28T19:39:45.079656Z"
    },
    "scrolled": true
   },
   "outputs": [
    {
     "name": "stderr",
     "output_type": "stream",
     "text": [
      "merge ent->rec: 100%|██████████████████████████████████████████████████████████████████████████████████| 99156/99156 [46:31<00:00, 35.52it/s]\n"
     ]
    }
   ],
   "source": [
    "query = \"\"\"\n",
    "MATCH\n",
    "    (ent:Entity {uid: $entity_uid}),\n",
    "    (rec:Record {uid: $record_uid})       \n",
    "MERGE (ent)-[:RESOLVES]->(rec)\n",
    "\"\"\"\n",
    "\n",
    "for entity in tqdm(entities.values(), desc = \"merge ent->rec\"):\n",
    "    for record_uid in entity.records:\n",
    "        params = {\n",
    "            \"entity_uid\": entity.entity_id,\n",
    "            \"record_uid\": record_uid,\n",
    "        }\n",
    "\n",
    "        gds.run_cypher(query, params)"
   ]
  },
  {
   "cell_type": "code",
   "execution_count": 22,
   "id": "d4b40061-76a6-4a68-84e5-b86a4ae6a52d",
   "metadata": {
    "execution": {
     "iopub.execute_input": "2024-03-28T20:57:06.242405Z",
     "iopub.status.busy": "2024-03-28T20:57:06.237447Z",
     "iopub.status.idle": "2024-03-28T23:09:36.807928Z",
     "shell.execute_reply": "2024-03-28T23:09:36.784388Z",
     "shell.execute_reply.started": "2024-03-28T20:57:06.242345Z"
    },
    "scrolled": true
   },
   "outputs": [
    {
     "name": "stderr",
     "output_type": "stream",
     "text": [
      "merge ent->rel: 100%|████████████████████████████████████████████████████████████████████████████████| 99156/99156 [2:12:30<00:00, 12.47it/s]\n"
     ]
    }
   ],
   "source": [
    "query = \"\"\"\n",
    "MATCH\n",
    "    (ent:Entity {uid: $entity_uid}),\n",
    "    (rel_ent:Entity {uid: $rel_ent})       \n",
    "MERGE (ent)-[:RELATED {ambiguous: $ambiguous, disclosed: $disclosed, match_key: $match_key, match_level: $match_level, match_level_code: $match_level_code}]->(rel_ent)\n",
    "\"\"\"\n",
    "\n",
    "for entity in tqdm(entities.values(), desc = \"merge ent->rel\"):\n",
    "    for rel_key, rel_ent in entity.related.items():\n",
    "        params = {\n",
    "            \"entity_uid\": entity.entity_id,\n",
    "            \"rel_ent\": rel_ent[\"ENTITY_ID\"],\n",
    "            \"ambiguous\": (rel_ent[\"IS_AMBIGUOUS\"] == 0),\n",
    "            \"disclosed\": (rel_ent[\"IS_DISCLOSED\"] == 0),\n",
    "            \"match_key\": rel_ent[\"MATCH_KEY\"],\n",
    "            \"match_level\": rel_ent[\"MATCH_LEVEL\"],\n",
    "            \"match_level_code\": rel_ent[\"MATCH_LEVEL_CODE\"],\n",
    "        }\n",
    "\n",
    "        gds.run_cypher(query, params)"
   ]
  },
  {
   "cell_type": "code",
   "execution_count": 24,
   "id": "7c48bc06-194a-4b43-9837-9a8d0fe16c25",
   "metadata": {
    "execution": {
     "iopub.execute_input": "2024-03-28T23:33:04.830131Z",
     "iopub.status.busy": "2024-03-28T23:33:04.827721Z",
     "iopub.status.idle": "2024-03-28T23:33:05.490210Z",
     "shell.execute_reply": "2024-03-28T23:33:05.487891Z",
     "shell.execute_reply.started": "2024-03-28T23:33:04.830056Z"
    }
   },
   "outputs": [
    {
     "data": {
      "text/html": [
       "<div>\n",
       "<style scoped>\n",
       "    .dataframe tbody tr th:only-of-type {\n",
       "        vertical-align: middle;\n",
       "    }\n",
       "\n",
       "    .dataframe tbody tr th {\n",
       "        vertical-align: top;\n",
       "    }\n",
       "\n",
       "    .dataframe thead th {\n",
       "        text-align: right;\n",
       "    }\n",
       "</style>\n",
       "<table border=\"1\" class=\"dataframe\">\n",
       "  <thead>\n",
       "    <tr style=\"text-align: right;\">\n",
       "      <th></th>\n",
       "      <th>COUNT(ent.uid)</th>\n",
       "    </tr>\n",
       "  </thead>\n",
       "  <tbody>\n",
       "    <tr>\n",
       "      <th>0</th>\n",
       "      <td>99156</td>\n",
       "    </tr>\n",
       "  </tbody>\n",
       "</table>\n",
       "</div>"
      ],
      "text/plain": [
       "   COUNT(ent.uid)\n",
       "0           99156"
      ]
     },
     "execution_count": 24,
     "metadata": {},
     "output_type": "execute_result"
    }
   ],
   "source": [
    "query = \"\"\"\n",
    "MATCH (ent:Entity)\n",
    "RETURN COUNT(ent.uid)\n",
    "    \"\"\"\n",
    "    \n",
    "gds.run_cypher(query, params)"
   ]
  },
  {
   "cell_type": "markdown",
   "id": "8ae500c9-3f7c-48c8-b734-e89a88e05706",
   "metadata": {},
   "source": [
    "## Analyze the impact of ER"
   ]
  },
  {
   "cell_type": "markdown",
   "id": "da90a1fa-ab92-4976-bee9-a1c467d78173",
   "metadata": {},
   "source": [
    "Now let's analyze the Senzing results, measuring how much the process of _entity resolution_ has consolidated records among the input datasets.\n",
    "In particular, it's helpful to understand:\n",
    "\n",
    "  - total number of entities\n",
    "  - number of entities with linked reference (should be 100% in the graph)\n",
    "  - number of linked records per entity\n",
    "  - number of related entities per entity"
   ]
  },
  {
   "cell_type": "code",
   "execution_count": 50,
   "id": "b2905552-40dc-4e19-8acb-78a8179d7611",
   "metadata": {
    "execution": {
     "iopub.execute_input": "2024-03-29T21:17:58.694670Z",
     "iopub.status.busy": "2024-03-29T21:17:58.693921Z",
     "iopub.status.idle": "2024-03-29T21:18:03.459952Z",
     "shell.execute_reply": "2024-03-29T21:18:03.459219Z",
     "shell.execute_reply.started": "2024-03-29T21:17:58.694618Z"
    }
   },
   "outputs": [],
   "source": [
    "df_ent: pd.DataFrame = gds.run_cypher(\n",
    "  \"\"\"\n",
    "MATCH (ent:Entity)\n",
    "RETURN ent.uid AS ent_uid, COUNT { (ent)-[:RESOLVES]->(:Record) } AS num_rec, COUNT { (ent)-[:RELATED]->(:Entity) } AS num_rel\n",
    "ORDER BY num_rec DESC\n",
    "  \"\"\"\n",
    ")\n",
    "\n",
    "df_rec: pd.DataFrame = gds.run_cypher(\n",
    "  \"\"\"\n",
    "MATCH (ent:Entity)\n",
    "RETURN COUNT(ent.uid) AS count_ent, COUNT { (ent)-[:RESOLVES]->(:Record) } AS num_rec\n",
    "ORDER BY num_rec DESC\n",
    "  \"\"\"\n",
    ")\n",
    "\n",
    "df_rel: pd.DataFrame = gds.run_cypher(\n",
    "  \"\"\"\n",
    "MATCH (ent:Entity)\n",
    "RETURN COUNT(ent.uid) AS count_ent, COUNT { (ent)-[:RELATED]->(:Entity) } AS num_rel\n",
    "ORDER BY num_rel DESC\n",
    "  \"\"\"\n",
    ")"
   ]
  },
  {
   "cell_type": "code",
   "execution_count": 51,
   "id": "0e8c6d36-a02e-45ee-b704-e5cf7e75ba26",
   "metadata": {
    "execution": {
     "iopub.execute_input": "2024-03-29T21:18:03.463094Z",
     "iopub.status.busy": "2024-03-29T21:18:03.461305Z",
     "iopub.status.idle": "2024-03-29T21:18:03.513433Z",
     "shell.execute_reply": "2024-03-29T21:18:03.511873Z",
     "shell.execute_reply.started": "2024-03-29T21:18:03.463066Z"
    }
   },
   "outputs": [
    {
     "name": "stderr",
     "output_type": "stream",
     "text": [
      "ic| total_entities: 99156\n",
      "    total_records: 103827\n",
      "    unref_ents: 0\n",
      "    dupl_rate: 0.05\n"
     ]
    }
   ],
   "source": [
    "total_entities: int = df_ent.ent_uid.count()\n",
    "total_records: int = df_ent.num_rec.sum()\n",
    "unref_ents: int = df_rec.loc[df_rec[\"num_rec\"] < 1].count().iloc[0]\n",
    "dupl_rate: float = round((total_records - total_entities) / float(total_entities), 2)\n",
    "\n",
    "ic(total_entities, total_records, unref_ents, dupl_rate);"
   ]
  },
  {
   "cell_type": "markdown",
   "id": "d65c19ae-ae59-4efb-9556-4f1186cea67d",
   "metadata": {},
   "source": [
    "Great, 100% of the input records have been resolved as entities – as expected.\n",
    "A rate of ~5% duplicates was detected among these records."
   ]
  },
  {
   "cell_type": "markdown",
   "id": "4c936201-c852-41b2-abff-8194a19e2552",
   "metadata": {},
   "source": [
    "Now let's run more detailed statistical analysis, visualizing a histogram of the resolved entities versus their related records from the input datasets."
   ]
  },
  {
   "cell_type": "code",
   "execution_count": 52,
   "id": "fe5a2c12-06f3-4c39-a255-8c6720d4eae9",
   "metadata": {
    "execution": {
     "iopub.execute_input": "2024-03-29T21:18:33.104792Z",
     "iopub.status.busy": "2024-03-29T21:18:33.104422Z",
     "iopub.status.idle": "2024-03-29T21:18:33.131493Z",
     "shell.execute_reply": "2024-03-29T21:18:33.130418Z",
     "shell.execute_reply.started": "2024-03-29T21:18:33.104763Z"
    }
   },
   "outputs": [
    {
     "name": "stderr",
     "output_type": "stream",
     "text": [
      "ic| rel_mean: 2.566501270724918\n"
     ]
    }
   ],
   "source": [
    "rel_mean: float = df_ent.num_rel.mean()\n",
    "ic(rel_mean);"
   ]
  },
  {
   "cell_type": "code",
   "execution_count": 53,
   "id": "149572af-ffbb-4a6a-8821-ac29eeca171c",
   "metadata": {
    "execution": {
     "iopub.execute_input": "2024-03-29T21:19:07.515035Z",
     "iopub.status.busy": "2024-03-29T21:19:07.514218Z",
     "iopub.status.idle": "2024-03-29T21:19:08.178081Z",
     "shell.execute_reply": "2024-03-29T21:19:08.177366Z",
     "shell.execute_reply.started": "2024-03-29T21:19:07.514968Z"
    }
   },
   "outputs": [
    {
     "data": {
      "image/png": "[encoded data removed]",
      "text/plain": [
       "<Figure size 640x480 with 1 Axes>"
      ]
     },
     "metadata": {},
     "output_type": "display_data"
    }
   ],
   "source": [
    "fig, ax = plt.subplots()\n",
    "plt.rcParams[\"font.family\"] = \"sans-serif\"\n",
    "\n",
    "y = sns.barplot(df_rel, y = \"count_ent\", x = \"num_rel\")\n",
    "y.tick_params(axis = \"y\", size = 9, colors = \"gray\")\n",
    "y.bar_label(y.containers[0], padding = 3, color = \"gray\", fontsize = 7)\n",
    "\n",
    "plt.xlabel(\"related entities per entity\", size = 10, fontstyle = \"italic\")\n",
    "plt.ylabel(\"entity count\", size = 10, fontstyle = \"italic\")\n",
    "\n",
    "plt.axvline(x = rel_mean, color = \"red\", lw = 2.5)\n",
    "\n",
    "sns.despine(bottom = True, left = True)\n",
    "plt.yscale(\"log\")\n",
    "\n",
    "fig.savefig(\"../article/img/graphs.plot.ent_rel.png\")"
   ]
  },
  {
   "cell_type": "code",
   "execution_count": 46,
   "id": "342decb0-099c-4072-a879-9dc8b91d465a",
   "metadata": {
    "execution": {
     "iopub.execute_input": "2024-03-29T21:12:26.124260Z",
     "iopub.status.busy": "2024-03-29T21:12:26.123645Z",
     "iopub.status.idle": "2024-03-29T21:12:26.148465Z",
     "shell.execute_reply": "2024-03-29T21:12:26.147791Z",
     "shell.execute_reply.started": "2024-03-29T21:12:26.124233Z"
    }
   },
   "outputs": [
    {
     "name": "stderr",
     "output_type": "stream",
     "text": [
      "ic| rec_mean: 1.0471075880430836\n"
     ]
    }
   ],
   "source": [
    "rec_mean: float = df_ent.num_rec.mean()\n",
    "ic(rec_mean);"
   ]
  },
  {
   "cell_type": "code",
   "execution_count": 55,
   "id": "ac11fdfb-3d10-4f81-b992-ff1801cbc690",
   "metadata": {
    "execution": {
     "iopub.execute_input": "2024-03-29T21:19:37.516931Z",
     "iopub.status.busy": "2024-03-29T21:19:37.516618Z",
     "iopub.status.idle": "2024-03-29T21:19:38.263265Z",
     "shell.execute_reply": "2024-03-29T21:19:38.262670Z",
     "shell.execute_reply.started": "2024-03-29T21:19:37.516908Z"
    }
   },
   "outputs": [
    {
     "data": {
      "image/png": "[encoded data removed]",
      "text/plain": [
       "<Figure size 640x480 with 1 Axes>"
      ]
     },
     "metadata": {},
     "output_type": "display_data"
    }
   ],
   "source": [
    "fig, ax = plt.subplots()\n",
    "plt.rcParams[\"font.family\"] = \"sans-serif\"\n",
    "\n",
    "y = sns.barplot(df_rec, y = \"count_ent\", x = \"num_rec\")\n",
    "y.tick_params(axis = \"y\", size = 9, colors = \"gray\")\n",
    "y.bar_label(y.containers[0], padding = 3, color = \"gray\", fontsize = 7)\n",
    "\n",
    "plt.xlabel(\"records per entity\", size = 10, fontstyle = \"italic\")\n",
    "plt.ylabel(\"entity count\", size = 10, fontstyle = \"italic\")\n",
    "\n",
    "plt.axvline(x = rec_mean, color = \"red\", lw = 2.5)\n",
    "\n",
    "sns.despine(bottom = True, left = True)\n",
    "plt.yscale(\"log\")\n",
    "\n",
    "fig.savefig(\"../article/img/graphs.plot.ent_rec.png\")"
   ]
  },
  {
   "cell_type": "markdown",
   "id": "0e7e638e-0778-48a6-a273-11df768d446f",
   "metadata": {},
   "source": [
    "## Graph visualizations"
   ]
  },
  {
   "cell_type": "code",
   "execution_count": 12,
   "id": "002b8a7c-76c4-4d31-908d-8f648d9f3bf5",
   "metadata": {
    "execution": {
     "iopub.execute_input": "2024-03-29T01:24:46.191421Z",
     "iopub.status.busy": "2024-03-29T01:24:46.185508Z",
     "iopub.status.idle": "2024-03-29T01:24:51.098423Z",
     "shell.execute_reply": "2024-03-29T01:24:51.097274Z",
     "shell.execute_reply.started": "2024-03-29T01:24:46.191351Z"
    }
   },
   "outputs": [],
   "source": [
    "df_link = gds.run_cypher(\n",
    "  \"\"\"\n",
    "MATCH (ent:Entity)-[:RESOLVES]->(rec:Record)\n",
    "RETURN ent.uid AS ent_uid, rec.uid AS rec_uid, COUNT { (ent)-[:RESOLVES]->(:Record) } as num_rec\n",
    "  \"\"\"\n",
    ")\n",
    "\n",
    "df_link = df_link.loc[df_link[\"num_rec\"] > 1]"
   ]
  },
  {
   "cell_type": "code",
   "execution_count": 12,
   "id": "6fb44630-12e8-42be-bbbf-7bfb8c64694e",
   "metadata": {
    "execution": {
     "iopub.execute_input": "2024-03-29T00:03:13.147702Z",
     "iopub.status.busy": "2024-03-29T00:03:13.147279Z",
     "iopub.status.idle": "2024-03-29T00:03:14.674123Z",
     "shell.execute_reply": "2024-03-29T00:03:14.673467Z",
     "shell.execute_reply.started": "2024-03-29T00:03:13.147675Z"
    }
   },
   "outputs": [
    {
     "name": "stdout",
     "output_type": "stream",
     "text": [
      "Warning: When  cdn_resources is 'local' jupyter notebook has issues displaying graphics on chrome/safari. Use cdn_resources='in_line' or cdn_resources='remote' if you have issues viewing graphics in a notebook.\n",
      "vegas.1.html\n"
     ]
    },
    {
     "data": {
      "text/html": [
       "\n",
       "        <iframe\n",
       "            width=\"100%\"\n",
       "            height=\"600px\"\n",
       "            src=\"vegas.1.html\"\n",
       "            frameborder=\"0\"\n",
       "            allowfullscreen\n",
       "            \n",
       "        ></iframe>\n",
       "        "
      ],
      "text/plain": [
       "<IPython.lib.display.IFrame at 0x126b7a590>"
      ]
     },
     "execution_count": 12,
     "metadata": {},
     "output_type": "execute_result"
    }
   ],
   "source": [
    "net: pyvis.network.Network = pyvis.network.Network(notebook = True)\n",
    "\n",
    "for _, row in df_link.iterrows():\n",
    "    net.add_node(row.rec_uid, title = row.rec_uid, color = \"blue\", shape = \"square\")\n",
    "\n",
    "net.toggle_physics(True)\n",
    "net.show(\"vegas.1.html\")"
   ]
  },
  {
   "cell_type": "code",
   "execution_count": 13,
   "id": "1ab87df2-b5bd-412a-82fb-7d5496b73745",
   "metadata": {
    "execution": {
     "iopub.execute_input": "2024-03-29T00:14:08.423585Z",
     "iopub.status.busy": "2024-03-29T00:14:08.417748Z",
     "iopub.status.idle": "2024-03-29T00:14:18.214670Z",
     "shell.execute_reply": "2024-03-29T00:14:18.213525Z",
     "shell.execute_reply.started": "2024-03-29T00:14:08.423522Z"
    }
   },
   "outputs": [
    {
     "name": "stdout",
     "output_type": "stream",
     "text": [
      "Warning: When  cdn_resources is 'local' jupyter notebook has issues displaying graphics on chrome/safari. Use cdn_resources='in_line' or cdn_resources='remote' if you have issues viewing graphics in a notebook.\n",
      "vegas.2.html\n"
     ]
    },
    {
     "data": {
      "text/html": [
       "\n",
       "        <iframe\n",
       "            width=\"100%\"\n",
       "            height=\"600px\"\n",
       "            src=\"vegas.2.html\"\n",
       "            frameborder=\"0\"\n",
       "            allowfullscreen\n",
       "            \n",
       "        ></iframe>\n",
       "        "
      ],
      "text/plain": [
       "<IPython.lib.display.IFrame at 0x12761abd0>"
      ]
     },
     "execution_count": 13,
     "metadata": {},
     "output_type": "execute_result"
    }
   ],
   "source": [
    "net: pyvis.network.Network = pyvis.network.Network(notebook = True)\n",
    "\n",
    "for _, row in df_link.iterrows():\n",
    "    net.add_node(row.rec_uid, title = row.rec_uid, color = \"blue\", shape = \"square\")\n",
    "    net.add_node(row.ent_uid, title = str(row.ent_uid), color = \"red\", shape = \"star\", size = row.num_rec)\n",
    "    net.add_edge(row.rec_uid, row.ent_uid, weight = 1.0)\n",
    "\n",
    "net.toggle_physics(True)\n",
    "net.show(\"vegas.2.html\")"
   ]
  },
  {
   "cell_type": "markdown",
   "id": "17db9554-017b-4476-b090-f0c481eaa62b",
   "metadata": {},
   "source": [
    "## Experiments to add more KG structure"
   ]
  },
  {
   "cell_type": "code",
   "execution_count": 15,
   "id": "7ef15c73-4738-4534-8cf8-427b87b471fb",
   "metadata": {
    "execution": {
     "iopub.execute_input": "2024-03-29T00:55:29.623654Z",
     "iopub.status.busy": "2024-03-29T00:55:29.620613Z",
     "iopub.status.idle": "2024-03-29T00:55:33.147931Z",
     "shell.execute_reply": "2024-03-29T00:55:33.147252Z",
     "shell.execute_reply.started": "2024-03-29T00:55:29.623577Z"
    }
   },
   "outputs": [
    {
     "data": {
      "text/html": [
       "<div>\n",
       "<style scoped>\n",
       "    .dataframe tbody tr th:only-of-type {\n",
       "        vertical-align: middle;\n",
       "    }\n",
       "\n",
       "    .dataframe tbody tr th {\n",
       "        vertical-align: top;\n",
       "    }\n",
       "\n",
       "    .dataframe thead th {\n",
       "        text-align: right;\n",
       "    }\n",
       "</style>\n",
       "<table border=\"1\" class=\"dataframe\">\n",
       "  <thead>\n",
       "    <tr style=\"text-align: right;\">\n",
       "      <th></th>\n",
       "      <th>sub_category</th>\n",
       "    </tr>\n",
       "  </thead>\n",
       "  <tbody>\n",
       "    <tr>\n",
       "      <th>0</th>\n",
       "      <td>Offices of Lawyers</td>\n",
       "    </tr>\n",
       "    <tr>\n",
       "      <th>1</th>\n",
       "      <td>Limited-Service Restaurants</td>\n",
       "    </tr>\n",
       "    <tr>\n",
       "      <th>2</th>\n",
       "      <td>Offices of All Other Miscellaneous Health Prac...</td>\n",
       "    </tr>\n",
       "    <tr>\n",
       "      <th>3</th>\n",
       "      <td>Religious Organizations</td>\n",
       "    </tr>\n",
       "    <tr>\n",
       "      <th>4</th>\n",
       "      <td>Offices of Physicians, Mental Health Specialists</td>\n",
       "    </tr>\n",
       "    <tr>\n",
       "      <th>...</th>\n",
       "      <td>...</td>\n",
       "    </tr>\n",
       "    <tr>\n",
       "      <th>13287</th>\n",
       "      <td>Commuter Rail Systems</td>\n",
       "    </tr>\n",
       "    <tr>\n",
       "      <th>13520</th>\n",
       "      <td>Newspaper Publishers</td>\n",
       "    </tr>\n",
       "    <tr>\n",
       "      <th>14734</th>\n",
       "      <td>Investigation Services</td>\n",
       "    </tr>\n",
       "    <tr>\n",
       "      <th>14811</th>\n",
       "      <td>Motor Vehicle Supplies and New Parts Merchant ...</td>\n",
       "    </tr>\n",
       "    <tr>\n",
       "      <th>15896</th>\n",
       "      <td>Wired Telecommunications Carriers</td>\n",
       "    </tr>\n",
       "  </tbody>\n",
       "</table>\n",
       "<p>396 rows × 1 columns</p>\n",
       "</div>"
      ],
      "text/plain": [
       "                                            sub_category\n",
       "0                                     Offices of Lawyers\n",
       "1                            Limited-Service Restaurants\n",
       "2      Offices of All Other Miscellaneous Health Prac...\n",
       "3                                Religious Organizations\n",
       "4       Offices of Physicians, Mental Health Specialists\n",
       "...                                                  ...\n",
       "13287                              Commuter Rail Systems\n",
       "13520                               Newspaper Publishers\n",
       "14734                             Investigation Services\n",
       "14811  Motor Vehicle Supplies and New Parts Merchant ...\n",
       "15896                  Wired Telecommunications Carriers\n",
       "\n",
       "[396 rows x 1 columns]"
      ]
     },
     "execution_count": 15,
     "metadata": {},
     "output_type": "execute_result"
    }
   ],
   "source": [
    "df = gds.run_cypher(\n",
    "  \"\"\"\n",
    "MATCH (rec:Record)\n",
    "WHERE (rec.sub_category) IS NOT NULL \n",
    "RETURN DISTINCT rec.sub_category AS sub_category\n",
    "  \"\"\"\n",
    ")\n",
    "\n",
    "df.dropna(inplace = True)\n",
    "df"
   ]
  },
  {
   "cell_type": "code",
   "execution_count": 16,
   "id": "f5adb701-f34e-4b8c-9191-ca6cde94569a",
   "metadata": {
    "execution": {
     "iopub.execute_input": "2024-03-29T00:55:42.791555Z",
     "iopub.status.busy": "2024-03-29T00:55:42.789943Z",
     "iopub.status.idle": "2024-03-29T00:55:53.685358Z",
     "shell.execute_reply": "2024-03-29T00:55:53.683428Z",
     "shell.execute_reply.started": "2024-03-29T00:55:42.791524Z"
    }
   },
   "outputs": [],
   "source": [
    "for _, row in df.iterrows():\n",
    "    gds.run_cypher(\n",
    "        \"MERGE (cat:Category {name: $name })\",\n",
    "        params = { \"name\": row.sub_category },\n",
    "    )"
   ]
  }
 ],
 "metadata": {
  "kernelspec": {
   "display_name": "Python 3 (ipykernel)",
   "language": "python",
   "name": "python3"
  },
  "language_info": {
   "codemirror_mode": {
    "name": "ipython",
    "version": 3
   },
   "file_extension": ".py",
   "mimetype": "text/x-python",
   "name": "python",
   "nbconvert_exporter": "python",
   "pygments_lexer": "ipython3",
   "version": "3.11.0"
  }
 },
 "nbformat": 4,
 "nbformat_minor": 5
}
