{
 "cells": [
  {
   "cell_type": "markdown",
   "id": "7067d845-9121-47c1-8bc2-65db8f4d7004",
   "metadata": {},
   "source": [
    "# Senzing + Neo4j: Build a knowledge graph"
   ]
  },
  {
   "cell_type": "markdown",
   "id": "78939f8c-3e2c-49b0-b447-213cccfd5ea6",
   "metadata": {
    "execution": {
     "iopub.execute_input": "2024-03-15T19:36:02.310335Z",
     "iopub.status.busy": "2024-03-15T19:36:02.303320Z",
     "iopub.status.idle": "2024-03-15T19:36:02.352513Z",
     "shell.execute_reply": "2024-03-15T19:36:02.348131Z",
     "shell.execute_reply.started": "2024-03-15T19:36:02.310230Z"
    }
   },
   "source": [
    "## Set up the Python environment"
   ]
  },
  {
   "cell_type": "markdown",
   "id": "ea7cc699-a3f7-4768-966a-a7fd77b825c4",
   "metadata": {},
   "source": [
    "First, we need to import the Python library dependencies which are required for the code we'll be running."
   ]
  },
  {
   "cell_type": "code",
   "execution_count": 1,
   "id": "c55880de-2f5f-425d-bdfc-6a9cd19f9777",
   "metadata": {
    "execution": {
     "iopub.execute_input": "2024-03-28T02:34:55.700742Z",
     "iopub.status.busy": "2024-03-28T02:34:55.699890Z",
     "iopub.status.idle": "2024-03-28T02:34:57.951204Z",
     "shell.execute_reply": "2024-03-28T02:34:57.950164Z",
     "shell.execute_reply.started": "2024-03-28T02:34:55.700652Z"
    }
   },
   "outputs": [],
   "source": [
    "from dataclasses import dataclass, field\n",
    "import json\n",
    "import os\n",
    "import pathlib\n",
    "import sys\n",
    "import typing\n",
    "\n",
    "from graphdatascience import GraphDataScience \n",
    "from icecream import ic\n",
    "from tqdm import tqdm\n",
    "import dotenv\n",
    "import matplotlib.pyplot as plt\n",
    "import pandas as pd\n",
    "import seaborn as sns\n",
    "import watermark\n",
    "\n",
    "%load_ext watermark"
   ]
  },
  {
   "cell_type": "markdown",
   "id": "11331aa0-be80-4de3-bed3-24beb12a57bc",
   "metadata": {},
   "source": [
    "Show a \"watermark\" of which versions are being used for system componenents and library dependencies. This may help in case you need to troubleshoot the dependencies on your system, e.g., if there's some conflict during installation."
   ]
  },
  {
   "cell_type": "code",
   "execution_count": 2,
   "id": "e6a97a2f-e4c4-4086-9dec-bfbf680fd9b9",
   "metadata": {
    "execution": {
     "iopub.execute_input": "2024-03-28T02:34:58.956827Z",
     "iopub.status.busy": "2024-03-28T02:34:58.956009Z",
     "iopub.status.idle": "2024-03-28T02:34:59.008578Z",
     "shell.execute_reply": "2024-03-28T02:34:59.003792Z",
     "shell.execute_reply.started": "2024-03-28T02:34:58.956795Z"
    },
    "scrolled": true
   },
   "outputs": [
    {
     "name": "stdout",
     "output_type": "stream",
     "text": [
      "Last updated: 2024-03-27T19:34:58.958725-07:00\n",
      "\n",
      "Python implementation: CPython\n",
      "Python version       : 3.11.0\n",
      "IPython version      : 8.22.2\n",
      "\n",
      "Compiler    : Clang 13.0.0 (clang-1300.0.29.30)\n",
      "OS          : Darwin\n",
      "Release     : 21.6.0\n",
      "Machine     : x86_64\n",
      "Processor   : i386\n",
      "CPU cores   : 8\n",
      "Architecture: 64bit\n",
      "\n",
      "matplotlib: 3.8.3\n",
      "sys       : 3.11.0 (v3.11.0:deaf509e8f, Oct 24 2022, 14:43:23) [Clang 13.0.0 (clang-1300.0.29.30)]\n",
      "seaborn   : 0.13.2\n",
      "pandas    : 2.2.1\n",
      "json      : 2.0.9\n",
      "watermark : 2.4.3\n",
      "\n"
     ]
    }
   ],
   "source": [
    "%watermark\n",
    "%watermark --iversions"
   ]
  },
  {
   "cell_type": "markdown",
   "id": "81a703a2-d9c4-4b73-8191-7b87398cb6e6",
   "metadata": {},
   "source": [
    "## Parse the results from Senzing"
   ]
  },
  {
   "cell_type": "markdown",
   "id": "c7056f3e-a3cd-478b-ae67-c791ad457dda",
   "metadata": {},
   "source": [
    "Let's define a `dataclass` to represent the parsed results from Senzing entity resolution."
   ]
  },
  {
   "cell_type": "code",
   "execution_count": 3,
   "id": "e5aab1cb-0dbe-4f3c-8fc1-0235207a88a9",
   "metadata": {
    "execution": {
     "iopub.execute_input": "2024-03-28T02:35:02.121044Z",
     "iopub.status.busy": "2024-03-28T02:35:02.119627Z",
     "iopub.status.idle": "2024-03-28T02:35:02.162700Z",
     "shell.execute_reply": "2024-03-28T02:35:02.146335Z",
     "shell.execute_reply.started": "2024-03-28T02:35:02.120986Z"
    }
   },
   "outputs": [],
   "source": [
    "@dataclass(order=False, frozen=False)\n",
    "class Entity:  # pylint: disable=R0902\n",
    "    \"\"\"\n",
    "A data class representing a resolved entity.\n",
    "    \"\"\"\n",
    "    entity_id: id\n",
    "    num_recs: int\n",
    "    records: typing.Set[ str ] = field(default_factory = lambda: set([]))\n",
    "    related: typing.Dict[ int, dict ] = field(default_factory = lambda: {})\n",
    "    has_ref: bool = False"
   ]
  },
  {
   "cell_type": "markdown",
   "id": "425c50d3-3646-4b50-a1e8-3891d8fb7c60",
   "metadata": {},
   "source": [
    "Parse the JSON data from the export, to build a dictionary of entities indexed by their unique identifiers. Also keep track of both the \"resolved\" and \"related\" records for each entity, to use for constructing the knowledge graph from these results."
   ]
  },
  {
   "cell_type": "code",
   "execution_count": 4,
   "id": "3d4c51f4-55d0-4c24-912d-dbd4f84441cf",
   "metadata": {
    "execution": {
     "iopub.execute_input": "2024-03-28T02:35:07.332854Z",
     "iopub.status.busy": "2024-03-28T02:35:07.332422Z",
     "iopub.status.idle": "2024-03-28T02:35:10.679255Z",
     "shell.execute_reply": "2024-03-28T02:35:10.678399Z",
     "shell.execute_reply.started": "2024-03-28T02:35:07.332828Z"
    }
   },
   "outputs": [
    {
     "name": "stderr",
     "output_type": "stream",
     "text": [
      "read JSON: 100%|████████████████████████████████████████████████████████████████████████████████████| 99156/99156 [00:03<00:00, 32949.26it/s]\n"
     ]
    }
   ],
   "source": [
    "export_path: pathlib.Path = pathlib.Path(\"export.json\")\n",
    "entities: dict = {}\n",
    "\n",
    "with export_path.open() as fp:\n",
    "    for line in tqdm(fp.readlines(), desc = \"read JSON\"):\n",
    "        entity_dat: dict = json.loads(line)\n",
    "        entity_id: int = entity_dat[\"RESOLVED_ENTITY\"][\"ENTITY_ID\"]\n",
    "\n",
    "        records: set = set([\n",
    "            \".\".join([ r[\"DATA_SOURCE\"], r[\"RECORD_ID\"] ]).upper()\n",
    "            for r in entity_dat[\"RESOLVED_ENTITY\"][\"RECORDS\"]\n",
    "        ])\n",
    "\n",
    "        entities[entity_id] = Entity(\n",
    "            entity_id = entity_id,\n",
    "            records = records,\n",
    "            num_recs = len(records),\n",
    "            related = {\n",
    "                r[\"ENTITY_ID\"]: r\n",
    "                for r in entity_dat[\"RELATED_ENTITIES\"]\n",
    "            },\n",
    "        )"
   ]
  },
  {
   "cell_type": "markdown",
   "id": "929fc59f-8f76-4fd0-a99e-10176e0922df",
   "metadata": {},
   "source": [
    "Let's examine one of the resolved entity objects, to see which fields are available"
   ]
  },
  {
   "cell_type": "code",
   "execution_count": 6,
   "id": "b330e219-6766-4551-ba58-eb8745db7899",
   "metadata": {
    "execution": {
     "iopub.execute_input": "2024-03-27T06:35:17.896897Z",
     "iopub.status.busy": "2024-03-27T06:35:17.896112Z",
     "iopub.status.idle": "2024-03-27T06:35:17.910473Z",
     "shell.execute_reply": "2024-03-27T06:35:17.909490Z",
     "shell.execute_reply.started": "2024-03-27T06:35:17.896850Z"
    }
   },
   "outputs": [
    {
     "data": {
      "text/plain": [
       "{'RESOLVED_ENTITY': {'ENTITY_ID': 438737,\n",
       "  'RECORDS': [{'DATA_SOURCE': 'SAFEGRAPH',\n",
       "    'RECORD_ID': 'zzw-222@5yv-c8t-t7q',\n",
       "    'ENTITY_TYPE': 'GENERIC',\n",
       "    'INTERNAL_ID': 438737,\n",
       "    'ENTITY_KEY': '7A2952039A2EDAE86C89FF025284618BB47F5B0E',\n",
       "    'ENTITY_DESC': 'Royalty Renee Salez',\n",
       "    'MATCH_KEY': '',\n",
       "    'MATCH_LEVEL': 0,\n",
       "    'MATCH_LEVEL_CODE': '',\n",
       "    'ERRULE_CODE': '',\n",
       "    'LAST_SEEN_DT': '2024-03-12 18:54:15.638'}]},\n",
       " 'RELATED_ENTITIES': []}"
      ]
     },
     "execution_count": 6,
     "metadata": {},
     "output_type": "execute_result"
    }
   ],
   "source": [
    "entity_dat"
   ]
  },
  {
   "cell_type": "markdown",
   "id": "915d34b2-c582-412f-86ad-8c569387f5ca",
   "metadata": {},
   "source": [
    "## Connect the GDS library to Neo4j Desktop"
   ]
  },
  {
   "cell_type": "markdown",
   "id": "184191bb-8761-4d96-b311-21df568df292",
   "metadata": {
    "execution": {
     "iopub.execute_input": "2024-03-26T21:56:48.062843Z",
     "iopub.status.busy": "2024-03-26T21:56:48.062487Z",
     "iopub.status.idle": "2024-03-26T21:56:48.111484Z",
     "shell.execute_reply": "2024-03-26T21:56:48.100460Z",
     "shell.execute_reply.started": "2024-03-26T21:56:48.062818Z"
    }
   },
   "source": [
    "Install:\n",
    "\n",
    "  * <https://github.com/neo4j/graph-data-science-client>\n",
    "  * <https://neo4j.com/docs/graph-data-science/current/>\n",
    "  * <https://neo4j.com/docs/graph-data-science/current/installation/neo4j-desktop/>\n",
    "\n",
    "Set up a GDS connection using our credentials for Neo4j Desktop"
   ]
  },
  {
   "cell_type": "code",
   "execution_count": 3,
   "id": "1bc0cacc-5534-4535-ab7b-1790f0c45e78",
   "metadata": {
    "execution": {
     "iopub.execute_input": "2024-03-27T06:06:34.140406Z",
     "iopub.status.busy": "2024-03-27T06:06:34.138667Z",
     "iopub.status.idle": "2024-03-27T06:06:34.466179Z",
     "shell.execute_reply": "2024-03-27T06:06:34.465643Z",
     "shell.execute_reply.started": "2024-03-27T06:06:34.140345Z"
    }
   },
   "outputs": [],
   "source": [
    "dotenv.load_dotenv(dotenv.find_dotenv())\n",
    "\n",
    "bolt_uri: str = os.environ.get(\"NEO4J_BOLT\")\n",
    "username: str = os.environ.get(\"NEO4J_USER\")\n",
    "password: str = os.environ.get(\"NEO4J_PASS\")\n",
    "\n",
    "gds:GraphDataScience = GraphDataScience(\n",
    "    bolt_uri,\n",
    "    auth = ( username, password, ),\n",
    "    aura_ds = False,\n",
    ")"
   ]
  },
  {
   "cell_type": "markdown",
   "id": "c973c13e-97b9-410d-9b83-4d0118b77be5",
   "metadata": {
    "jp-MarkdownHeadingCollapsed": true
   },
   "source": [
    "## Connect the KG in Neo4j"
   ]
  },
  {
   "cell_type": "markdown",
   "id": "3aaf2d9f-3ea9-476a-9cf8-b32941618f5c",
   "metadata": {},
   "source": [
    "Delete the previous graph data..."
   ]
  },
  {
   "cell_type": "code",
   "execution_count": 22,
   "id": "3ea4f2b6-7243-42af-b6d6-2b45eab18bb8",
   "metadata": {
    "execution": {
     "iopub.execute_input": "2024-03-17T23:24:01.145805Z",
     "iopub.status.busy": "2024-03-17T23:24:01.145497Z",
     "iopub.status.idle": "2024-03-17T23:24:01.149389Z",
     "shell.execute_reply": "2024-03-17T23:24:01.148644Z",
     "shell.execute_reply.started": "2024-03-17T23:24:01.145787Z"
    }
   },
   "outputs": [],
   "source": [
    "with driver.session() as session:\n",
    "    #session.run(\"MATCH (x) DETACH DELETE x\")\n",
    "    #session.run(\"DROP CONSTRAINT unique_record\")\n",
    "    #session.run(\"DROP CONSTRAINT unique_entity\")\n",
    "    pass"
   ]
  },
  {
   "cell_type": "code",
   "execution_count": 23,
   "id": "01edd839-d90d-4959-bf1f-e1cf6de83457",
   "metadata": {
    "execution": {
     "iopub.execute_input": "2024-03-17T23:24:01.150371Z",
     "iopub.status.busy": "2024-03-17T23:24:01.150100Z",
     "iopub.status.idle": "2024-03-17T23:24:02.442446Z",
     "shell.execute_reply": "2024-03-17T23:24:02.440803Z",
     "shell.execute_reply.started": "2024-03-17T23:24:01.150340Z"
    }
   },
   "outputs": [],
   "source": [
    "with driver.session() as session:\n",
    "    query: str = \"\"\"\n",
    "CREATE CONSTRAINT unique_record \n",
    "    IF NOT EXISTS FOR (rec:Record) \n",
    "    REQUIRE rec.uid IS UNIQUE\n",
    "    \"\"\"\n",
    "    \n",
    "    session.run(query)\n",
    "\n",
    "    query = \"\"\"\n",
    "CREATE CONSTRAINT unique_entity \n",
    "    IF NOT EXISTS FOR (ent:Entity) \n",
    "    REQUIRE ent.uid IS UNIQUE\n",
    "    \"\"\"\n",
    "    \n",
    "    session.run(query)"
   ]
  },
  {
   "cell_type": "markdown",
   "id": "85f05249-3a5d-4026-8649-d6a4ff061bdd",
   "metadata": {},
   "source": [
    "### Populate nodes from the dataset records"
   ]
  },
  {
   "cell_type": "markdown",
   "id": "af2f9e52-e221-4707-8992-adb1fdc684db",
   "metadata": {},
   "source": [
    "Define utility functions used for loading the graph data."
   ]
  },
  {
   "cell_type": "code",
   "execution_count": 24,
   "id": "67482f89-7d4e-43e5-89ce-eb7f1cd08da4",
   "metadata": {
    "execution": {
     "iopub.execute_input": "2024-03-17T23:24:02.444585Z",
     "iopub.status.busy": "2024-03-17T23:24:02.444151Z",
     "iopub.status.idle": "2024-03-17T23:24:02.452372Z",
     "shell.execute_reply": "2024-03-17T23:24:02.450901Z",
     "shell.execute_reply.started": "2024-03-17T23:24:02.444547Z"
    }
   },
   "outputs": [],
   "source": [
    "def get_property_keys (\n",
    "    df: pd.DataFrame,\n",
    "    ) -> typing.List[ str ]:\n",
    "    \"\"\"\n",
    "Convert the column names from the given Pandas dataframe into Cypher property names.\n",
    "    \"\"\"\n",
    "    return [\n",
    "        name.lower().replace(\" \", \"_\")\n",
    "        for name in df.columns.values.tolist()\n",
    "    ]\n",
    "\n",
    "\n",
    "def safe_value (\n",
    "    obj: typing.Any,\n",
    "    ) -> typing.Any:\n",
    "    \"\"\"\n",
    "Escape double quotes within string values.\n",
    "    \"\"\"\n",
    "    if isinstance(obj, str):\n",
    "        return obj.replace('\"', \"'\")\n",
    "\n",
    "    return obj"
   ]
  },
  {
   "cell_type": "code",
   "execution_count": 25,
   "id": "7a6992d6-a119-40c1-ae75-fa43cc869daa",
   "metadata": {
    "execution": {
     "iopub.execute_input": "2024-03-17T23:24:02.454453Z",
     "iopub.status.busy": "2024-03-17T23:24:02.453966Z",
     "iopub.status.idle": "2024-03-17T23:24:02.462963Z",
     "shell.execute_reply": "2024-03-17T23:24:02.461886Z",
     "shell.execute_reply.started": "2024-03-17T23:24:02.454422Z"
    }
   },
   "outputs": [],
   "source": [
    "def format_merge_record (\n",
    "    keys: typing.List[ str ],\n",
    "    vals: list,\n",
    "    ) -> str:\n",
    "    \"\"\"\n",
    "Format one MERGE statement in Cypher for the values of a given Record.\n",
    "    \"\"\"\n",
    "    safe_vals = [ safe_value(v) for v in vals ]\n",
    "    row_dict: dict = dict(zip(keys, safe_vals))\n",
    "\n",
    "    uid: str = row_dict[\"data_source\"].upper() + \".\" + row_dict[\"record_id\"]\n",
    "    \n",
    "    props: str = \", \".join([\n",
    "        f\"rec.{key} = \\\"{val}\\\"\"\n",
    "        for key, val in row_dict.items()\n",
    "    ])\n",
    "\n",
    "    return f\"\"\"\n",
    "MERGE (rec:Record {{ uid: \\\"{uid}\\\" }})\n",
    "  ON CREATE\n",
    "    SET {props}      \n",
    "RETURN rec.data_source, rec.record_id\n",
    "    \"\"\"\n",
    "\n",
    "\n",
    "def load_records (\n",
    "    session: neo4j.Session,\n",
    "    df: pd.DataFrame,\n",
    "    ) -> None:\n",
    "    \"\"\"\n",
    "Iterate over each Record from one dataset to load using Cypher.\n",
    "    \"\"\"\n",
    "    keys: typing.List[ str ] = get_property_keys(df)\n",
    "\n",
    "    for _, row in tqdm(df.iterrows(), desc = \"merge nodes for records\"):\n",
    "        query: str = format_merge_record(keys, row.tolist())\n",
    "        session.run(query)"
   ]
  },
  {
   "cell_type": "markdown",
   "id": "a75a6132-0ac8-4c4c-895c-83672a80f9ef",
   "metadata": {
    "jp-MarkdownHeadingCollapsed": true
   },
   "source": [
    "### Populate nodes from the Senzing entities"
   ]
  },
  {
   "cell_type": "code",
   "execution_count": 39,
   "id": "cfe0198a-9ec6-4a6b-8101-ecd7db840749",
   "metadata": {
    "execution": {
     "iopub.execute_input": "2024-03-18T00:48:13.372868Z",
     "iopub.status.busy": "2024-03-18T00:48:13.372067Z",
     "iopub.status.idle": "2024-03-18T01:34:48.153348Z",
     "shell.execute_reply": "2024-03-18T01:34:48.121299Z",
     "shell.execute_reply.started": "2024-03-18T00:48:13.372816Z"
    },
    "scrolled": true
   },
   "outputs": [
    {
     "name": "stderr",
     "output_type": "stream",
     "text": [
      "merge nodes for entities: 100%|████████████████████████████████████████████████████████████████████████| 99156/99156 [46:34<00:00, 35.48it/s]\n"
     ]
    }
   ],
   "source": [
    "query = \"\"\"\n",
    "MERGE (ent:Entity {uid: $params.uid, has_ref: $params.has_ref})\n",
    "\"\"\"\n",
    "\n",
    "with driver.session() as session:\n",
    "    for entity in tqdm(entities.values(), desc = \"merge nodes for entities\"):\n",
    "        params = {\n",
    "            \"uid\": entity.entity_id,\n",
    "            \"has_ref\": entity.has_ref,\n",
    "        }\n",
    "\n",
    "        session.run(\n",
    "            query,\n",
    "            params = params,\n",
    "        )"
   ]
  },
  {
   "cell_type": "code",
   "execution_count": 31,
   "id": "482c0ea8-4a8f-4070-9468-b73fa049c529",
   "metadata": {
    "execution": {
     "iopub.execute_input": "2024-03-18T00:40:44.108988Z",
     "iopub.status.busy": "2024-03-18T00:40:44.107029Z",
     "iopub.status.idle": "2024-03-18T00:40:51.500202Z",
     "shell.execute_reply": "2024-03-18T00:40:51.499049Z",
     "shell.execute_reply.started": "2024-03-18T00:40:44.108957Z"
    },
    "scrolled": true
   },
   "outputs": [
    {
     "name": "stderr",
     "output_type": "stream",
     "text": [
      "ic| entity: Entity(entity_id=1,\n",
      "                   num_recs=3,\n",
      "                   records={'DOL_WHISARD.7874', 'DOL_WHISARD.7631', 'DOL_WHISARD.7789'},\n",
      "                   related={113: {'ENTITY_ID': 113,\n",
      "                                  'ERRULE_CODE': 'CNAME',\n",
      "                                  'IS_AMBIGUOUS': 0,\n",
      "                                  'IS_DISCLOSED': 0,\n",
      "                                  'MATCH_KEY': '+NAME',\n",
      "                                  'MATCH_LEVEL': 2,\n",
      "                                  'MATCH_LEVEL_CODE': 'POSSIBLY_SAME',\n",
      "                                  'RECORDS': [{'DATA_SOURCE': 'DOL_WHISARD',\n",
      "                                               'RECORD_ID': '8898'},\n",
      "                                              {'DATA_SOURCE': 'DOL_WHISARD',\n",
      "                                               'RECORD_ID': '8903'},\n",
      "                                              {'DATA_SOURCE': 'DOL_WHISARD',\n",
      "                                               'RECORD_ID': '8128'},\n",
      "                                              {'DATA_SOURCE': 'DOL_WHISARD',\n",
      "                                               'RECORD_ID': '7816'},\n",
      "                                              {'DATA_SOURCE': 'DOL_WHISARD',\n",
      "                                               'RECORD_ID': '7795'},\n",
      "                                              {'DATA_SOURCE': 'DOL_WHISARD',\n",
      "                                               'RECORD_ID': '10591'},\n",
      "                                              {'DATA_SOURCE': 'DOL_WHISARD',\n",
      "                                               'RECORD_ID': '7536'}]},\n",
      "                            419714: {'ENTITY_ID': 419714,\n",
      "                                     'ERRULE_CODE': 'CFF',\n",
      "                                     'IS_AMBIGUOUS': 0,\n",
      "                                     'IS_DISCLOSED': 0,\n",
      "                                     'MATCH_KEY': '+ADDRESS',\n",
      "                                     'MATCH_LEVEL': 3,\n",
      "                                     'MATCH_LEVEL_CODE': 'POSSIBLY_RELATED',\n",
      "                                     'RECORDS': [{'DATA_SOURCE': 'SAFEGRAPH',\n",
      "                                                  'RECORD_ID': '222-224@5yv-j88-t5f'}]}},\n",
      "                   has_ref=True)\n"
     ]
    }
   ],
   "source": [
    "entity = list(entities.values())[0]\n",
    "ic(entity);"
   ]
  },
  {
   "cell_type": "markdown",
   "id": "14f3491c-09b5-46ab-80aa-e0d7865baaa4",
   "metadata": {
    "execution": {
     "iopub.execute_input": "2024-03-18T16:39:10.289069Z",
     "iopub.status.busy": "2024-03-18T16:39:10.286686Z",
     "iopub.status.idle": "2024-03-18T16:39:10.299516Z",
     "shell.execute_reply": "2024-03-18T16:39:10.298298Z",
     "shell.execute_reply.started": "2024-03-18T16:39:10.288998Z"
    }
   },
   "source": [
    "### Connect the resolved records and related entities"
   ]
  },
  {
   "cell_type": "code",
   "execution_count": 49,
   "id": "d12bdd32-014c-4b92-a172-f07be1f8b012",
   "metadata": {
    "execution": {
     "iopub.execute_input": "2024-03-18T16:13:10.304756Z",
     "iopub.status.busy": "2024-03-18T16:13:10.302634Z",
     "iopub.status.idle": "2024-03-18T16:17:05.755943Z",
     "shell.execute_reply": "2024-03-18T16:17:05.746441Z",
     "shell.execute_reply.started": "2024-03-18T16:13:10.304677Z"
    },
    "scrolled": true
   },
   "outputs": [
    {
     "name": "stderr",
     "output_type": "stream",
     "text": [
      "merge entity->record: 100%|███████████████████████████████████████████████████████████████████████████| 99156/99156 [03:55<00:00, 421.28it/s]\n"
     ]
    }
   ],
   "source": [
    "query = \"\"\"\n",
    "MATCH\n",
    "    (ent:Entity {uid: $params.entity_uid}),\n",
    "    (rec:Record {uid: $params.record_uid})       \n",
    "MERGE (ent)-[:RESOLVES]->(rec)\n",
    "\"\"\"\n",
    "\n",
    "with driver.session() as session:\n",
    "    for entity in tqdm(entities.values(), desc = \"merge entity->record\"):\n",
    "        for record_uid in entity.records:\n",
    "            params = {\n",
    "                \"entity_uid\": entity.entity_id,\n",
    "                \"record_uid\": record_uid,\n",
    "            }\n",
    "\n",
    "            session.run(\n",
    "                query,\n",
    "                params = params,\n",
    "            )"
   ]
  },
  {
   "cell_type": "code",
   "execution_count": 14,
   "id": "d4b40061-76a6-4a68-84e5-b86a4ae6a52d",
   "metadata": {
    "execution": {
     "iopub.execute_input": "2024-03-18T16:43:34.029434Z",
     "iopub.status.busy": "2024-03-18T16:43:34.028189Z",
     "iopub.status.idle": "2024-03-18T19:01:53.650822Z",
     "shell.execute_reply": "2024-03-18T19:01:53.607029Z",
     "shell.execute_reply.started": "2024-03-18T16:43:34.029402Z"
    },
    "scrolled": true
   },
   "outputs": [
    {
     "name": "stderr",
     "output_type": "stream",
     "text": [
      "merge entity->related: 100%|█████████████████████████████████████████████████████████████████████████| 99156/99156 [2:18:18<00:00, 11.95it/s]\n"
     ]
    }
   ],
   "source": [
    "query = \"\"\"\n",
    "MATCH\n",
    "    (ent:Entity {uid: $params.entity_uid}),\n",
    "    (rel_ent:Entity {uid: $params.rel_ent})       \n",
    "MERGE (ent)-[:RELATED {ambiguous: $params.ambiguous, disclosed: $params.disclosed, match_key: $params.match_key, match_level: $params.match_level, match_level_code: $params.match_level_code}]->(rel_ent)\n",
    "\"\"\"\n",
    "\n",
    "with driver.session() as session:\n",
    "    for entity in tqdm(entities.values(), desc = \"merge entity->related\"):\n",
    "        for rel_key, rel_ent in entity.related.items():\n",
    "            params = {\n",
    "                \"entity_uid\": entity.entity_id,\n",
    "                \"rel_ent\": rel_ent[\"ENTITY_ID\"],\n",
    "                \"ambiguous\": (rel_ent[\"IS_AMBIGUOUS\"] == 0),\n",
    "                \"disclosed\": (rel_ent[\"IS_DISCLOSED\"] == 0),\n",
    "                \"match_key\": rel_ent[\"MATCH_KEY\"],\n",
    "                \"match_level\": rel_ent[\"MATCH_LEVEL\"],\n",
    "                \"match_level_code\": rel_ent[\"MATCH_LEVEL_CODE\"],\n",
    "            }\n",
    "\n",
    "            session.run(\n",
    "                query,\n",
    "                params = params,\n",
    "            )"
   ]
  },
  {
   "cell_type": "code",
   "execution_count": 24,
   "id": "7c48bc06-194a-4b43-9837-9a8d0fe16c25",
   "metadata": {
    "execution": {
     "iopub.execute_input": "2024-03-18T19:18:12.184416Z",
     "iopub.status.busy": "2024-03-18T19:18:12.183684Z",
     "iopub.status.idle": "2024-03-18T19:18:12.779794Z",
     "shell.execute_reply": "2024-03-18T19:18:12.779198Z",
     "shell.execute_reply.started": "2024-03-18T19:18:12.184364Z"
    }
   },
   "outputs": [
    {
     "name": "stderr",
     "output_type": "stream",
     "text": [
      "ic| ent: <Record ent.uid=121 num_recs=15>\n",
      "ic| ent: <Record ent.uid=137 num_recs=11>\n",
      "ic| ent: <Record ent.uid=509 num_recs=10>\n",
      "ic| ent: <Record ent.uid=17 num_recs=8>\n",
      "ic| ent: <Record ent.uid=65 num_recs=7>\n",
      "ic| ent: <Record ent.uid=113 num_recs=7>\n",
      "ic| ent: <Record ent.uid=3 num_recs=6>\n",
      "ic| ent: <Record ent.uid=41 num_recs=6>\n",
      "ic| ent: <Record ent.uid=225 num_recs=6>\n",
      "ic| ent: <Record ent.uid=146 num_recs=6>\n",
      "ic| ent: <Record ent.uid=151 num_recs=5>\n",
      "ic| ent: <Record ent.uid=383 num_recs=5>\n",
      "ic| ent: <Record ent.uid=374 num_recs=5>\n",
      "ic| ent: <Record ent.uid=433 num_recs=4>\n",
      "ic| ent: <Record ent.uid=368 num_recs=4>\n",
      "ic| ent: <Record ent.uid=239 num_recs=4>\n",
      "ic| ent: <Record ent.uid=105 num_recs=4>\n",
      "ic| ent: <Record ent.uid=286 num_recs=4>\n",
      "ic| ent: <Record ent.uid=134 num_recs=4>\n",
      "ic| ent: <Record ent.uid=355 num_recs=4>\n"
     ]
    }
   ],
   "source": [
    "with driver.session() as session:\n",
    "    query = \"\"\"\n",
    "MATCH (ent:Entity)\n",
    "RETURN\n",
    "    ent.uid, COUNT { (ent)-[:RESOLVES]->(:Record) } AS num_recs\n",
    "ORDER BY num_recs DESC\n",
    "LIMIT 20\n",
    "    \"\"\"\n",
    "    \n",
    "    for ent in session.run(query):\n",
    "        ic(ent)"
   ]
  },
  {
   "cell_type": "markdown",
   "id": "8ae500c9-3f7c-48c8-b734-e89a88e05706",
   "metadata": {},
   "source": [
    "## Analyze the impact of ER"
   ]
  },
  {
   "cell_type": "markdown",
   "id": "da90a1fa-ab92-4976-bee9-a1c467d78173",
   "metadata": {},
   "source": [
    "Now let's analyze the Senzing results, measuring how much the process of _entity resolution_ has consolidated records among the input datasets."
   ]
  },
  {
   "cell_type": "code",
   "execution_count": 7,
   "id": "085ccd7c-231f-4f99-90b9-1bc00a9cdb29",
   "metadata": {
    "execution": {
     "iopub.execute_input": "2024-03-18T16:37:22.770842Z",
     "iopub.status.busy": "2024-03-18T16:37:22.770301Z",
     "iopub.status.idle": "2024-03-18T16:37:22.874727Z",
     "shell.execute_reply": "2024-03-18T16:37:22.873241Z",
     "shell.execute_reply.started": "2024-03-18T16:37:22.770791Z"
    }
   },
   "outputs": [],
   "source": [
    "for entity in entities.values():\n",
    "    if entity.num_recs > 1:\n",
    "        entity.has_ref = True\n",
    "\n",
    "        for inf_ent in entity.related.keys():\n",
    "            entities[inf_ent].has_ref = True\n",
    "\n",
    "has_ref_ents: int = len([\n",
    "    e for e in entities.values()\n",
    "    if e.has_ref\n",
    "])"
   ]
  },
  {
   "cell_type": "markdown",
   "id": "ff757fce-c8d2-4b19-84bf-332ac00d5636",
   "metadata": {},
   "source": [
    "In particular, it's helpful for planning about our eventual knowledge graph to understand the:\n",
    "\n",
    "  - total number of entities\n",
    "  - number of entities which have references (i.e., these will be linked within the knowledge graph)"
   ]
  },
  {
   "cell_type": "code",
   "execution_count": 8,
   "id": "0e8c6d36-a02e-45ee-b704-e5cf7e75ba26",
   "metadata": {
    "execution": {
     "iopub.execute_input": "2024-03-18T16:37:24.415873Z",
     "iopub.status.busy": "2024-03-18T16:37:24.415412Z",
     "iopub.status.idle": "2024-03-18T16:37:24.556852Z",
     "shell.execute_reply": "2024-03-18T16:37:24.556094Z",
     "shell.execute_reply.started": "2024-03-18T16:37:24.415835Z"
    }
   },
   "outputs": [
    {
     "name": "stderr",
     "output_type": "stream",
     "text": [
      "ic| len(entities): 99156\n",
      "ic| has_ref_ents: 14063\n"
     ]
    }
   ],
   "source": [
    "ic(len(entities))\n",
    "ic(has_ref_ents);"
   ]
  },
  {
   "cell_type": "markdown",
   "id": "d65c19ae-ae59-4efb-9556-4f1186cea67d",
   "metadata": {},
   "source": [
    "Now visualize this as a histogram of the resolved entities versus their related records in the input datasets."
   ]
  },
  {
   "cell_type": "markdown",
   "id": "93c2860f-e401-4091-9ecb-684f325e8fa9",
   "metadata": {},
   "source": [
    "From this analysis, more than 14K entities were linked to records through _entity resolution_.\n",
    "These can be used to construct _nodes_, _properties_, and _relations_ in a knowledge graph."
   ]
  },
  {
   "cell_type": "code",
   "execution_count": 10,
   "id": "b19b2392-5380-4ae7-a862-0593a125046c",
   "metadata": {
    "execution": {
     "iopub.execute_input": "2024-03-18T16:37:30.555046Z",
     "iopub.status.busy": "2024-03-18T16:37:30.554738Z",
     "iopub.status.idle": "2024-03-18T16:37:30.562851Z",
     "shell.execute_reply": "2024-03-18T16:37:30.560666Z",
     "shell.execute_reply.started": "2024-03-18T16:37:30.555024Z"
    }
   },
   "outputs": [
    {
     "data": {
      "text/plain": [
       "10626"
      ]
     },
     "execution_count": 10,
     "metadata": {},
     "output_type": "execute_result"
    }
   ],
   "source": [
    "num_rel_2: int = 3437\n",
    "has_ref_ents - num_rel_2"
   ]
  },
  {
   "cell_type": "markdown",
   "id": "b40dcffd-81d3-4d3a-ae3b-7695a97fe233",
   "metadata": {
    "jp-MarkdownHeadingCollapsed": true
   },
   "source": [
    "Of the linked entities, more than 10K have three or more records linked.\n",
    "This is interesting since we're trying to link records across three datasets.\n",
    "We'll get more specific stats later through Cypher graph queries in Neo4j."
   ]
  },
  {
   "cell_type": "code",
   "execution_count": 4,
   "id": "e8236a6c-01ae-41e8-a401-683e64296599",
   "metadata": {
    "execution": {
     "iopub.execute_input": "2024-03-27T06:06:51.857297Z",
     "iopub.status.busy": "2024-03-27T06:06:51.856945Z",
     "iopub.status.idle": "2024-03-27T06:06:52.318863Z",
     "shell.execute_reply": "2024-03-27T06:06:52.317637Z",
     "shell.execute_reply.started": "2024-03-27T06:06:51.857269Z"
    }
   },
   "outputs": [],
   "source": [
    "df = gds.run_cypher(\n",
    "  \"\"\"\n",
    "MATCH (ent:Entity)\n",
    "RETURN COUNT(ent.uid) as count_ent, COUNT { (ent)-[:RELATED]->(:Entity) } as num_rel\n",
    "ORDER BY num_rel DESC\n",
    "  \"\"\"\n",
    ")"
   ]
  },
  {
   "cell_type": "code",
   "execution_count": 5,
   "id": "149572af-ffbb-4a6a-8821-ac29eeca171c",
   "metadata": {
    "execution": {
     "iopub.execute_input": "2024-03-27T06:07:05.112928Z",
     "iopub.status.busy": "2024-03-27T06:07:05.112318Z",
     "iopub.status.idle": "2024-03-27T06:07:05.608864Z",
     "shell.execute_reply": "2024-03-27T06:07:05.608347Z",
     "shell.execute_reply.started": "2024-03-27T06:07:05.112886Z"
    }
   },
   "outputs": [
    {
     "data": {
      "image/png": "[encoded data removed]",
      "text/plain": [
       "<Figure size 640x480 with 1 Axes>"
      ]
     },
     "metadata": {},
     "output_type": "display_data"
    }
   ],
   "source": [
    "fig, ax = plt.subplots()\n",
    "plt.rcParams[\"font.family\"] = \"sans-serif\"\n",
    "\n",
    "y = sns.lineplot(df, y = \"count_ent\", x = \"num_rel\")\n",
    "y.tick_params(axis = \"y\", size = 9, colors = \"gray\")\n",
    "\n",
    "plt.xlabel(\"related entities per entity\", size = 10, fontstyle = \"italic\")\n",
    "plt.ylabel(\"entity count\", size = 10, fontstyle = \"italic\")\n",
    "\n",
    "sns.despine(bottom = True, left = True)\n",
    "plt.yscale(\"log\")"
   ]
  },
  {
   "cell_type": "code",
   "execution_count": 6,
   "id": "1fdf803e-7f27-4b5b-b0c7-a9e68e3fc214",
   "metadata": {
    "execution": {
     "iopub.execute_input": "2024-03-27T06:07:16.780054Z",
     "iopub.status.busy": "2024-03-27T06:07:16.779624Z",
     "iopub.status.idle": "2024-03-27T06:07:16.986388Z",
     "shell.execute_reply": "2024-03-27T06:07:16.985548Z",
     "shell.execute_reply.started": "2024-03-27T06:07:16.780021Z"
    }
   },
   "outputs": [],
   "source": [
    "df = gds.run_cypher(\n",
    "  \"\"\"\n",
    "MATCH (ent:Entity)\n",
    "RETURN COUNT(ent.uid) as count_ent, COUNT { (ent)-[:RESOLVES]->(:Record) } as num_rec\n",
    "ORDER BY num_rec DESC\n",
    "  \"\"\"\n",
    ")"
   ]
  },
  {
   "cell_type": "code",
   "execution_count": 7,
   "id": "ac11fdfb-3d10-4f81-b992-ff1801cbc690",
   "metadata": {
    "execution": {
     "iopub.execute_input": "2024-03-27T06:07:27.571433Z",
     "iopub.status.busy": "2024-03-27T06:07:27.570779Z",
     "iopub.status.idle": "2024-03-27T06:07:28.110688Z",
     "shell.execute_reply": "2024-03-27T06:07:28.110145Z",
     "shell.execute_reply.started": "2024-03-27T06:07:27.571384Z"
    }
   },
   "outputs": [
    {
     "data": {
      "image/png": "[encoded data removed]",
      "text/plain": [
       "<Figure size 640x480 with 1 Axes>"
      ]
     },
     "metadata": {},
     "output_type": "display_data"
    }
   ],
   "source": [
    "fig, ax = plt.subplots()\n",
    "plt.rcParams[\"font.family\"] = \"sans-serif\"\n",
    "\n",
    "y = sns.barplot(df, y = \"count_ent\", x = \"num_rec\")\n",
    "y.tick_params(axis = \"y\", size = 9, colors = \"gray\")\n",
    "y.bar_label(y.containers[0], padding = 3, color = \"black\", fontsize = 11)\n",
    "\n",
    "plt.xlabel(\"records per entity\", size = 10, fontstyle = \"italic\")\n",
    "plt.ylabel(\"entity count\", size = 10, fontstyle = \"italic\")\n",
    "\n",
    "sns.despine(bottom = True, left = True)\n",
    "plt.yscale(\"log\")"
   ]
  },
  {
   "cell_type": "code",
   "execution_count": null,
   "id": "492f533e-f7fe-4fca-b55b-b3b72e502493",
   "metadata": {},
   "outputs": [],
   "source": []
  }
 ],
 "metadata": {
  "kernelspec": {
   "display_name": "Python 3 (ipykernel)",
   "language": "python",
   "name": "python3"
  },
  "language_info": {
   "codemirror_mode": {
    "name": "ipython",
    "version": 3
   },
   "file_extension": ".py",
   "mimetype": "text/x-python",
   "name": "python",
   "nbconvert_exporter": "python",
   "pygments_lexer": "ipython3",
   "version": "3.11.0"
  }
 },
 "nbformat": 4,
 "nbformat_minor": 5
}
