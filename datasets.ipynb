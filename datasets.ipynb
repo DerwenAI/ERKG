{
 "cells": [
  {
   "cell_type": "markdown",
   "id": "7067d845-9121-47c1-8bc2-65db8f4d7004",
   "metadata": {},
   "source": [
    "# Senzing + Neo4j: The datasets"
   ]
  },
  {
   "cell_type": "markdown",
   "id": "78939f8c-3e2c-49b0-b447-213cccfd5ea6",
   "metadata": {
    "execution": {
     "iopub.execute_input": "2024-03-15T19:36:02.310335Z",
     "iopub.status.busy": "2024-03-15T19:36:02.303320Z",
     "iopub.status.idle": "2024-03-15T19:36:02.352513Z",
     "shell.execute_reply": "2024-03-15T19:36:02.348131Z",
     "shell.execute_reply.started": "2024-03-15T19:36:02.310230Z"
    },
    "jp-MarkdownHeadingCollapsed": true
   },
   "source": [
    "## Set up the Python environment"
   ]
  },
  {
   "cell_type": "markdown",
   "id": "ea7cc699-a3f7-4768-966a-a7fd77b825c4",
   "metadata": {},
   "source": [
    "First, we need to import the Python library dependencies which are required for the code we'll be running."
   ]
  },
  {
   "cell_type": "code",
   "execution_count": 1,
   "id": "c55880de-2f5f-425d-bdfc-6a9cd19f9777",
   "metadata": {
    "execution": {
     "iopub.execute_input": "2024-03-26T22:51:14.776200Z",
     "iopub.status.busy": "2024-03-26T22:51:14.775309Z",
     "iopub.status.idle": "2024-03-26T22:51:15.525488Z",
     "shell.execute_reply": "2024-03-26T22:51:15.524894Z",
     "shell.execute_reply.started": "2024-03-26T22:51:14.775869Z"
    }
   },
   "outputs": [],
   "source": [
    "import json\n",
    "import pathlib\n",
    "import sys\n",
    "import typing\n",
    "\n",
    "from graphdatascience import GraphDataScience\n",
    "import pandas as pd\n",
    "import watermark\n",
    "\n",
    "%load_ext watermark"
   ]
  },
  {
   "cell_type": "markdown",
   "id": "11331aa0-be80-4de3-bed3-24beb12a57bc",
   "metadata": {},
   "source": [
    "Show a \"watermark\" of which versions are being used for system componenents and library dependencies. This may help in case you need to troubleshoot the dependencies on your system, e.g., if there's some conflict during installation."
   ]
  },
  {
   "cell_type": "code",
   "execution_count": 2,
   "id": "e6a97a2f-e4c4-4086-9dec-bfbf680fd9b9",
   "metadata": {
    "execution": {
     "iopub.execute_input": "2024-03-26T22:51:15.527740Z",
     "iopub.status.busy": "2024-03-26T22:51:15.526950Z",
     "iopub.status.idle": "2024-03-26T22:51:15.560339Z",
     "shell.execute_reply": "2024-03-26T22:51:15.559293Z",
     "shell.execute_reply.started": "2024-03-26T22:51:15.527707Z"
    },
    "scrolled": true
   },
   "outputs": [
    {
     "name": "stdout",
     "output_type": "stream",
     "text": [
      "Last updated: 2024-03-26T15:51:15.530137-07:00\n",
      "\n",
      "Python implementation: CPython\n",
      "Python version       : 3.11.0\n",
      "IPython version      : 8.22.2\n",
      "\n",
      "Compiler    : Clang 13.0.0 (clang-1300.0.29.30)\n",
      "OS          : Darwin\n",
      "Release     : 21.6.0\n",
      "Machine     : x86_64\n",
      "Processor   : i386\n",
      "CPU cores   : 8\n",
      "Architecture: 64bit\n",
      "\n",
      "json     : 2.0.9\n",
      "watermark: 2.4.3\n",
      "pandas   : 2.2.1\n",
      "sys      : 3.11.0 (v3.11.0:deaf509e8f, Oct 24 2022, 14:43:23) [Clang 13.0.0 (clang-1300.0.29.30)]\n",
      "\n"
     ]
    }
   ],
   "source": [
    "%watermark\n",
    "%watermark --iversions"
   ]
  },
  {
   "cell_type": "markdown",
   "id": "db109f9d-8f09-44c5-9117-5481bf3ade78",
   "metadata": {
    "jp-MarkdownHeadingCollapsed": true
   },
   "source": [
    "## Examine the input datasets"
   ]
  },
  {
   "cell_type": "markdown",
   "id": "48eaa952-04e5-4370-a06e-2bed638da850",
   "metadata": {},
   "source": [
    "We will use three datasets which describe businesses (names, addresses, etc.) within the Las Vegas metropolitan area:\n",
    "\n",
    "  - SafeGraph `Places of Interest` (POI)\n",
    "  - US Dept of Labor `Wage and Hour Compliance Action Data` (WHISARD)\n",
    "  - US Small Business Administration `PPP Loans over $150K` (PPP)\n",
    "\n",
    "Two of these datasets are public, and one is available commercially.\n",
    "You can obtain each dataset from the links given below.\n",
    "\n",
    "We'll keep all of the columns for each dataset even though we're only using a few in this tutorial. Let's define a utility function to show a subset of columns in a Pandas `DataFrame` object."
   ]
  },
  {
   "cell_type": "code",
   "execution_count": 3,
   "id": "baa8e1ea-d76d-4346-b4ab-436ad800620e",
   "metadata": {
    "execution": {
     "iopub.execute_input": "2024-03-26T22:51:15.565680Z",
     "iopub.status.busy": "2024-03-26T22:51:15.565401Z",
     "iopub.status.idle": "2024-03-26T22:51:15.571725Z",
     "shell.execute_reply": "2024-03-26T22:51:15.570817Z",
     "shell.execute_reply.started": "2024-03-26T22:51:15.565654Z"
    }
   },
   "outputs": [],
   "source": [
    "def sample_df (\n",
    "    df: pd.DataFrame,\n",
    "    cols_keep: typing.Set[ typing.Any ],\n",
    "    ) -> pd.DataFrame:\n",
    "    \"\"\"\n",
    "Remove all but the specified columns from a copy of the given Pandas dataframe.\n",
    "https://stackoverflow.com/a/51285940/1698443\n",
    "    \"\"\"\n",
    "    diff: typing.Set[ typing.Any ] = set(df.columns) - cols_keep\n",
    "    \n",
    "    return df.drop(\n",
    "        diff,\n",
    "        axis = 1,\n",
    "        inplace = False,\n",
    "    )"
   ]
  },
  {
   "cell_type": "markdown",
   "id": "50342b7a-b0d3-4b19-be69-e596a0dada70",
   "metadata": {
    "execution": {
     "iopub.execute_input": "2024-03-15T18:27:12.719784Z",
     "iopub.status.busy": "2024-03-15T18:27:12.718521Z",
     "iopub.status.idle": "2024-03-15T18:27:12.783427Z",
     "shell.execute_reply": "2024-03-15T18:27:12.781099Z",
     "shell.execute_reply.started": "2024-03-15T18:27:12.719691Z"
    }
   },
   "source": [
    "### Load the SafeGraph Places dataset"
   ]
  },
  {
   "cell_type": "markdown",
   "id": "843500f6-d486-4f84-af2b-5bbdae81f91f",
   "metadata": {},
   "source": [
    "Load the `Places of Interest` (POI) dataset for Las Vegas, from SafeGraph: <https://www.safegraph.com/products/places>"
   ]
  },
  {
   "cell_type": "code",
   "execution_count": 4,
   "id": "eee34144-9970-4654-a86b-e947ed8b1538",
   "metadata": {
    "execution": {
     "iopub.execute_input": "2024-03-26T22:51:15.573437Z",
     "iopub.status.busy": "2024-03-26T22:51:15.572957Z",
     "iopub.status.idle": "2024-03-26T22:51:16.838810Z",
     "shell.execute_reply": "2024-03-26T22:51:16.837970Z",
     "shell.execute_reply.started": "2024-03-26T22:51:15.573330Z"
    }
   },
   "outputs": [],
   "source": [
    "poi_path: pathlib.Path = pathlib.Path(\"lv_data\") / \"poi.json\"\n",
    "\n",
    "df_poi: pd.DataFrame = pd.DataFrame.from_dict(\n",
    "    [ json.loads(line) for line in poi_path.open(encoding = \"utf-8\") ],\n",
    ")"
   ]
  },
  {
   "cell_type": "markdown",
   "id": "0c6bdea3-4aa9-4848-9499-cd11b8269f98",
   "metadata": {},
   "source": [
    "Take a look at the column names. The `\"DATA_SOURCE\"`, `\"RECORD_ID\"`, `\"RECORD_TYPE\"` columns are needed by Senzing to identify unique records,  then any related to names or addresses will get used during _entity resolution_."
   ]
  },
  {
   "cell_type": "code",
   "execution_count": 5,
   "id": "e5842998-f755-4b39-bf25-98b63e6a255d",
   "metadata": {
    "execution": {
     "iopub.execute_input": "2024-03-26T22:51:16.843435Z",
     "iopub.status.busy": "2024-03-26T22:51:16.840620Z",
     "iopub.status.idle": "2024-03-26T22:51:16.853855Z",
     "shell.execute_reply": "2024-03-26T22:51:16.853149Z",
     "shell.execute_reply.started": "2024-03-26T22:51:16.843363Z"
    }
   },
   "outputs": [
    {
     "data": {
      "text/plain": [
       "Index(['DATA_SOURCE', 'RECORD_ID', 'RECORD_TYPE', 'PLACEKEY',\n",
       "       'LOCATION_NAME_ORG', 'BRANDS', 'TOP_CATEGORY', 'SUB_CATEGORY',\n",
       "       'NAICS_CODE', 'BUSINESS_GEO_LATITUDE', 'BUSINESS_GEO_LONGITUDE',\n",
       "       'CATEGORY_TAGS', 'CLOSED_ON', 'TRACKING_CLOSED_SINCE', 'PHONE_NUMBER',\n",
       "       'BUSINESS_ADDR_COUNTRY', 'BUSINESS_ADDR_FULL',\n",
       "       'MAILING_VERIFIED_STATUS', 'OPENED_ON', 'IS_INTERSECTION'],\n",
       "      dtype='object')"
      ]
     },
     "execution_count": 5,
     "metadata": {},
     "output_type": "execute_result"
    }
   ],
   "source": [
    "df_poi.columns"
   ]
  },
  {
   "cell_type": "code",
   "execution_count": 6,
   "id": "52fd2d42-e978-4ed1-b5b3-1f871ec4c736",
   "metadata": {
    "execution": {
     "iopub.execute_input": "2024-03-26T22:51:16.856280Z",
     "iopub.status.busy": "2024-03-26T22:51:16.855601Z",
     "iopub.status.idle": "2024-03-26T22:51:16.885761Z",
     "shell.execute_reply": "2024-03-26T22:51:16.884582Z",
     "shell.execute_reply.started": "2024-03-26T22:51:16.856255Z"
    }
   },
   "outputs": [],
   "source": [
    "df = sample_df(\n",
    "    df_poi,\n",
    "    set([\n",
    "        \"RECORD_ID\",\n",
    "        \"LOCATION_NAME_ORG\",\n",
    "        \"SUB_CATEGORY\",\n",
    "        \"BUSINESS_GEO_LATITUDE\",\n",
    "        \"BUSINESS_GEO_LONGITUDE\",\n",
    "        \"BUSINESS_ADDR_FULL\",\n",
    "    ]),\n",
    ")"
   ]
  },
  {
   "cell_type": "code",
   "execution_count": 7,
   "id": "a5fd479b-ec61-4659-a993-a8fc32a5a97c",
   "metadata": {
    "execution": {
     "iopub.execute_input": "2024-03-26T22:51:16.887514Z",
     "iopub.status.busy": "2024-03-26T22:51:16.887077Z",
     "iopub.status.idle": "2024-03-26T22:51:16.904760Z",
     "shell.execute_reply": "2024-03-26T22:51:16.903384Z",
     "shell.execute_reply.started": "2024-03-26T22:51:16.887485Z"
    }
   },
   "outputs": [
    {
     "data": {
      "text/html": [
       "<div>\n",
       "<style scoped>\n",
       "    .dataframe tbody tr th:only-of-type {\n",
       "        vertical-align: middle;\n",
       "    }\n",
       "\n",
       "    .dataframe tbody tr th {\n",
       "        vertical-align: top;\n",
       "    }\n",
       "\n",
       "    .dataframe thead th {\n",
       "        text-align: right;\n",
       "    }\n",
       "</style>\n",
       "<table border=\"1\" class=\"dataframe\">\n",
       "  <thead>\n",
       "    <tr style=\"text-align: right;\">\n",
       "      <th></th>\n",
       "      <th>RECORD_ID</th>\n",
       "      <th>LOCATION_NAME_ORG</th>\n",
       "      <th>SUB_CATEGORY</th>\n",
       "      <th>BUSINESS_GEO_LATITUDE</th>\n",
       "      <th>BUSINESS_GEO_LONGITUDE</th>\n",
       "      <th>BUSINESS_ADDR_FULL</th>\n",
       "    </tr>\n",
       "  </thead>\n",
       "  <tbody>\n",
       "    <tr>\n",
       "      <th>0</th>\n",
       "      <td>225-222@5yv-j92-tn5</td>\n",
       "      <td>Cantwell Michelle L Atty</td>\n",
       "      <td>Offices of Lawyers</td>\n",
       "      <td>36.145647</td>\n",
       "      <td>-115.186399</td>\n",
       "      <td>3320 W Sahara Ave Las Vegas NV 89102-3223</td>\n",
       "    </tr>\n",
       "    <tr>\n",
       "      <th>1</th>\n",
       "      <td>226-222@5yv-hmm-whq</td>\n",
       "      <td>Pieology Pizzeria</td>\n",
       "      <td>Limited-Service Restaurants</td>\n",
       "      <td>36.144906</td>\n",
       "      <td>-115.332644</td>\n",
       "      <td>10965 Lavender Hill Dr Ste 130 Las Vegas NV 89...</td>\n",
       "    </tr>\n",
       "    <tr>\n",
       "      <th>2</th>\n",
       "      <td>22s-222@5yv-jbz-jgk</td>\n",
       "      <td>Ellen Peneyra</td>\n",
       "      <td>Offices of All Other Miscellaneous Health Prac...</td>\n",
       "      <td>36.10289</td>\n",
       "      <td>-115.121807</td>\n",
       "      <td>2275 Renaissance Dr Ste D Las Vegas NV 89119-6797</td>\n",
       "    </tr>\n",
       "    <tr>\n",
       "      <th>3</th>\n",
       "      <td>28m-222@5yv-hmp-v4v</td>\n",
       "      <td>Stanford Jackson</td>\n",
       "      <td>Offices of All Other Miscellaneous Health Prac...</td>\n",
       "      <td>36.143386</td>\n",
       "      <td>-115.272694</td>\n",
       "      <td>8321 W Sahara Ave Apt 2007 Las Vegas NV 89117-...</td>\n",
       "    </tr>\n",
       "    <tr>\n",
       "      <th>4</th>\n",
       "      <td>22g-222@5yv-j9q-c89</td>\n",
       "      <td>Praise Templechurch</td>\n",
       "      <td>Religious Organizations</td>\n",
       "      <td>36.199677</td>\n",
       "      <td>-115.154611</td>\n",
       "      <td>952 Balzar Ave Las Vegas NV 89106-2204</td>\n",
       "    </tr>\n",
       "  </tbody>\n",
       "</table>\n",
       "</div>"
      ],
      "text/plain": [
       "             RECORD_ID         LOCATION_NAME_ORG  \\\n",
       "0  225-222@5yv-j92-tn5  Cantwell Michelle L Atty   \n",
       "1  226-222@5yv-hmm-whq         Pieology Pizzeria   \n",
       "2  22s-222@5yv-jbz-jgk             Ellen Peneyra   \n",
       "3  28m-222@5yv-hmp-v4v          Stanford Jackson   \n",
       "4  22g-222@5yv-j9q-c89       Praise Templechurch   \n",
       "\n",
       "                                        SUB_CATEGORY BUSINESS_GEO_LATITUDE  \\\n",
       "0                                 Offices of Lawyers             36.145647   \n",
       "1                        Limited-Service Restaurants             36.144906   \n",
       "2  Offices of All Other Miscellaneous Health Prac...              36.10289   \n",
       "3  Offices of All Other Miscellaneous Health Prac...             36.143386   \n",
       "4                            Religious Organizations             36.199677   \n",
       "\n",
       "  BUSINESS_GEO_LONGITUDE                                 BUSINESS_ADDR_FULL  \n",
       "0            -115.186399          3320 W Sahara Ave Las Vegas NV 89102-3223  \n",
       "1            -115.332644  10965 Lavender Hill Dr Ste 130 Las Vegas NV 89...  \n",
       "2            -115.121807  2275 Renaissance Dr Ste D Las Vegas NV 89119-6797  \n",
       "3            -115.272694  8321 W Sahara Ave Apt 2007 Las Vegas NV 89117-...  \n",
       "4            -115.154611             952 Balzar Ave Las Vegas NV 89106-2204  "
      ]
     },
     "execution_count": 7,
     "metadata": {},
     "output_type": "execute_result"
    }
   ],
   "source": [
    "df.head()"
   ]
  },
  {
   "cell_type": "code",
   "execution_count": 8,
   "id": "00474aab-6b33-44ae-b6cf-db390aa2e2ee",
   "metadata": {
    "execution": {
     "iopub.execute_input": "2024-03-26T22:51:16.910366Z",
     "iopub.status.busy": "2024-03-26T22:51:16.909095Z",
     "iopub.status.idle": "2024-03-26T22:51:17.401895Z",
     "shell.execute_reply": "2024-03-26T22:51:17.401261Z",
     "shell.execute_reply.started": "2024-03-26T22:51:16.910290Z"
    }
   },
   "outputs": [
    {
     "data": {
      "text/html": [
       "<div>\n",
       "<style scoped>\n",
       "    .dataframe tbody tr th:only-of-type {\n",
       "        vertical-align: middle;\n",
       "    }\n",
       "\n",
       "    .dataframe tbody tr th {\n",
       "        vertical-align: top;\n",
       "    }\n",
       "\n",
       "    .dataframe thead th {\n",
       "        text-align: right;\n",
       "    }\n",
       "</style>\n",
       "<table border=\"1\" class=\"dataframe\">\n",
       "  <thead>\n",
       "    <tr style=\"text-align: right;\">\n",
       "      <th></th>\n",
       "      <th>RECORD_ID</th>\n",
       "      <th>LOCATION_NAME_ORG</th>\n",
       "      <th>SUB_CATEGORY</th>\n",
       "      <th>BUSINESS_GEO_LATITUDE</th>\n",
       "      <th>BUSINESS_GEO_LONGITUDE</th>\n",
       "      <th>BUSINESS_ADDR_FULL</th>\n",
       "    </tr>\n",
       "  </thead>\n",
       "  <tbody>\n",
       "    <tr>\n",
       "      <th>count</th>\n",
       "      <td>98806</td>\n",
       "      <td>98806</td>\n",
       "      <td>83024</td>\n",
       "      <td>98806</td>\n",
       "      <td>98806</td>\n",
       "      <td>92327</td>\n",
       "    </tr>\n",
       "    <tr>\n",
       "      <th>freq</th>\n",
       "      <td>1</td>\n",
       "      <td>438</td>\n",
       "      <td>7728</td>\n",
       "      <td>12</td>\n",
       "      <td>15</td>\n",
       "      <td>262</td>\n",
       "    </tr>\n",
       "    <tr>\n",
       "      <th>unique</th>\n",
       "      <td>98806</td>\n",
       "      <td>84643</td>\n",
       "      <td>396</td>\n",
       "      <td>69765</td>\n",
       "      <td>73723</td>\n",
       "      <td>43900</td>\n",
       "    </tr>\n",
       "  </tbody>\n",
       "</table>\n",
       "</div>"
      ],
      "text/plain": [
       "       RECORD_ID LOCATION_NAME_ORG SUB_CATEGORY BUSINESS_GEO_LATITUDE  \\\n",
       "count      98806             98806        83024                 98806   \n",
       "freq           1               438         7728                    12   \n",
       "unique     98806             84643          396                 69765   \n",
       "\n",
       "       BUSINESS_GEO_LONGITUDE BUSINESS_ADDR_FULL  \n",
       "count                   98806              92327  \n",
       "freq                       15                262  \n",
       "unique                  73723              43900  "
      ]
     },
     "execution_count": 8,
     "metadata": {},
     "output_type": "execute_result"
    }
   ],
   "source": [
    "df.describe().loc[[ \"count\", \"freq\", \"unique\", ]]"
   ]
  },
  {
   "cell_type": "markdown",
   "id": "b31d2eb4-3c9a-40e4-805f-f2da6b6885b9",
   "metadata": {
    "jp-MarkdownHeadingCollapsed": true
   },
   "source": [
    "### Load the DoL WHISARD dataset"
   ]
  },
  {
   "cell_type": "markdown",
   "id": "17419ba0-c66c-489c-bfd4-0fc5f5ea7f13",
   "metadata": {},
   "source": [
    "Load the `Wage and Hour Compliance Action Data` (WHISARD) dataset for Las Vegas, from the US Department of Labor: <https://enforcedata.dol.gov/views/data_summary.php>"
   ]
  },
  {
   "cell_type": "code",
   "execution_count": 9,
   "id": "57501d05-56c6-4b23-92fd-1872332f74a4",
   "metadata": {
    "execution": {
     "iopub.execute_input": "2024-03-26T22:51:17.402949Z",
     "iopub.status.busy": "2024-03-26T22:51:17.402758Z",
     "iopub.status.idle": "2024-03-26T22:51:17.438600Z",
     "shell.execute_reply": "2024-03-26T22:51:17.437932Z",
     "shell.execute_reply.started": "2024-03-26T22:51:17.402930Z"
    }
   },
   "outputs": [],
   "source": [
    "dol_path: pathlib.Path = pathlib.Path(\"lv_data\") / \"dol.csv\"\n",
    "\n",
    "df_dol: pd.DataFrame = pd.read_csv(\n",
    "    dol_path,\n",
    "    dtype = str,\n",
    "    encoding = \"utf-8\",\n",
    ")"
   ]
  },
  {
   "cell_type": "code",
   "execution_count": 10,
   "id": "eaa7f8e7-1258-4a97-9013-302eec352cde",
   "metadata": {
    "execution": {
     "iopub.execute_input": "2024-03-26T22:51:17.439788Z",
     "iopub.status.busy": "2024-03-26T22:51:17.439445Z",
     "iopub.status.idle": "2024-03-26T22:51:17.444011Z",
     "shell.execute_reply": "2024-03-26T22:51:17.443485Z",
     "shell.execute_reply.started": "2024-03-26T22:51:17.439770Z"
    }
   },
   "outputs": [
    {
     "data": {
      "text/plain": [
       "Index(['RECORD_TYPE', 'DATA_SOURCE', 'RECORD_ID', 'case_id',\n",
       "       'BUSINESS_NAME_ORG', 'LEGAL_NAME_ORG', 'BUSINESS_ADDR_LINE1',\n",
       "       'BUSINESS_ADDR_CITY', 'BUSINESS_ADDR_STATE',\n",
       "       'BUSINESS_ADDR_POSTAL_CODE',\n",
       "       ...\n",
       "       'flsa_smwsl_bw_atp_amt', 'flsa_smwsl_ee_atp_cnt', 'eev_violtn_cnt',\n",
       "       'h2b_violtn_cnt', 'h2b_bw_atp_amt', 'h2b_ee_atp_cnt', 'sraw_violtn_cnt',\n",
       "       'sraw_bw_atp_amt', 'sraw_ee_atp_cnt', 'ld_dt'],\n",
       "      dtype='object', length=113)"
      ]
     },
     "execution_count": 10,
     "metadata": {},
     "output_type": "execute_result"
    }
   ],
   "source": [
    "df_dol.columns"
   ]
  },
  {
   "cell_type": "code",
   "execution_count": 11,
   "id": "888df916-f2b4-4a0f-af38-196a0b46af7f",
   "metadata": {
    "execution": {
     "iopub.execute_input": "2024-03-26T22:51:17.446064Z",
     "iopub.status.busy": "2024-03-26T22:51:17.445546Z",
     "iopub.status.idle": "2024-03-26T22:51:17.450597Z",
     "shell.execute_reply": "2024-03-26T22:51:17.449774Z",
     "shell.execute_reply.started": "2024-03-26T22:51:17.446040Z"
    }
   },
   "outputs": [],
   "source": [
    "df = sample_df(\n",
    "    df_dol,\n",
    "    set([\n",
    "        \"RECORD_ID\",\n",
    "        \"BUSINESS_NAME_ORG\",\n",
    "        \"BUSINESS_ADDR_LINE1\",\n",
    "        \"naics_code_description\",\n",
    "        \"case_violtn_cnt\",\n",
    "    ]),\n",
    ")"
   ]
  },
  {
   "cell_type": "code",
   "execution_count": 12,
   "id": "0600b1f6-0e12-435d-9c62-97f6b471225a",
   "metadata": {
    "execution": {
     "iopub.execute_input": "2024-03-26T22:51:17.455809Z",
     "iopub.status.busy": "2024-03-26T22:51:17.455558Z",
     "iopub.status.idle": "2024-03-26T22:51:17.462347Z",
     "shell.execute_reply": "2024-03-26T22:51:17.461844Z",
     "shell.execute_reply.started": "2024-03-26T22:51:17.455789Z"
    }
   },
   "outputs": [
    {
     "data": {
      "text/html": [
       "<div>\n",
       "<style scoped>\n",
       "    .dataframe tbody tr th:only-of-type {\n",
       "        vertical-align: middle;\n",
       "    }\n",
       "\n",
       "    .dataframe tbody tr th {\n",
       "        vertical-align: top;\n",
       "    }\n",
       "\n",
       "    .dataframe thead th {\n",
       "        text-align: right;\n",
       "    }\n",
       "</style>\n",
       "<table border=\"1\" class=\"dataframe\">\n",
       "  <thead>\n",
       "    <tr style=\"text-align: right;\">\n",
       "      <th></th>\n",
       "      <th>RECORD_ID</th>\n",
       "      <th>BUSINESS_NAME_ORG</th>\n",
       "      <th>BUSINESS_ADDR_LINE1</th>\n",
       "      <th>naics_code_description</th>\n",
       "      <th>case_violtn_cnt</th>\n",
       "    </tr>\n",
       "  </thead>\n",
       "  <tbody>\n",
       "    <tr>\n",
       "      <th>0</th>\n",
       "      <td>7017</td>\n",
       "      <td>Fabulous Freddy's (Trailwood)</td>\n",
       "      <td>9611 Trail Wood Drive</td>\n",
       "      <td>Car Washes</td>\n",
       "      <td>0</td>\n",
       "    </tr>\n",
       "    <tr>\n",
       "      <th>1</th>\n",
       "      <td>7018</td>\n",
       "      <td>Boulder Station Hotel &amp; Casino</td>\n",
       "      <td>4111 Boulder Hwy</td>\n",
       "      <td>Casino Hotels</td>\n",
       "      <td>1</td>\n",
       "    </tr>\n",
       "    <tr>\n",
       "      <th>2</th>\n",
       "      <td>7021</td>\n",
       "      <td>MSI Landscaping</td>\n",
       "      <td>4820 Quality Court, #B</td>\n",
       "      <td>Landscaping Services</td>\n",
       "      <td>14</td>\n",
       "    </tr>\n",
       "    <tr>\n",
       "      <th>3</th>\n",
       "      <td>7022</td>\n",
       "      <td>Pastime Pools</td>\n",
       "      <td>731 Memory Ln</td>\n",
       "      <td>All Other Specialty Trade Contractors</td>\n",
       "      <td>0</td>\n",
       "    </tr>\n",
       "    <tr>\n",
       "      <th>4</th>\n",
       "      <td>7023</td>\n",
       "      <td>Steven Michaels</td>\n",
       "      <td>4108 Autum St</td>\n",
       "      <td>Private Households</td>\n",
       "      <td>2</td>\n",
       "    </tr>\n",
       "  </tbody>\n",
       "</table>\n",
       "</div>"
      ],
      "text/plain": [
       "  RECORD_ID               BUSINESS_NAME_ORG     BUSINESS_ADDR_LINE1  \\\n",
       "0      7017   Fabulous Freddy's (Trailwood)   9611 Trail Wood Drive   \n",
       "1      7018  Boulder Station Hotel & Casino        4111 Boulder Hwy   \n",
       "2      7021                 MSI Landscaping  4820 Quality Court, #B   \n",
       "3      7022                   Pastime Pools           731 Memory Ln   \n",
       "4      7023                 Steven Michaels           4108 Autum St   \n",
       "\n",
       "                  naics_code_description case_violtn_cnt  \n",
       "0                             Car Washes               0  \n",
       "1                          Casino Hotels               1  \n",
       "2                   Landscaping Services              14  \n",
       "3  All Other Specialty Trade Contractors               0  \n",
       "4                     Private Households               2  "
      ]
     },
     "execution_count": 12,
     "metadata": {},
     "output_type": "execute_result"
    }
   ],
   "source": [
    "df.head()"
   ]
  },
  {
   "cell_type": "code",
   "execution_count": 13,
   "id": "e6306158-76ca-46df-afb9-8846f3fb11cd",
   "metadata": {
    "execution": {
     "iopub.execute_input": "2024-03-26T22:51:17.463379Z",
     "iopub.status.busy": "2024-03-26T22:51:17.463162Z",
     "iopub.status.idle": "2024-03-26T22:51:17.479326Z",
     "shell.execute_reply": "2024-03-26T22:51:17.478599Z",
     "shell.execute_reply.started": "2024-03-26T22:51:17.463359Z"
    }
   },
   "outputs": [
    {
     "data": {
      "text/html": [
       "<div>\n",
       "<style scoped>\n",
       "    .dataframe tbody tr th:only-of-type {\n",
       "        vertical-align: middle;\n",
       "    }\n",
       "\n",
       "    .dataframe tbody tr th {\n",
       "        vertical-align: top;\n",
       "    }\n",
       "\n",
       "    .dataframe thead th {\n",
       "        text-align: right;\n",
       "    }\n",
       "</style>\n",
       "<table border=\"1\" class=\"dataframe\">\n",
       "  <thead>\n",
       "    <tr style=\"text-align: right;\">\n",
       "      <th></th>\n",
       "      <th>RECORD_ID</th>\n",
       "      <th>BUSINESS_NAME_ORG</th>\n",
       "      <th>BUSINESS_ADDR_LINE1</th>\n",
       "      <th>naics_code_description</th>\n",
       "      <th>case_violtn_cnt</th>\n",
       "    </tr>\n",
       "  </thead>\n",
       "  <tbody>\n",
       "    <tr>\n",
       "      <th>count</th>\n",
       "      <td>1533</td>\n",
       "      <td>1532</td>\n",
       "      <td>1532</td>\n",
       "      <td>1532</td>\n",
       "      <td>1532</td>\n",
       "    </tr>\n",
       "    <tr>\n",
       "      <th>freq</th>\n",
       "      <td>1</td>\n",
       "      <td>10</td>\n",
       "      <td>4</td>\n",
       "      <td>134</td>\n",
       "      <td>407</td>\n",
       "    </tr>\n",
       "    <tr>\n",
       "      <th>unique</th>\n",
       "      <td>1533</td>\n",
       "      <td>1413</td>\n",
       "      <td>1455</td>\n",
       "      <td>387</td>\n",
       "      <td>160</td>\n",
       "    </tr>\n",
       "  </tbody>\n",
       "</table>\n",
       "</div>"
      ],
      "text/plain": [
       "       RECORD_ID BUSINESS_NAME_ORG BUSINESS_ADDR_LINE1 naics_code_description  \\\n",
       "count       1533              1532                1532                   1532   \n",
       "freq           1                10                   4                    134   \n",
       "unique      1533              1413                1455                    387   \n",
       "\n",
       "       case_violtn_cnt  \n",
       "count             1532  \n",
       "freq               407  \n",
       "unique             160  "
      ]
     },
     "execution_count": 13,
     "metadata": {},
     "output_type": "execute_result"
    }
   ],
   "source": [
    "df.describe().loc[[ \"count\", \"freq\", \"unique\", ]]"
   ]
  },
  {
   "cell_type": "markdown",
   "id": "cf98bf73-d0ae-4620-a8b4-b2d8f168e731",
   "metadata": {},
   "source": [
    "### Load the PPP Loans dataset"
   ]
  },
  {
   "cell_type": "markdown",
   "id": "3a378837-47e3-491c-9de3-335250b3b0e1",
   "metadata": {},
   "source": [
    "Load the `PPP Loans over $150K` (PPP) dataset for Las Vegas, from the US Small Business Administration: <https://data.sba.gov/dataset/ppp-foia>"
   ]
  },
  {
   "cell_type": "code",
   "execution_count": 14,
   "id": "525eb7a0-b977-41fb-9711-f4032107b6d3",
   "metadata": {
    "execution": {
     "iopub.execute_input": "2024-03-26T22:51:17.480572Z",
     "iopub.status.busy": "2024-03-26T22:51:17.480328Z",
     "iopub.status.idle": "2024-03-26T22:51:17.500824Z",
     "shell.execute_reply": "2024-03-26T22:51:17.500177Z",
     "shell.execute_reply.started": "2024-03-26T22:51:17.480555Z"
    }
   },
   "outputs": [],
   "source": [
    "ppp_path: pathlib.Path = pathlib.Path(\"lv_data\") / \"ppp.csv\"\n",
    "\n",
    "df_ppp: pd.DataFrame = pd.read_csv(\n",
    "    ppp_path,\n",
    "    dtype = str,\n",
    "    encoding = \"utf-8\",\n",
    ")"
   ]
  },
  {
   "cell_type": "code",
   "execution_count": 15,
   "id": "c1c37135-2391-46b8-91d0-84bef2809769",
   "metadata": {
    "execution": {
     "iopub.execute_input": "2024-03-26T22:51:17.502418Z",
     "iopub.status.busy": "2024-03-26T22:51:17.501809Z",
     "iopub.status.idle": "2024-03-26T22:51:17.507328Z",
     "shell.execute_reply": "2024-03-26T22:51:17.506830Z",
     "shell.execute_reply.started": "2024-03-26T22:51:17.502393Z"
    }
   },
   "outputs": [
    {
     "data": {
      "text/plain": [
       "Index(['RECORD_TYPE', 'DATA_SOURCE', 'RECORD_ID', 'Loan_Range',\n",
       "       'BUSINESS_NAME_ORG', 'BUSINESS_ADDR_LINE1', 'BUSINESS_ADDR_CITY',\n",
       "       'BUSINESS_ADDR_STATE', 'BUSINESS_ADDR_POSTAL_CODE', 'NAICS_Code',\n",
       "       'Business_Type', 'OwnedByRaceEthnicity', 'OwnedBy', 'OwnedByVeteran',\n",
       "       'NonProfit', 'JobsReported', 'DateApproved', 'Lender', 'CD'],\n",
       "      dtype='object')"
      ]
     },
     "execution_count": 15,
     "metadata": {},
     "output_type": "execute_result"
    }
   ],
   "source": [
    "df_ppp.columns"
   ]
  },
  {
   "cell_type": "code",
   "execution_count": 16,
   "id": "66a784be-ce89-4f43-9877-81d4d1380a26",
   "metadata": {
    "execution": {
     "iopub.execute_input": "2024-03-26T22:51:17.508405Z",
     "iopub.status.busy": "2024-03-26T22:51:17.508226Z",
     "iopub.status.idle": "2024-03-26T22:51:17.512197Z",
     "shell.execute_reply": "2024-03-26T22:51:17.511653Z",
     "shell.execute_reply.started": "2024-03-26T22:51:17.508388Z"
    }
   },
   "outputs": [],
   "source": [
    "df = sample_df(\n",
    "    df_ppp,\n",
    "    set([\n",
    "        \"RECORD_ID\",\n",
    "        \"BUSINESS_NAME_ORG\",\n",
    "        \"BUSINESS_ADDR_LINE1\",\n",
    "        \"Business_Type\",\n",
    "        \"JobsReported\",\n",
    "    ]),\n",
    ")"
   ]
  },
  {
   "cell_type": "code",
   "execution_count": 17,
   "id": "86bb0474-20ea-4036-ba17-9b31fd4fe7be",
   "metadata": {
    "execution": {
     "iopub.execute_input": "2024-03-26T22:51:17.513309Z",
     "iopub.status.busy": "2024-03-26T22:51:17.512995Z",
     "iopub.status.idle": "2024-03-26T22:51:17.522023Z",
     "shell.execute_reply": "2024-03-26T22:51:17.521530Z",
     "shell.execute_reply.started": "2024-03-26T22:51:17.513284Z"
    }
   },
   "outputs": [
    {
     "data": {
      "text/html": [
       "<div>\n",
       "<style scoped>\n",
       "    .dataframe tbody tr th:only-of-type {\n",
       "        vertical-align: middle;\n",
       "    }\n",
       "\n",
       "    .dataframe tbody tr th {\n",
       "        vertical-align: top;\n",
       "    }\n",
       "\n",
       "    .dataframe thead th {\n",
       "        text-align: right;\n",
       "    }\n",
       "</style>\n",
       "<table border=\"1\" class=\"dataframe\">\n",
       "  <thead>\n",
       "    <tr style=\"text-align: right;\">\n",
       "      <th></th>\n",
       "      <th>RECORD_ID</th>\n",
       "      <th>BUSINESS_NAME_ORG</th>\n",
       "      <th>BUSINESS_ADDR_LINE1</th>\n",
       "      <th>Business_Type</th>\n",
       "      <th>JobsReported</th>\n",
       "    </tr>\n",
       "  </thead>\n",
       "  <tbody>\n",
       "    <tr>\n",
       "      <th>0</th>\n",
       "      <td>7017</td>\n",
       "      <td>INFINITY HOSPICE CARE OF LAS VEGAS, LLC</td>\n",
       "      <td>5110 N 40TH ST STE 107</td>\n",
       "      <td>Limited  Liability Company(LLC)</td>\n",
       "      <td>137</td>\n",
       "    </tr>\n",
       "    <tr>\n",
       "      <th>1</th>\n",
       "      <td>7018</td>\n",
       "      <td>CLUB TATTOO LAS VEGAS LLC</td>\n",
       "      <td>1839 s. almaschool rd. ste 230</td>\n",
       "      <td>Limited  Liability Company(LLC)</td>\n",
       "      <td>15</td>\n",
       "    </tr>\n",
       "    <tr>\n",
       "      <th>2</th>\n",
       "      <td>7021</td>\n",
       "      <td>LAS VEGAS LABOR, LLC</td>\n",
       "      <td>10265 W Camelback Rd, Ste 104</td>\n",
       "      <td>Limited  Liability Company(LLC)</td>\n",
       "      <td>0</td>\n",
       "    </tr>\n",
       "    <tr>\n",
       "      <th>3</th>\n",
       "      <td>7022</td>\n",
       "      <td>FIRST CUP PARTNERS LAS VEGAS II, LLC</td>\n",
       "      <td>106 S Kyrene Rd, Ste 2</td>\n",
       "      <td>Limited  Liability Company(LLC)</td>\n",
       "      <td>105</td>\n",
       "    </tr>\n",
       "    <tr>\n",
       "      <th>4</th>\n",
       "      <td>7023</td>\n",
       "      <td>FIRST CUP PARTNERS LAS VEGAS, LLC</td>\n",
       "      <td>2121 W Chandler Blvd Ste 106</td>\n",
       "      <td>Limited  Liability Company(LLC)</td>\n",
       "      <td>124</td>\n",
       "    </tr>\n",
       "  </tbody>\n",
       "</table>\n",
       "</div>"
      ],
      "text/plain": [
       "  RECORD_ID                        BUSINESS_NAME_ORG  \\\n",
       "0      7017  INFINITY HOSPICE CARE OF LAS VEGAS, LLC   \n",
       "1      7018                CLUB TATTOO LAS VEGAS LLC   \n",
       "2      7021                     LAS VEGAS LABOR, LLC   \n",
       "3      7022     FIRST CUP PARTNERS LAS VEGAS II, LLC   \n",
       "4      7023        FIRST CUP PARTNERS LAS VEGAS, LLC   \n",
       "\n",
       "              BUSINESS_ADDR_LINE1                    Business_Type  \\\n",
       "0          5110 N 40TH ST STE 107  Limited  Liability Company(LLC)   \n",
       "1  1839 s. almaschool rd. ste 230  Limited  Liability Company(LLC)   \n",
       "2   10265 W Camelback Rd, Ste 104  Limited  Liability Company(LLC)   \n",
       "3          106 S Kyrene Rd, Ste 2  Limited  Liability Company(LLC)   \n",
       "4    2121 W Chandler Blvd Ste 106  Limited  Liability Company(LLC)   \n",
       "\n",
       "  JobsReported  \n",
       "0          137  \n",
       "1           15  \n",
       "2            0  \n",
       "3          105  \n",
       "4          124  "
      ]
     },
     "execution_count": 17,
     "metadata": {},
     "output_type": "execute_result"
    }
   ],
   "source": [
    "df.head()"
   ]
  },
  {
   "cell_type": "code",
   "execution_count": 18,
   "id": "70ffd1ac-5e7e-44e9-b1ea-a1a1d48e22f8",
   "metadata": {
    "execution": {
     "iopub.execute_input": "2024-03-26T22:51:17.523189Z",
     "iopub.status.busy": "2024-03-26T22:51:17.522961Z",
     "iopub.status.idle": "2024-03-26T22:51:17.539298Z",
     "shell.execute_reply": "2024-03-26T22:51:17.538785Z",
     "shell.execute_reply.started": "2024-03-26T22:51:17.523172Z"
    }
   },
   "outputs": [
    {
     "data": {
      "text/html": [
       "<div>\n",
       "<style scoped>\n",
       "    .dataframe tbody tr th:only-of-type {\n",
       "        vertical-align: middle;\n",
       "    }\n",
       "\n",
       "    .dataframe tbody tr th {\n",
       "        vertical-align: top;\n",
       "    }\n",
       "\n",
       "    .dataframe thead th {\n",
       "        text-align: right;\n",
       "    }\n",
       "</style>\n",
       "<table border=\"1\" class=\"dataframe\">\n",
       "  <thead>\n",
       "    <tr style=\"text-align: right;\">\n",
       "      <th></th>\n",
       "      <th>RECORD_ID</th>\n",
       "      <th>BUSINESS_NAME_ORG</th>\n",
       "      <th>BUSINESS_ADDR_LINE1</th>\n",
       "      <th>Business_Type</th>\n",
       "      <th>JobsReported</th>\n",
       "    </tr>\n",
       "  </thead>\n",
       "  <tbody>\n",
       "    <tr>\n",
       "      <th>count</th>\n",
       "      <td>3488</td>\n",
       "      <td>3487</td>\n",
       "      <td>3488</td>\n",
       "      <td>3485</td>\n",
       "      <td>3247</td>\n",
       "    </tr>\n",
       "    <tr>\n",
       "      <th>freq</th>\n",
       "      <td>1</td>\n",
       "      <td>2</td>\n",
       "      <td>20</td>\n",
       "      <td>1532</td>\n",
       "      <td>125</td>\n",
       "    </tr>\n",
       "    <tr>\n",
       "      <th>unique</th>\n",
       "      <td>3488</td>\n",
       "      <td>3480</td>\n",
       "      <td>3293</td>\n",
       "      <td>13</td>\n",
       "      <td>287</td>\n",
       "    </tr>\n",
       "  </tbody>\n",
       "</table>\n",
       "</div>"
      ],
      "text/plain": [
       "       RECORD_ID BUSINESS_NAME_ORG BUSINESS_ADDR_LINE1 Business_Type  \\\n",
       "count       3488              3487                3488          3485   \n",
       "freq           1                 2                  20          1532   \n",
       "unique      3488              3480                3293            13   \n",
       "\n",
       "       JobsReported  \n",
       "count          3247  \n",
       "freq            125  \n",
       "unique          287  "
      ]
     },
     "execution_count": 18,
     "metadata": {},
     "output_type": "execute_result"
    }
   ],
   "source": [
    "df.describe().loc[[ \"count\", \"freq\", \"unique\", ]]"
   ]
  },
  {
   "cell_type": "markdown",
   "id": "5704e747-2d67-4167-8f2b-672ab0649f97",
   "metadata": {
    "jp-MarkdownHeadingCollapsed": true
   },
   "source": [
    "## Connect GDS to Neo4j Desktop"
   ]
  },
  {
   "cell_type": "code",
   "execution_count": null,
   "id": "1bc0cacc-5534-4535-ab7b-1790f0c45e78",
   "metadata": {
    "execution": {
     "iopub.status.busy": "2024-03-26T22:51:17.809825Z",
     "iopub.status.idle": "2024-03-26T22:51:17.810245Z",
     "shell.execute_reply": "2024-03-26T22:51:17.810088Z",
     "shell.execute_reply.started": "2024-03-26T22:51:17.810059Z"
    }
   },
   "outputs": [],
   "source": [
    "dotenv.load_dotenv(dotenv.find_dotenv())\n",
    "\n",
    "bolt_uri: str = os.environ.get(\"NEO4J_BOLT\")\n",
    "username: str = os.environ.get(\"NEO4J_USER\")\n",
    "password: str = os.environ.get(\"NEO4J_PASS\")\n",
    "\n",
    "gds:GraphDataScience = GraphDataScience(\n",
    "    bolt_uri,\n",
    "    auth = ( username, password, ),\n",
    "    aura_ds = False,\n",
    ")"
   ]
  },
  {
   "cell_type": "markdown",
   "id": "4efc5c48-9e03-4700-8435-325744991d76",
   "metadata": {},
   "source": [
    "## Load records into the KG"
   ]
  },
  {
   "cell_type": "markdown",
   "id": "af2f9e52-e221-4707-8992-adb1fdc684db",
   "metadata": {},
   "source": [
    "Define utility functions used for loading the graph data."
   ]
  },
  {
   "cell_type": "code",
   "execution_count": 19,
   "id": "67482f89-7d4e-43e5-89ce-eb7f1cd08da4",
   "metadata": {
    "execution": {
     "iopub.execute_input": "2024-03-26T22:51:17.540387Z",
     "iopub.status.busy": "2024-03-26T22:51:17.540187Z",
     "iopub.status.idle": "2024-03-26T22:51:17.544843Z",
     "shell.execute_reply": "2024-03-26T22:51:17.543962Z",
     "shell.execute_reply.started": "2024-03-26T22:51:17.540369Z"
    }
   },
   "outputs": [],
   "source": [
    "def get_property_keys (\n",
    "    df: pd.DataFrame,\n",
    "    ) -> typing.List[ str ]:\n",
    "    \"\"\"\n",
    "Convert the column names from the given Pandas dataframe into Cypher property names.\n",
    "    \"\"\"\n",
    "    return [\n",
    "        name.lower().replace(\" \", \"_\")\n",
    "        for name in df.columns.values.tolist()\n",
    "    ]\n",
    "\n",
    "\n",
    "def safe_value (\n",
    "    obj: typing.Any,\n",
    "    ) -> typing.Any:\n",
    "    \"\"\"\n",
    "Escape double quotes within string values.\n",
    "    \"\"\"\n",
    "    if isinstance(obj, str):\n",
    "        return obj.replace('\"', \"'\")\n",
    "\n",
    "    return obj"
   ]
  },
  {
   "cell_type": "code",
   "execution_count": 20,
   "id": "7a6992d6-a119-40c1-ae75-fa43cc869daa",
   "metadata": {
    "execution": {
     "iopub.execute_input": "2024-03-26T22:51:17.545864Z",
     "iopub.status.busy": "2024-03-26T22:51:17.545685Z",
     "iopub.status.idle": "2024-03-26T22:51:17.788882Z",
     "shell.execute_reply": "2024-03-26T22:51:17.787902Z",
     "shell.execute_reply.started": "2024-03-26T22:51:17.545847Z"
    }
   },
   "outputs": [
    {
     "ename": "NameError",
     "evalue": "name 'neo4j' is not defined",
     "output_type": "error",
     "traceback": [
      "\u001b[0;31m---------------------------------------------------------------------------\u001b[0m",
      "\u001b[0;31mNameError\u001b[0m                                 Traceback (most recent call last)",
      "Cell \u001b[0;32mIn[20], line 27\u001b[0m\n\u001b[1;32m     13\u001b[0m     props: \u001b[38;5;28mstr\u001b[39m \u001b[38;5;241m=\u001b[39m \u001b[38;5;124m\"\u001b[39m\u001b[38;5;124m, \u001b[39m\u001b[38;5;124m\"\u001b[39m\u001b[38;5;241m.\u001b[39mjoin([\n\u001b[1;32m     14\u001b[0m         \u001b[38;5;124mf\u001b[39m\u001b[38;5;124m\"\u001b[39m\u001b[38;5;124mrec.\u001b[39m\u001b[38;5;132;01m{\u001b[39;00mkey\u001b[38;5;132;01m}\u001b[39;00m\u001b[38;5;124m = \u001b[39m\u001b[38;5;130;01m\\\"\u001b[39;00m\u001b[38;5;132;01m{\u001b[39;00mval\u001b[38;5;132;01m}\u001b[39;00m\u001b[38;5;130;01m\\\"\u001b[39;00m\u001b[38;5;124m\"\u001b[39m\n\u001b[1;32m     15\u001b[0m         \u001b[38;5;28;01mfor\u001b[39;00m key, val \u001b[38;5;129;01min\u001b[39;00m row_dict\u001b[38;5;241m.\u001b[39mitems()\n\u001b[1;32m     16\u001b[0m     ])\n\u001b[1;32m     18\u001b[0m     \u001b[38;5;28;01mreturn\u001b[39;00m \u001b[38;5;124mf\u001b[39m\u001b[38;5;124m\"\"\"\u001b[39m\n\u001b[1;32m     19\u001b[0m \u001b[38;5;124mMERGE (rec:Record \u001b[39m\u001b[38;5;130;01m{{\u001b[39;00m\u001b[38;5;124m uid: \u001b[39m\u001b[38;5;130;01m\\\"\u001b[39;00m\u001b[38;5;132;01m{\u001b[39;00muid\u001b[38;5;132;01m}\u001b[39;00m\u001b[38;5;130;01m\\\"\u001b[39;00m\u001b[38;5;124m \u001b[39m\u001b[38;5;130;01m}}\u001b[39;00m\u001b[38;5;124m)\u001b[39m\n\u001b[1;32m     20\u001b[0m \u001b[38;5;124m  ON CREATE\u001b[39m\n\u001b[1;32m     21\u001b[0m \u001b[38;5;124m    SET \u001b[39m\u001b[38;5;132;01m{\u001b[39;00mprops\u001b[38;5;132;01m}\u001b[39;00m\u001b[38;5;124m      \u001b[39m\n\u001b[1;32m     22\u001b[0m \u001b[38;5;124mRETURN rec.data_source, rec.record_id\u001b[39m\n\u001b[1;32m     23\u001b[0m \u001b[38;5;124m    \u001b[39m\u001b[38;5;124m\"\"\"\u001b[39m\n\u001b[1;32m     26\u001b[0m \u001b[38;5;28;01mdef\u001b[39;00m \u001b[38;5;21mload_records\u001b[39m (\n\u001b[0;32m---> 27\u001b[0m     session: \u001b[43mneo4j\u001b[49m\u001b[38;5;241m.\u001b[39mSession,\n\u001b[1;32m     28\u001b[0m     df: pd\u001b[38;5;241m.\u001b[39mDataFrame,\n\u001b[1;32m     29\u001b[0m     ) \u001b[38;5;241m-\u001b[39m\u001b[38;5;241m>\u001b[39m \u001b[38;5;28;01mNone\u001b[39;00m:\n\u001b[1;32m     30\u001b[0m \u001b[38;5;250m    \u001b[39m\u001b[38;5;124;03m\"\"\"\u001b[39;00m\n\u001b[1;32m     31\u001b[0m \u001b[38;5;124;03mIterate over each Record from one dataset to load using Cypher.\u001b[39;00m\n\u001b[1;32m     32\u001b[0m \u001b[38;5;124;03m    \"\"\"\u001b[39;00m\n\u001b[1;32m     33\u001b[0m     keys: typing\u001b[38;5;241m.\u001b[39mList[ \u001b[38;5;28mstr\u001b[39m ] \u001b[38;5;241m=\u001b[39m get_property_keys(df)\n",
      "\u001b[0;31mNameError\u001b[0m: name 'neo4j' is not defined"
     ]
    }
   ],
   "source": [
    "def format_merge_record (\n",
    "    keys: typing.List[ str ],\n",
    "    vals: list,\n",
    "    ) -> str:\n",
    "    \"\"\"\n",
    "Format one MERGE statement in Cypher for the values of a given Record.\n",
    "    \"\"\"\n",
    "    safe_vals = [ safe_value(v) for v in vals ]\n",
    "    row_dict: dict = dict(zip(keys, safe_vals))\n",
    "\n",
    "    uid: str = row_dict[\"data_source\"].upper() + \".\" + row_dict[\"record_id\"]\n",
    "    \n",
    "    props: str = \", \".join([\n",
    "        f\"rec.{key} = \\\"{val}\\\"\"\n",
    "        for key, val in row_dict.items()\n",
    "    ])\n",
    "\n",
    "    return f\"\"\"\n",
    "MERGE (rec:Record {{ uid: \\\"{uid}\\\" }})\n",
    "  ON CREATE\n",
    "    SET {props}      \n",
    "RETURN rec.data_source, rec.record_id\n",
    "    \"\"\"\n",
    "\n",
    "\n",
    "def load_records (\n",
    "    session: neo4j.Session,\n",
    "    df: pd.DataFrame,\n",
    "    ) -> None:\n",
    "    \"\"\"\n",
    "Iterate over each Record from one dataset to load using Cypher.\n",
    "    \"\"\"\n",
    "    keys: typing.List[ str ] = get_property_keys(df)\n",
    "\n",
    "    for _, row in tqdm(df.iterrows(), desc = \"merge nodes for records\"):\n",
    "        query: str = format_merge_record(keys, row.tolist())\n",
    "        session.run(query)"
   ]
  },
  {
   "cell_type": "code",
   "execution_count": null,
   "id": "378edc57-2309-4fcd-a359-233bb70f9574",
   "metadata": {
    "execution": {
     "iopub.status.busy": "2024-03-26T22:51:17.789287Z",
     "iopub.status.idle": "2024-03-26T22:51:17.789517Z",
     "shell.execute_reply": "2024-03-26T22:51:17.789404Z",
     "shell.execute_reply.started": "2024-03-26T22:51:17.789394Z"
    }
   },
   "outputs": [],
   "source": [
    "#df = df_poi.head(5)"
   ]
  },
  {
   "cell_type": "code",
   "execution_count": null,
   "id": "4dd7cc33-db96-40ec-8ba6-bd8c1f48d0ac",
   "metadata": {
    "execution": {
     "iopub.status.busy": "2024-03-26T22:51:17.790572Z",
     "iopub.status.idle": "2024-03-26T22:51:17.791034Z",
     "shell.execute_reply": "2024-03-26T22:51:17.790873Z",
     "shell.execute_reply.started": "2024-03-26T22:51:17.790857Z"
    }
   },
   "outputs": [],
   "source": [
    "with driver.session() as session:\n",
    "    load_records(session, df_poi)"
   ]
  },
  {
   "cell_type": "code",
   "execution_count": null,
   "id": "8b947887-ff23-49ce-910b-fb71aa161028",
   "metadata": {
    "execution": {
     "iopub.status.busy": "2024-03-26T22:51:17.792440Z",
     "iopub.status.idle": "2024-03-26T22:51:17.792720Z",
     "shell.execute_reply": "2024-03-26T22:51:17.792595Z",
     "shell.execute_reply.started": "2024-03-26T22:51:17.792583Z"
    }
   },
   "outputs": [],
   "source": [
    "with driver.session() as session:\n",
    "    load_records(session, df_dol)"
   ]
  },
  {
   "cell_type": "code",
   "execution_count": null,
   "id": "579299f7-aa36-43cf-b992-4f63922ac065",
   "metadata": {
    "execution": {
     "iopub.status.busy": "2024-03-26T22:51:17.794252Z",
     "iopub.status.idle": "2024-03-26T22:51:17.795165Z",
     "shell.execute_reply": "2024-03-26T22:51:17.794779Z",
     "shell.execute_reply.started": "2024-03-26T22:51:17.794758Z"
    }
   },
   "outputs": [],
   "source": [
    "with driver.session() as session:\n",
    "    load_records(session, df_ppp)"
   ]
  },
  {
   "cell_type": "code",
   "execution_count": null,
   "id": "abd5ff98-d768-4f5c-b345-7d8279da7237",
   "metadata": {
    "execution": {
     "iopub.status.busy": "2024-03-26T22:51:17.796740Z",
     "iopub.status.idle": "2024-03-26T22:51:17.797214Z",
     "shell.execute_reply": "2024-03-26T22:51:17.797010Z",
     "shell.execute_reply.started": "2024-03-26T22:51:17.796998Z"
    },
    "scrolled": true
   },
   "outputs": [],
   "source": [
    "with driver.session() as session:\n",
    "    query: str = \"\"\"\n",
    "MATCH (rec:Record)\n",
    "RETURN rec\n",
    "LIMIT 10\n",
    "    \"\"\"\n",
    "    \n",
    "    for record in session.run(query):\n",
    "        ic(record)"
   ]
  }
 ],
 "metadata": {
  "kernelspec": {
   "display_name": "Python 3 (ipykernel)",
   "language": "python",
   "name": "python3"
  },
  "language_info": {
   "codemirror_mode": {
    "name": "ipython",
    "version": 3
   },
   "file_extension": ".py",
   "mimetype": "text/x-python",
   "name": "python",
   "nbconvert_exporter": "python",
   "pygments_lexer": "ipython3",
   "version": "3.11.0"
  }
 },
 "nbformat": 4,
 "nbformat_minor": 5
}
