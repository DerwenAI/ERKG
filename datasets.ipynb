{
 "cells": [
  {
   "cell_type": "markdown",
   "id": "7067d845-9121-47c1-8bc2-65db8f4d7004",
   "metadata": {},
   "source": [
    "# Senzing + Neo4j: The datasets"
   ]
  },
  {
   "cell_type": "markdown",
   "id": "78939f8c-3e2c-49b0-b447-213cccfd5ea6",
   "metadata": {
    "execution": {
     "iopub.execute_input": "2024-03-15T19:36:02.310335Z",
     "iopub.status.busy": "2024-03-15T19:36:02.303320Z",
     "iopub.status.idle": "2024-03-15T19:36:02.352513Z",
     "shell.execute_reply": "2024-03-15T19:36:02.348131Z",
     "shell.execute_reply.started": "2024-03-15T19:36:02.310230Z"
    },
    "jp-MarkdownHeadingCollapsed": true
   },
   "source": [
    "## Set up the Python environment"
   ]
  },
  {
   "cell_type": "markdown",
   "id": "ea7cc699-a3f7-4768-966a-a7fd77b825c4",
   "metadata": {},
   "source": [
    "First, we need to import the Python library dependencies which are required for the code we'll be running."
   ]
  },
  {
   "cell_type": "code",
   "execution_count": 1,
   "id": "c55880de-2f5f-425d-bdfc-6a9cd19f9777",
   "metadata": {
    "execution": {
     "iopub.execute_input": "2024-03-28T17:18:01.007492Z",
     "iopub.status.busy": "2024-03-28T17:18:01.006824Z",
     "iopub.status.idle": "2024-03-28T17:18:02.518716Z",
     "shell.execute_reply": "2024-03-28T17:18:02.517407Z",
     "shell.execute_reply.started": "2024-03-28T17:18:01.007448Z"
    }
   },
   "outputs": [],
   "source": [
    "import json\n",
    "import os\n",
    "import pathlib\n",
    "import sys\n",
    "import typing\n",
    "\n",
    "from graphdatascience import GraphDataScience\n",
    "from icecream import ic\n",
    "from tqdm import tqdm\n",
    "import dotenv\n",
    "import pandas as pd\n",
    "import watermark\n",
    "\n",
    "%load_ext watermark"
   ]
  },
  {
   "cell_type": "markdown",
   "id": "11331aa0-be80-4de3-bed3-24beb12a57bc",
   "metadata": {},
   "source": [
    "Show a \"watermark\" of which versions are being used for system componenents and library dependencies. This may help in case you need to troubleshoot the dependencies on your system, e.g., if there's some conflict during installation."
   ]
  },
  {
   "cell_type": "code",
   "execution_count": 2,
   "id": "e6a97a2f-e4c4-4086-9dec-bfbf680fd9b9",
   "metadata": {
    "execution": {
     "iopub.execute_input": "2024-03-28T17:18:03.570675Z",
     "iopub.status.busy": "2024-03-28T17:18:03.570048Z",
     "iopub.status.idle": "2024-03-28T17:18:03.603426Z",
     "shell.execute_reply": "2024-03-28T17:18:03.602329Z",
     "shell.execute_reply.started": "2024-03-28T17:18:03.570622Z"
    },
    "scrolled": true
   },
   "outputs": [
    {
     "name": "stdout",
     "output_type": "stream",
     "text": [
      "Last updated: 2024-03-28T10:18:03.572655-07:00\n",
      "\n",
      "Python implementation: CPython\n",
      "Python version       : 3.11.0\n",
      "IPython version      : 8.22.2\n",
      "\n",
      "Compiler    : Clang 13.0.0 (clang-1300.0.29.30)\n",
      "OS          : Darwin\n",
      "Release     : 21.6.0\n",
      "Machine     : x86_64\n",
      "Processor   : i386\n",
      "CPU cores   : 8\n",
      "Architecture: 64bit\n",
      "\n",
      "sys      : 3.11.0 (v3.11.0:deaf509e8f, Oct 24 2022, 14:43:23) [Clang 13.0.0 (clang-1300.0.29.30)]\n",
      "watermark: 2.4.3\n",
      "json     : 2.0.9\n",
      "pandas   : 2.2.1\n",
      "\n"
     ]
    }
   ],
   "source": [
    "%watermark\n",
    "%watermark --iversions"
   ]
  },
  {
   "cell_type": "markdown",
   "id": "db109f9d-8f09-44c5-9117-5481bf3ade78",
   "metadata": {
    "jp-MarkdownHeadingCollapsed": true
   },
   "source": [
    "## Examine the input datasets"
   ]
  },
  {
   "cell_type": "markdown",
   "id": "48eaa952-04e5-4370-a06e-2bed638da850",
   "metadata": {},
   "source": [
    "We will use three datasets which describe businesses (names, addresses, etc.) within the Las Vegas metropolitan area:\n",
    "\n",
    "  - SafeGraph `Places of Interest` (POI)\n",
    "  - US Dept of Labor `Wage and Hour Compliance Action Data` (WHISARD)\n",
    "  - US Small Business Administration `PPP Loans over $150K` (PPP)\n",
    "\n",
    "Two of these datasets are public, and one is available commercially.\n",
    "You can obtain each dataset from the links given below.\n",
    "\n",
    "We'll keep all of the columns for each dataset even though we're only using a few in this tutorial. Let's define a utility function to show a subset of columns in a Pandas `DataFrame` object."
   ]
  },
  {
   "cell_type": "code",
   "execution_count": 3,
   "id": "baa8e1ea-d76d-4346-b4ab-436ad800620e",
   "metadata": {
    "execution": {
     "iopub.execute_input": "2024-03-28T17:18:08.765151Z",
     "iopub.status.busy": "2024-03-28T17:18:08.764551Z",
     "iopub.status.idle": "2024-03-28T17:18:08.770553Z",
     "shell.execute_reply": "2024-03-28T17:18:08.769378Z",
     "shell.execute_reply.started": "2024-03-28T17:18:08.765125Z"
    }
   },
   "outputs": [],
   "source": [
    "def sample_df (\n",
    "    df: pd.DataFrame,\n",
    "    cols_keep: typing.Set[ typing.Any ],\n",
    "    ) -> pd.DataFrame:\n",
    "    \"\"\"\n",
    "Remove all but the specified columns from a copy of the given Pandas dataframe.\n",
    "https://stackoverflow.com/a/51285940/1698443\n",
    "    \"\"\"\n",
    "    diff: typing.Set[ typing.Any ] = set(df.columns) - cols_keep\n",
    "    \n",
    "    return df.drop(\n",
    "        diff,\n",
    "        axis = 1,\n",
    "        inplace = False,\n",
    "    )"
   ]
  },
  {
   "cell_type": "markdown",
   "id": "50342b7a-b0d3-4b19-be69-e596a0dada70",
   "metadata": {
    "execution": {
     "iopub.execute_input": "2024-03-15T18:27:12.719784Z",
     "iopub.status.busy": "2024-03-15T18:27:12.718521Z",
     "iopub.status.idle": "2024-03-15T18:27:12.783427Z",
     "shell.execute_reply": "2024-03-15T18:27:12.781099Z",
     "shell.execute_reply.started": "2024-03-15T18:27:12.719691Z"
    }
   },
   "source": [
    "### Load the SafeGraph Places dataset"
   ]
  },
  {
   "cell_type": "markdown",
   "id": "843500f6-d486-4f84-af2b-5bbdae81f91f",
   "metadata": {},
   "source": [
    "Load the `Places of Interest` (POI) dataset for Las Vegas, from SafeGraph: <https://www.safegraph.com/products/places>"
   ]
  },
  {
   "cell_type": "code",
   "execution_count": 4,
   "id": "eee34144-9970-4654-a86b-e947ed8b1538",
   "metadata": {
    "execution": {
     "iopub.execute_input": "2024-03-28T17:18:11.608012Z",
     "iopub.status.busy": "2024-03-28T17:18:11.607718Z",
     "iopub.status.idle": "2024-03-28T17:18:12.904355Z",
     "shell.execute_reply": "2024-03-28T17:18:12.903649Z",
     "shell.execute_reply.started": "2024-03-28T17:18:11.607990Z"
    }
   },
   "outputs": [],
   "source": [
    "poi_path: pathlib.Path = pathlib.Path(\"lv_data\") / \"poi.json\"\n",
    "\n",
    "df_poi: pd.DataFrame = pd.DataFrame.from_dict(\n",
    "    [ json.loads(line) for line in poi_path.open(encoding = \"utf-8\") ],\n",
    ")"
   ]
  },
  {
   "cell_type": "code",
   "execution_count": 5,
   "id": "a4967177-4c95-4044-9fc8-199b3cfb4b78",
   "metadata": {
    "execution": {
     "iopub.execute_input": "2024-03-28T17:18:12.906117Z",
     "iopub.status.busy": "2024-03-28T17:18:12.905878Z",
     "iopub.status.idle": "2024-03-28T17:18:12.937286Z",
     "shell.execute_reply": "2024-03-28T17:18:12.936503Z",
     "shell.execute_reply.started": "2024-03-28T17:18:12.906096Z"
    }
   },
   "outputs": [
    {
     "data": {
      "text/html": [
       "<div>\n",
       "<style scoped>\n",
       "    .dataframe tbody tr th:only-of-type {\n",
       "        vertical-align: middle;\n",
       "    }\n",
       "\n",
       "    .dataframe tbody tr th {\n",
       "        vertical-align: top;\n",
       "    }\n",
       "\n",
       "    .dataframe thead th {\n",
       "        text-align: right;\n",
       "    }\n",
       "</style>\n",
       "<table border=\"1\" class=\"dataframe\">\n",
       "  <thead>\n",
       "    <tr style=\"text-align: right;\">\n",
       "      <th></th>\n",
       "      <th>DATA_SOURCE</th>\n",
       "      <th>RECORD_ID</th>\n",
       "      <th>RECORD_TYPE</th>\n",
       "      <th>PLACEKEY</th>\n",
       "      <th>LOCATION_NAME_ORG</th>\n",
       "      <th>BRANDS</th>\n",
       "      <th>TOP_CATEGORY</th>\n",
       "      <th>SUB_CATEGORY</th>\n",
       "      <th>NAICS_CODE</th>\n",
       "      <th>BUSINESS_GEO_LATITUDE</th>\n",
       "      <th>BUSINESS_GEO_LONGITUDE</th>\n",
       "      <th>CATEGORY_TAGS</th>\n",
       "      <th>CLOSED_ON</th>\n",
       "      <th>TRACKING_CLOSED_SINCE</th>\n",
       "      <th>PHONE_NUMBER</th>\n",
       "      <th>BUSINESS_ADDR_COUNTRY</th>\n",
       "      <th>BUSINESS_ADDR_FULL</th>\n",
       "      <th>MAILING_VERIFIED_STATUS</th>\n",
       "      <th>OPENED_ON</th>\n",
       "      <th>IS_INTERSECTION</th>\n",
       "    </tr>\n",
       "  </thead>\n",
       "  <tbody>\n",
       "    <tr>\n",
       "      <th>0</th>\n",
       "      <td>SAFEGRAPH</td>\n",
       "      <td>225-222@5yv-j92-tn5</td>\n",
       "      <td>ORGANIZATION</td>\n",
       "      <td>225-222@5yv-j92-tn5</td>\n",
       "      <td>Cantwell Michelle L Atty</td>\n",
       "      <td>[]</td>\n",
       "      <td>Legal Services</td>\n",
       "      <td>Offices of Lawyers</td>\n",
       "      <td>541110</td>\n",
       "      <td>36.145647</td>\n",
       "      <td>-115.186399</td>\n",
       "      <td>[]</td>\n",
       "      <td>2024-02-01</td>\n",
       "      <td>2019-07-01</td>\n",
       "      <td>+17023627800</td>\n",
       "      <td>US</td>\n",
       "      <td>3320 W Sahara Ave Las Vegas NV 89102-3223</td>\n",
       "      <td>VERIFIED_PREMISE</td>\n",
       "      <td>NaN</td>\n",
       "      <td>NaN</td>\n",
       "    </tr>\n",
       "    <tr>\n",
       "      <th>1</th>\n",
       "      <td>SAFEGRAPH</td>\n",
       "      <td>226-222@5yv-hmm-whq</td>\n",
       "      <td>ORGANIZATION</td>\n",
       "      <td>226-222@5yv-hmm-whq</td>\n",
       "      <td>Pieology Pizzeria</td>\n",
       "      <td>[ { \"safegraph_brand_id\": \"SG_BRAND_f372f9969f...</td>\n",
       "      <td>Restaurants and Other Eating Places</td>\n",
       "      <td>Limited-Service Restaurants</td>\n",
       "      <td>722513</td>\n",
       "      <td>36.144906</td>\n",
       "      <td>-115.332644</td>\n",
       "      <td>[ \"Counter Service\", \"Dinner\", \"Fast Food\", \"L...</td>\n",
       "      <td>NaN</td>\n",
       "      <td>2019-07-01</td>\n",
       "      <td>+17023314454</td>\n",
       "      <td>US</td>\n",
       "      <td>10965 Lavender Hill Dr Ste 130 Las Vegas NV 89...</td>\n",
       "      <td>VERIFIED_DELIVERY_POINT</td>\n",
       "      <td>NaN</td>\n",
       "      <td>NaN</td>\n",
       "    </tr>\n",
       "    <tr>\n",
       "      <th>2</th>\n",
       "      <td>SAFEGRAPH</td>\n",
       "      <td>22s-222@5yv-jbz-jgk</td>\n",
       "      <td>ORGANIZATION</td>\n",
       "      <td>22s-222@5yv-jbz-jgk</td>\n",
       "      <td>Ellen Peneyra</td>\n",
       "      <td>[]</td>\n",
       "      <td>Offices of Other Health Practitioners</td>\n",
       "      <td>Offices of All Other Miscellaneous Health Prac...</td>\n",
       "      <td>621399</td>\n",
       "      <td>36.10289</td>\n",
       "      <td>-115.121807</td>\n",
       "      <td>[]</td>\n",
       "      <td>NaN</td>\n",
       "      <td>2019-07-01</td>\n",
       "      <td>+17027397716</td>\n",
       "      <td>US</td>\n",
       "      <td>2275 Renaissance Dr Ste D Las Vegas NV 89119-6797</td>\n",
       "      <td>VERIFIED_DELIVERY_POINT</td>\n",
       "      <td>NaN</td>\n",
       "      <td>NaN</td>\n",
       "    </tr>\n",
       "    <tr>\n",
       "      <th>3</th>\n",
       "      <td>SAFEGRAPH</td>\n",
       "      <td>28m-222@5yv-hmp-v4v</td>\n",
       "      <td>ORGANIZATION</td>\n",
       "      <td>28m-222@5yv-hmp-v4v</td>\n",
       "      <td>Stanford Jackson</td>\n",
       "      <td>[]</td>\n",
       "      <td>Offices of Other Health Practitioners</td>\n",
       "      <td>Offices of All Other Miscellaneous Health Prac...</td>\n",
       "      <td>621399</td>\n",
       "      <td>36.143386</td>\n",
       "      <td>-115.272694</td>\n",
       "      <td>[]</td>\n",
       "      <td>NaN</td>\n",
       "      <td>2019-07-01</td>\n",
       "      <td>+17025623569</td>\n",
       "      <td>US</td>\n",
       "      <td>8321 W Sahara Ave Apt 2007 Las Vegas NV 89117-...</td>\n",
       "      <td>VERIFIED_DELIVERY_POINT</td>\n",
       "      <td>NaN</td>\n",
       "      <td>NaN</td>\n",
       "    </tr>\n",
       "    <tr>\n",
       "      <th>4</th>\n",
       "      <td>SAFEGRAPH</td>\n",
       "      <td>22g-222@5yv-j9q-c89</td>\n",
       "      <td>ORGANIZATION</td>\n",
       "      <td>22g-222@5yv-j9q-c89</td>\n",
       "      <td>Praise Templechurch</td>\n",
       "      <td>[]</td>\n",
       "      <td>Religious Organizations</td>\n",
       "      <td>Religious Organizations</td>\n",
       "      <td>813110</td>\n",
       "      <td>36.199677</td>\n",
       "      <td>-115.154611</td>\n",
       "      <td>[]</td>\n",
       "      <td>NaN</td>\n",
       "      <td>2019-07-01</td>\n",
       "      <td>+17026386036</td>\n",
       "      <td>US</td>\n",
       "      <td>952 Balzar Ave Las Vegas NV 89106-2204</td>\n",
       "      <td>VERIFIED_DELIVERY_POINT</td>\n",
       "      <td>NaN</td>\n",
       "      <td>NaN</td>\n",
       "    </tr>\n",
       "  </tbody>\n",
       "</table>\n",
       "</div>"
      ],
      "text/plain": [
       "  DATA_SOURCE            RECORD_ID   RECORD_TYPE             PLACEKEY  \\\n",
       "0   SAFEGRAPH  225-222@5yv-j92-tn5  ORGANIZATION  225-222@5yv-j92-tn5   \n",
       "1   SAFEGRAPH  226-222@5yv-hmm-whq  ORGANIZATION  226-222@5yv-hmm-whq   \n",
       "2   SAFEGRAPH  22s-222@5yv-jbz-jgk  ORGANIZATION  22s-222@5yv-jbz-jgk   \n",
       "3   SAFEGRAPH  28m-222@5yv-hmp-v4v  ORGANIZATION  28m-222@5yv-hmp-v4v   \n",
       "4   SAFEGRAPH  22g-222@5yv-j9q-c89  ORGANIZATION  22g-222@5yv-j9q-c89   \n",
       "\n",
       "          LOCATION_NAME_ORG  \\\n",
       "0  Cantwell Michelle L Atty   \n",
       "1         Pieology Pizzeria   \n",
       "2             Ellen Peneyra   \n",
       "3          Stanford Jackson   \n",
       "4       Praise Templechurch   \n",
       "\n",
       "                                              BRANDS  \\\n",
       "0                                                 []   \n",
       "1  [ { \"safegraph_brand_id\": \"SG_BRAND_f372f9969f...   \n",
       "2                                                 []   \n",
       "3                                                 []   \n",
       "4                                                 []   \n",
       "\n",
       "                            TOP_CATEGORY  \\\n",
       "0                         Legal Services   \n",
       "1    Restaurants and Other Eating Places   \n",
       "2  Offices of Other Health Practitioners   \n",
       "3  Offices of Other Health Practitioners   \n",
       "4                Religious Organizations   \n",
       "\n",
       "                                        SUB_CATEGORY NAICS_CODE  \\\n",
       "0                                 Offices of Lawyers     541110   \n",
       "1                        Limited-Service Restaurants     722513   \n",
       "2  Offices of All Other Miscellaneous Health Prac...     621399   \n",
       "3  Offices of All Other Miscellaneous Health Prac...     621399   \n",
       "4                            Religious Organizations     813110   \n",
       "\n",
       "  BUSINESS_GEO_LATITUDE BUSINESS_GEO_LONGITUDE  \\\n",
       "0             36.145647            -115.186399   \n",
       "1             36.144906            -115.332644   \n",
       "2              36.10289            -115.121807   \n",
       "3             36.143386            -115.272694   \n",
       "4             36.199677            -115.154611   \n",
       "\n",
       "                                       CATEGORY_TAGS   CLOSED_ON  \\\n",
       "0                                                 []  2024-02-01   \n",
       "1  [ \"Counter Service\", \"Dinner\", \"Fast Food\", \"L...         NaN   \n",
       "2                                                 []         NaN   \n",
       "3                                                 []         NaN   \n",
       "4                                                 []         NaN   \n",
       "\n",
       "  TRACKING_CLOSED_SINCE  PHONE_NUMBER BUSINESS_ADDR_COUNTRY  \\\n",
       "0            2019-07-01  +17023627800                    US   \n",
       "1            2019-07-01  +17023314454                    US   \n",
       "2            2019-07-01  +17027397716                    US   \n",
       "3            2019-07-01  +17025623569                    US   \n",
       "4            2019-07-01  +17026386036                    US   \n",
       "\n",
       "                                  BUSINESS_ADDR_FULL  MAILING_VERIFIED_STATUS  \\\n",
       "0          3320 W Sahara Ave Las Vegas NV 89102-3223         VERIFIED_PREMISE   \n",
       "1  10965 Lavender Hill Dr Ste 130 Las Vegas NV 89...  VERIFIED_DELIVERY_POINT   \n",
       "2  2275 Renaissance Dr Ste D Las Vegas NV 89119-6797  VERIFIED_DELIVERY_POINT   \n",
       "3  8321 W Sahara Ave Apt 2007 Las Vegas NV 89117-...  VERIFIED_DELIVERY_POINT   \n",
       "4             952 Balzar Ave Las Vegas NV 89106-2204  VERIFIED_DELIVERY_POINT   \n",
       "\n",
       "  OPENED_ON IS_INTERSECTION  \n",
       "0       NaN             NaN  \n",
       "1       NaN             NaN  \n",
       "2       NaN             NaN  \n",
       "3       NaN             NaN  \n",
       "4       NaN             NaN  "
      ]
     },
     "execution_count": 5,
     "metadata": {},
     "output_type": "execute_result"
    }
   ],
   "source": [
    "df_poi.head()"
   ]
  },
  {
   "cell_type": "markdown",
   "id": "0c6bdea3-4aa9-4848-9499-cd11b8269f98",
   "metadata": {},
   "source": [
    "Take a look at the column names. The `\"DATA_SOURCE\"`, `\"RECORD_ID\"`, `\"RECORD_TYPE\"` columns are needed by Senzing to identify unique records,  then any related to names or addresses will get used during _entity resolution_."
   ]
  },
  {
   "cell_type": "code",
   "execution_count": 6,
   "id": "e5842998-f755-4b39-bf25-98b63e6a255d",
   "metadata": {
    "execution": {
     "iopub.execute_input": "2024-03-28T17:18:15.054687Z",
     "iopub.status.busy": "2024-03-28T17:18:15.054266Z",
     "iopub.status.idle": "2024-03-28T17:18:15.063339Z",
     "shell.execute_reply": "2024-03-28T17:18:15.062383Z",
     "shell.execute_reply.started": "2024-03-28T17:18:15.054665Z"
    }
   },
   "outputs": [
    {
     "data": {
      "text/plain": [
       "Index(['DATA_SOURCE', 'RECORD_ID', 'RECORD_TYPE', 'PLACEKEY',\n",
       "       'LOCATION_NAME_ORG', 'BRANDS', 'TOP_CATEGORY', 'SUB_CATEGORY',\n",
       "       'NAICS_CODE', 'BUSINESS_GEO_LATITUDE', 'BUSINESS_GEO_LONGITUDE',\n",
       "       'CATEGORY_TAGS', 'CLOSED_ON', 'TRACKING_CLOSED_SINCE', 'PHONE_NUMBER',\n",
       "       'BUSINESS_ADDR_COUNTRY', 'BUSINESS_ADDR_FULL',\n",
       "       'MAILING_VERIFIED_STATUS', 'OPENED_ON', 'IS_INTERSECTION'],\n",
       "      dtype='object')"
      ]
     },
     "execution_count": 6,
     "metadata": {},
     "output_type": "execute_result"
    }
   ],
   "source": [
    "df_poi.columns"
   ]
  },
  {
   "cell_type": "code",
   "execution_count": 7,
   "id": "52fd2d42-e978-4ed1-b5b3-1f871ec4c736",
   "metadata": {
    "execution": {
     "iopub.execute_input": "2024-03-28T17:18:15.963400Z",
     "iopub.status.busy": "2024-03-28T17:18:15.962781Z",
     "iopub.status.idle": "2024-03-28T17:18:15.999666Z",
     "shell.execute_reply": "2024-03-28T17:18:15.998623Z",
     "shell.execute_reply.started": "2024-03-28T17:18:15.963369Z"
    }
   },
   "outputs": [],
   "source": [
    "df = sample_df(\n",
    "    df_poi,\n",
    "    set([\n",
    "        \"RECORD_ID\",\n",
    "        \"LOCATION_NAME_ORG\",\n",
    "        \"SUB_CATEGORY\",\n",
    "        \"BUSINESS_GEO_LATITUDE\",\n",
    "        \"BUSINESS_GEO_LONGITUDE\",\n",
    "        \"BUSINESS_ADDR_FULL\",\n",
    "    ]),\n",
    ")"
   ]
  },
  {
   "cell_type": "code",
   "execution_count": 8,
   "id": "a5fd479b-ec61-4659-a993-a8fc32a5a97c",
   "metadata": {
    "execution": {
     "iopub.execute_input": "2024-03-28T17:18:16.577877Z",
     "iopub.status.busy": "2024-03-28T17:18:16.577031Z",
     "iopub.status.idle": "2024-03-28T17:18:16.594488Z",
     "shell.execute_reply": "2024-03-28T17:18:16.593447Z",
     "shell.execute_reply.started": "2024-03-28T17:18:16.577841Z"
    }
   },
   "outputs": [
    {
     "data": {
      "text/html": [
       "<div>\n",
       "<style scoped>\n",
       "    .dataframe tbody tr th:only-of-type {\n",
       "        vertical-align: middle;\n",
       "    }\n",
       "\n",
       "    .dataframe tbody tr th {\n",
       "        vertical-align: top;\n",
       "    }\n",
       "\n",
       "    .dataframe thead th {\n",
       "        text-align: right;\n",
       "    }\n",
       "</style>\n",
       "<table border=\"1\" class=\"dataframe\">\n",
       "  <thead>\n",
       "    <tr style=\"text-align: right;\">\n",
       "      <th></th>\n",
       "      <th>RECORD_ID</th>\n",
       "      <th>LOCATION_NAME_ORG</th>\n",
       "      <th>SUB_CATEGORY</th>\n",
       "      <th>BUSINESS_GEO_LATITUDE</th>\n",
       "      <th>BUSINESS_GEO_LONGITUDE</th>\n",
       "      <th>BUSINESS_ADDR_FULL</th>\n",
       "    </tr>\n",
       "  </thead>\n",
       "  <tbody>\n",
       "    <tr>\n",
       "      <th>0</th>\n",
       "      <td>225-222@5yv-j92-tn5</td>\n",
       "      <td>Cantwell Michelle L Atty</td>\n",
       "      <td>Offices of Lawyers</td>\n",
       "      <td>36.145647</td>\n",
       "      <td>-115.186399</td>\n",
       "      <td>3320 W Sahara Ave Las Vegas NV 89102-3223</td>\n",
       "    </tr>\n",
       "    <tr>\n",
       "      <th>1</th>\n",
       "      <td>226-222@5yv-hmm-whq</td>\n",
       "      <td>Pieology Pizzeria</td>\n",
       "      <td>Limited-Service Restaurants</td>\n",
       "      <td>36.144906</td>\n",
       "      <td>-115.332644</td>\n",
       "      <td>10965 Lavender Hill Dr Ste 130 Las Vegas NV 89...</td>\n",
       "    </tr>\n",
       "    <tr>\n",
       "      <th>2</th>\n",
       "      <td>22s-222@5yv-jbz-jgk</td>\n",
       "      <td>Ellen Peneyra</td>\n",
       "      <td>Offices of All Other Miscellaneous Health Prac...</td>\n",
       "      <td>36.10289</td>\n",
       "      <td>-115.121807</td>\n",
       "      <td>2275 Renaissance Dr Ste D Las Vegas NV 89119-6797</td>\n",
       "    </tr>\n",
       "    <tr>\n",
       "      <th>3</th>\n",
       "      <td>28m-222@5yv-hmp-v4v</td>\n",
       "      <td>Stanford Jackson</td>\n",
       "      <td>Offices of All Other Miscellaneous Health Prac...</td>\n",
       "      <td>36.143386</td>\n",
       "      <td>-115.272694</td>\n",
       "      <td>8321 W Sahara Ave Apt 2007 Las Vegas NV 89117-...</td>\n",
       "    </tr>\n",
       "    <tr>\n",
       "      <th>4</th>\n",
       "      <td>22g-222@5yv-j9q-c89</td>\n",
       "      <td>Praise Templechurch</td>\n",
       "      <td>Religious Organizations</td>\n",
       "      <td>36.199677</td>\n",
       "      <td>-115.154611</td>\n",
       "      <td>952 Balzar Ave Las Vegas NV 89106-2204</td>\n",
       "    </tr>\n",
       "  </tbody>\n",
       "</table>\n",
       "</div>"
      ],
      "text/plain": [
       "             RECORD_ID         LOCATION_NAME_ORG  \\\n",
       "0  225-222@5yv-j92-tn5  Cantwell Michelle L Atty   \n",
       "1  226-222@5yv-hmm-whq         Pieology Pizzeria   \n",
       "2  22s-222@5yv-jbz-jgk             Ellen Peneyra   \n",
       "3  28m-222@5yv-hmp-v4v          Stanford Jackson   \n",
       "4  22g-222@5yv-j9q-c89       Praise Templechurch   \n",
       "\n",
       "                                        SUB_CATEGORY BUSINESS_GEO_LATITUDE  \\\n",
       "0                                 Offices of Lawyers             36.145647   \n",
       "1                        Limited-Service Restaurants             36.144906   \n",
       "2  Offices of All Other Miscellaneous Health Prac...              36.10289   \n",
       "3  Offices of All Other Miscellaneous Health Prac...             36.143386   \n",
       "4                            Religious Organizations             36.199677   \n",
       "\n",
       "  BUSINESS_GEO_LONGITUDE                                 BUSINESS_ADDR_FULL  \n",
       "0            -115.186399          3320 W Sahara Ave Las Vegas NV 89102-3223  \n",
       "1            -115.332644  10965 Lavender Hill Dr Ste 130 Las Vegas NV 89...  \n",
       "2            -115.121807  2275 Renaissance Dr Ste D Las Vegas NV 89119-6797  \n",
       "3            -115.272694  8321 W Sahara Ave Apt 2007 Las Vegas NV 89117-...  \n",
       "4            -115.154611             952 Balzar Ave Las Vegas NV 89106-2204  "
      ]
     },
     "execution_count": 8,
     "metadata": {},
     "output_type": "execute_result"
    }
   ],
   "source": [
    "df.head()"
   ]
  },
  {
   "cell_type": "code",
   "execution_count": 9,
   "id": "00474aab-6b33-44ae-b6cf-db390aa2e2ee",
   "metadata": {
    "execution": {
     "iopub.execute_input": "2024-03-28T17:18:17.235216Z",
     "iopub.status.busy": "2024-03-28T17:18:17.234466Z",
     "iopub.status.idle": "2024-03-28T17:18:17.840559Z",
     "shell.execute_reply": "2024-03-28T17:18:17.839924Z",
     "shell.execute_reply.started": "2024-03-28T17:18:17.235187Z"
    }
   },
   "outputs": [
    {
     "data": {
      "text/html": [
       "<div>\n",
       "<style scoped>\n",
       "    .dataframe tbody tr th:only-of-type {\n",
       "        vertical-align: middle;\n",
       "    }\n",
       "\n",
       "    .dataframe tbody tr th {\n",
       "        vertical-align: top;\n",
       "    }\n",
       "\n",
       "    .dataframe thead th {\n",
       "        text-align: right;\n",
       "    }\n",
       "</style>\n",
       "<table border=\"1\" class=\"dataframe\">\n",
       "  <thead>\n",
       "    <tr style=\"text-align: right;\">\n",
       "      <th></th>\n",
       "      <th>RECORD_ID</th>\n",
       "      <th>LOCATION_NAME_ORG</th>\n",
       "      <th>SUB_CATEGORY</th>\n",
       "      <th>BUSINESS_GEO_LATITUDE</th>\n",
       "      <th>BUSINESS_GEO_LONGITUDE</th>\n",
       "      <th>BUSINESS_ADDR_FULL</th>\n",
       "    </tr>\n",
       "  </thead>\n",
       "  <tbody>\n",
       "    <tr>\n",
       "      <th>count</th>\n",
       "      <td>98806</td>\n",
       "      <td>98806</td>\n",
       "      <td>83024</td>\n",
       "      <td>98806</td>\n",
       "      <td>98806</td>\n",
       "      <td>92327</td>\n",
       "    </tr>\n",
       "    <tr>\n",
       "      <th>freq</th>\n",
       "      <td>1</td>\n",
       "      <td>438</td>\n",
       "      <td>7728</td>\n",
       "      <td>12</td>\n",
       "      <td>15</td>\n",
       "      <td>262</td>\n",
       "    </tr>\n",
       "    <tr>\n",
       "      <th>unique</th>\n",
       "      <td>98806</td>\n",
       "      <td>84643</td>\n",
       "      <td>396</td>\n",
       "      <td>69765</td>\n",
       "      <td>73723</td>\n",
       "      <td>43900</td>\n",
       "    </tr>\n",
       "  </tbody>\n",
       "</table>\n",
       "</div>"
      ],
      "text/plain": [
       "       RECORD_ID LOCATION_NAME_ORG SUB_CATEGORY BUSINESS_GEO_LATITUDE  \\\n",
       "count      98806             98806        83024                 98806   \n",
       "freq           1               438         7728                    12   \n",
       "unique     98806             84643          396                 69765   \n",
       "\n",
       "       BUSINESS_GEO_LONGITUDE BUSINESS_ADDR_FULL  \n",
       "count                   98806              92327  \n",
       "freq                       15                262  \n",
       "unique                  73723              43900  "
      ]
     },
     "execution_count": 9,
     "metadata": {},
     "output_type": "execute_result"
    }
   ],
   "source": [
    "df.describe().loc[[ \"count\", \"freq\", \"unique\", ]]"
   ]
  },
  {
   "cell_type": "markdown",
   "id": "b31d2eb4-3c9a-40e4-805f-f2da6b6885b9",
   "metadata": {},
   "source": [
    "### Load the DoL WHISARD dataset"
   ]
  },
  {
   "cell_type": "markdown",
   "id": "17419ba0-c66c-489c-bfd4-0fc5f5ea7f13",
   "metadata": {},
   "source": [
    "Load the `Wage and Hour Compliance Action Data` (WHISARD) dataset for Las Vegas, from the US Department of Labor: <https://enforcedata.dol.gov/views/data_summary.php>"
   ]
  },
  {
   "cell_type": "code",
   "execution_count": 10,
   "id": "57501d05-56c6-4b23-92fd-1872332f74a4",
   "metadata": {
    "execution": {
     "iopub.execute_input": "2024-03-28T17:18:20.406673Z",
     "iopub.status.busy": "2024-03-28T17:18:20.406339Z",
     "iopub.status.idle": "2024-03-28T17:18:20.471979Z",
     "shell.execute_reply": "2024-03-28T17:18:20.467644Z",
     "shell.execute_reply.started": "2024-03-28T17:18:20.406647Z"
    }
   },
   "outputs": [],
   "source": [
    "dol_path: pathlib.Path = pathlib.Path(\"lv_data\") / \"dol.csv\"\n",
    "\n",
    "df_dol: pd.DataFrame = pd.read_csv(\n",
    "    dol_path,\n",
    "    dtype = str,\n",
    "    encoding = \"utf-8\",\n",
    ")"
   ]
  },
  {
   "cell_type": "code",
   "execution_count": 11,
   "id": "f0b38fbf-808d-4bd9-a0d4-4d52a2cfe26c",
   "metadata": {
    "execution": {
     "iopub.execute_input": "2024-03-28T17:18:21.423074Z",
     "iopub.status.busy": "2024-03-28T17:18:21.422579Z",
     "iopub.status.idle": "2024-03-28T17:18:21.451203Z",
     "shell.execute_reply": "2024-03-28T17:18:21.450034Z",
     "shell.execute_reply.started": "2024-03-28T17:18:21.423041Z"
    }
   },
   "outputs": [
    {
     "data": {
      "text/html": [
       "<div>\n",
       "<style scoped>\n",
       "    .dataframe tbody tr th:only-of-type {\n",
       "        vertical-align: middle;\n",
       "    }\n",
       "\n",
       "    .dataframe tbody tr th {\n",
       "        vertical-align: top;\n",
       "    }\n",
       "\n",
       "    .dataframe thead th {\n",
       "        text-align: right;\n",
       "    }\n",
       "</style>\n",
       "<table border=\"1\" class=\"dataframe\">\n",
       "  <thead>\n",
       "    <tr style=\"text-align: right;\">\n",
       "      <th></th>\n",
       "      <th>RECORD_TYPE</th>\n",
       "      <th>DATA_SOURCE</th>\n",
       "      <th>RECORD_ID</th>\n",
       "      <th>case_id</th>\n",
       "      <th>BUSINESS_NAME_ORG</th>\n",
       "      <th>LEGAL_NAME_ORG</th>\n",
       "      <th>BUSINESS_ADDR_LINE1</th>\n",
       "      <th>BUSINESS_ADDR_CITY</th>\n",
       "      <th>BUSINESS_ADDR_STATE</th>\n",
       "      <th>BUSINESS_ADDR_POSTAL_CODE</th>\n",
       "      <th>...</th>\n",
       "      <th>flsa_smwsl_bw_atp_amt</th>\n",
       "      <th>flsa_smwsl_ee_atp_cnt</th>\n",
       "      <th>eev_violtn_cnt</th>\n",
       "      <th>h2b_violtn_cnt</th>\n",
       "      <th>h2b_bw_atp_amt</th>\n",
       "      <th>h2b_ee_atp_cnt</th>\n",
       "      <th>sraw_violtn_cnt</th>\n",
       "      <th>sraw_bw_atp_amt</th>\n",
       "      <th>sraw_ee_atp_cnt</th>\n",
       "      <th>ld_dt</th>\n",
       "    </tr>\n",
       "  </thead>\n",
       "  <tbody>\n",
       "    <tr>\n",
       "      <th>0</th>\n",
       "      <td>ORGANIZATION</td>\n",
       "      <td>DoL_WHISARD</td>\n",
       "      <td>7017</td>\n",
       "      <td>1658108</td>\n",
       "      <td>Fabulous Freddy's (Trailwood)</td>\n",
       "      <td>Fabulous LLC</td>\n",
       "      <td>9611 Trail Wood Drive</td>\n",
       "      <td>Las Vegas</td>\n",
       "      <td>NV</td>\n",
       "      <td>89134</td>\n",
       "      <td>...</td>\n",
       "      <td>0</td>\n",
       "      <td>0</td>\n",
       "      <td>0</td>\n",
       "      <td>0</td>\n",
       "      <td>0</td>\n",
       "      <td>0</td>\n",
       "      <td>0</td>\n",
       "      <td>0</td>\n",
       "      <td>0</td>\n",
       "      <td>2015-04-01 01:00:03 EDT</td>\n",
       "    </tr>\n",
       "    <tr>\n",
       "      <th>1</th>\n",
       "      <td>ORGANIZATION</td>\n",
       "      <td>DoL_WHISARD</td>\n",
       "      <td>7018</td>\n",
       "      <td>1419689</td>\n",
       "      <td>Boulder Station Hotel &amp; Casino</td>\n",
       "      <td>Boulder Station, Inc.</td>\n",
       "      <td>4111 Boulder Hwy</td>\n",
       "      <td>Las Vegas</td>\n",
       "      <td>NV</td>\n",
       "      <td>89121</td>\n",
       "      <td>...</td>\n",
       "      <td>0</td>\n",
       "      <td>0</td>\n",
       "      <td>0</td>\n",
       "      <td>0</td>\n",
       "      <td>0</td>\n",
       "      <td>0</td>\n",
       "      <td>0</td>\n",
       "      <td>0</td>\n",
       "      <td>0</td>\n",
       "      <td>2015-02-20 01:00:06 EST</td>\n",
       "    </tr>\n",
       "    <tr>\n",
       "      <th>2</th>\n",
       "      <td>ORGANIZATION</td>\n",
       "      <td>DoL_WHISARD</td>\n",
       "      <td>7021</td>\n",
       "      <td>1424856</td>\n",
       "      <td>MSI Landscaping</td>\n",
       "      <td>MIST Systems International, Inc.</td>\n",
       "      <td>4820 Quality Court, #B</td>\n",
       "      <td>Las Vegas</td>\n",
       "      <td>NV</td>\n",
       "      <td>89103</td>\n",
       "      <td>...</td>\n",
       "      <td>0</td>\n",
       "      <td>0</td>\n",
       "      <td>0</td>\n",
       "      <td>0</td>\n",
       "      <td>0</td>\n",
       "      <td>0</td>\n",
       "      <td>0</td>\n",
       "      <td>0</td>\n",
       "      <td>0</td>\n",
       "      <td>2015-02-20 01:00:06 EST</td>\n",
       "    </tr>\n",
       "    <tr>\n",
       "      <th>3</th>\n",
       "      <td>ORGANIZATION</td>\n",
       "      <td>DoL_WHISARD</td>\n",
       "      <td>7022</td>\n",
       "      <td>1668849</td>\n",
       "      <td>Pastime Pools</td>\n",
       "      <td>Pastime Pools</td>\n",
       "      <td>731 Memory Ln</td>\n",
       "      <td>Las Vegas</td>\n",
       "      <td>NV</td>\n",
       "      <td>89110</td>\n",
       "      <td>...</td>\n",
       "      <td>0</td>\n",
       "      <td>0</td>\n",
       "      <td>0</td>\n",
       "      <td>0</td>\n",
       "      <td>0</td>\n",
       "      <td>0</td>\n",
       "      <td>0</td>\n",
       "      <td>0</td>\n",
       "      <td>0</td>\n",
       "      <td>2015-02-20 01:00:06 EST</td>\n",
       "    </tr>\n",
       "    <tr>\n",
       "      <th>4</th>\n",
       "      <td>ORGANIZATION</td>\n",
       "      <td>DoL_WHISARD</td>\n",
       "      <td>7023</td>\n",
       "      <td>1602023</td>\n",
       "      <td>Steven Michaels</td>\n",
       "      <td>Steven Michaels</td>\n",
       "      <td>4108 Autum St</td>\n",
       "      <td>Las Vegas</td>\n",
       "      <td>NV</td>\n",
       "      <td>89120</td>\n",
       "      <td>...</td>\n",
       "      <td>0</td>\n",
       "      <td>0</td>\n",
       "      <td>0</td>\n",
       "      <td>0</td>\n",
       "      <td>0</td>\n",
       "      <td>0</td>\n",
       "      <td>0</td>\n",
       "      <td>0</td>\n",
       "      <td>0</td>\n",
       "      <td>2015-02-20 01:00:06 EST</td>\n",
       "    </tr>\n",
       "  </tbody>\n",
       "</table>\n",
       "<p>5 rows × 113 columns</p>\n",
       "</div>"
      ],
      "text/plain": [
       "    RECORD_TYPE  DATA_SOURCE RECORD_ID  case_id  \\\n",
       "0  ORGANIZATION  DoL_WHISARD      7017  1658108   \n",
       "1  ORGANIZATION  DoL_WHISARD      7018  1419689   \n",
       "2  ORGANIZATION  DoL_WHISARD      7021  1424856   \n",
       "3  ORGANIZATION  DoL_WHISARD      7022  1668849   \n",
       "4  ORGANIZATION  DoL_WHISARD      7023  1602023   \n",
       "\n",
       "                BUSINESS_NAME_ORG                    LEGAL_NAME_ORG  \\\n",
       "0   Fabulous Freddy's (Trailwood)                      Fabulous LLC   \n",
       "1  Boulder Station Hotel & Casino             Boulder Station, Inc.   \n",
       "2                 MSI Landscaping  MIST Systems International, Inc.   \n",
       "3                   Pastime Pools                     Pastime Pools   \n",
       "4                 Steven Michaels                   Steven Michaels   \n",
       "\n",
       "      BUSINESS_ADDR_LINE1 BUSINESS_ADDR_CITY BUSINESS_ADDR_STATE  \\\n",
       "0   9611 Trail Wood Drive          Las Vegas                  NV   \n",
       "1        4111 Boulder Hwy          Las Vegas                  NV   \n",
       "2  4820 Quality Court, #B          Las Vegas                  NV   \n",
       "3           731 Memory Ln          Las Vegas                  NV   \n",
       "4           4108 Autum St          Las Vegas                  NV   \n",
       "\n",
       "  BUSINESS_ADDR_POSTAL_CODE  ... flsa_smwsl_bw_atp_amt flsa_smwsl_ee_atp_cnt  \\\n",
       "0                     89134  ...                     0                     0   \n",
       "1                     89121  ...                     0                     0   \n",
       "2                     89103  ...                     0                     0   \n",
       "3                     89110  ...                     0                     0   \n",
       "4                     89120  ...                     0                     0   \n",
       "\n",
       "  eev_violtn_cnt h2b_violtn_cnt h2b_bw_atp_amt h2b_ee_atp_cnt sraw_violtn_cnt  \\\n",
       "0              0              0              0              0               0   \n",
       "1              0              0              0              0               0   \n",
       "2              0              0              0              0               0   \n",
       "3              0              0              0              0               0   \n",
       "4              0              0              0              0               0   \n",
       "\n",
       "  sraw_bw_atp_amt sraw_ee_atp_cnt                    ld_dt  \n",
       "0               0               0  2015-04-01 01:00:03 EDT  \n",
       "1               0               0  2015-02-20 01:00:06 EST  \n",
       "2               0               0  2015-02-20 01:00:06 EST  \n",
       "3               0               0  2015-02-20 01:00:06 EST  \n",
       "4               0               0  2015-02-20 01:00:06 EST  \n",
       "\n",
       "[5 rows x 113 columns]"
      ]
     },
     "execution_count": 11,
     "metadata": {},
     "output_type": "execute_result"
    }
   ],
   "source": [
    "df_dol.head()"
   ]
  },
  {
   "cell_type": "code",
   "execution_count": 12,
   "id": "eaa7f8e7-1258-4a97-9013-302eec352cde",
   "metadata": {
    "execution": {
     "iopub.execute_input": "2024-03-28T17:18:22.126464Z",
     "iopub.status.busy": "2024-03-28T17:18:22.126107Z",
     "iopub.status.idle": "2024-03-28T17:18:22.132685Z",
     "shell.execute_reply": "2024-03-28T17:18:22.131771Z",
     "shell.execute_reply.started": "2024-03-28T17:18:22.126439Z"
    }
   },
   "outputs": [
    {
     "data": {
      "text/plain": [
       "Index(['RECORD_TYPE', 'DATA_SOURCE', 'RECORD_ID', 'case_id',\n",
       "       'BUSINESS_NAME_ORG', 'LEGAL_NAME_ORG', 'BUSINESS_ADDR_LINE1',\n",
       "       'BUSINESS_ADDR_CITY', 'BUSINESS_ADDR_STATE',\n",
       "       'BUSINESS_ADDR_POSTAL_CODE',\n",
       "       ...\n",
       "       'flsa_smwsl_bw_atp_amt', 'flsa_smwsl_ee_atp_cnt', 'eev_violtn_cnt',\n",
       "       'h2b_violtn_cnt', 'h2b_bw_atp_amt', 'h2b_ee_atp_cnt', 'sraw_violtn_cnt',\n",
       "       'sraw_bw_atp_amt', 'sraw_ee_atp_cnt', 'ld_dt'],\n",
       "      dtype='object', length=113)"
      ]
     },
     "execution_count": 12,
     "metadata": {},
     "output_type": "execute_result"
    }
   ],
   "source": [
    "df_dol.columns"
   ]
  },
  {
   "cell_type": "code",
   "execution_count": 13,
   "id": "888df916-f2b4-4a0f-af38-196a0b46af7f",
   "metadata": {
    "execution": {
     "iopub.execute_input": "2024-03-28T17:18:22.997132Z",
     "iopub.status.busy": "2024-03-28T17:18:22.996399Z",
     "iopub.status.idle": "2024-03-28T17:18:23.008071Z",
     "shell.execute_reply": "2024-03-28T17:18:23.002386Z",
     "shell.execute_reply.started": "2024-03-28T17:18:22.997109Z"
    }
   },
   "outputs": [],
   "source": [
    "df = sample_df(\n",
    "    df_dol,\n",
    "    set([\n",
    "        \"RECORD_ID\",\n",
    "        \"BUSINESS_NAME_ORG\",\n",
    "        \"BUSINESS_ADDR_LINE1\",\n",
    "        \"naics_code_description\",\n",
    "        \"case_violtn_cnt\",\n",
    "    ]),\n",
    ")"
   ]
  },
  {
   "cell_type": "code",
   "execution_count": 14,
   "id": "0600b1f6-0e12-435d-9c62-97f6b471225a",
   "metadata": {
    "execution": {
     "iopub.execute_input": "2024-03-28T17:18:23.597775Z",
     "iopub.status.busy": "2024-03-28T17:18:23.597144Z",
     "iopub.status.idle": "2024-03-28T17:18:23.607148Z",
     "shell.execute_reply": "2024-03-28T17:18:23.606347Z",
     "shell.execute_reply.started": "2024-03-28T17:18:23.597752Z"
    }
   },
   "outputs": [
    {
     "data": {
      "text/html": [
       "<div>\n",
       "<style scoped>\n",
       "    .dataframe tbody tr th:only-of-type {\n",
       "        vertical-align: middle;\n",
       "    }\n",
       "\n",
       "    .dataframe tbody tr th {\n",
       "        vertical-align: top;\n",
       "    }\n",
       "\n",
       "    .dataframe thead th {\n",
       "        text-align: right;\n",
       "    }\n",
       "</style>\n",
       "<table border=\"1\" class=\"dataframe\">\n",
       "  <thead>\n",
       "    <tr style=\"text-align: right;\">\n",
       "      <th></th>\n",
       "      <th>RECORD_ID</th>\n",
       "      <th>BUSINESS_NAME_ORG</th>\n",
       "      <th>BUSINESS_ADDR_LINE1</th>\n",
       "      <th>naics_code_description</th>\n",
       "      <th>case_violtn_cnt</th>\n",
       "    </tr>\n",
       "  </thead>\n",
       "  <tbody>\n",
       "    <tr>\n",
       "      <th>0</th>\n",
       "      <td>7017</td>\n",
       "      <td>Fabulous Freddy's (Trailwood)</td>\n",
       "      <td>9611 Trail Wood Drive</td>\n",
       "      <td>Car Washes</td>\n",
       "      <td>0</td>\n",
       "    </tr>\n",
       "    <tr>\n",
       "      <th>1</th>\n",
       "      <td>7018</td>\n",
       "      <td>Boulder Station Hotel &amp; Casino</td>\n",
       "      <td>4111 Boulder Hwy</td>\n",
       "      <td>Casino Hotels</td>\n",
       "      <td>1</td>\n",
       "    </tr>\n",
       "    <tr>\n",
       "      <th>2</th>\n",
       "      <td>7021</td>\n",
       "      <td>MSI Landscaping</td>\n",
       "      <td>4820 Quality Court, #B</td>\n",
       "      <td>Landscaping Services</td>\n",
       "      <td>14</td>\n",
       "    </tr>\n",
       "    <tr>\n",
       "      <th>3</th>\n",
       "      <td>7022</td>\n",
       "      <td>Pastime Pools</td>\n",
       "      <td>731 Memory Ln</td>\n",
       "      <td>All Other Specialty Trade Contractors</td>\n",
       "      <td>0</td>\n",
       "    </tr>\n",
       "    <tr>\n",
       "      <th>4</th>\n",
       "      <td>7023</td>\n",
       "      <td>Steven Michaels</td>\n",
       "      <td>4108 Autum St</td>\n",
       "      <td>Private Households</td>\n",
       "      <td>2</td>\n",
       "    </tr>\n",
       "  </tbody>\n",
       "</table>\n",
       "</div>"
      ],
      "text/plain": [
       "  RECORD_ID               BUSINESS_NAME_ORG     BUSINESS_ADDR_LINE1  \\\n",
       "0      7017   Fabulous Freddy's (Trailwood)   9611 Trail Wood Drive   \n",
       "1      7018  Boulder Station Hotel & Casino        4111 Boulder Hwy   \n",
       "2      7021                 MSI Landscaping  4820 Quality Court, #B   \n",
       "3      7022                   Pastime Pools           731 Memory Ln   \n",
       "4      7023                 Steven Michaels           4108 Autum St   \n",
       "\n",
       "                  naics_code_description case_violtn_cnt  \n",
       "0                             Car Washes               0  \n",
       "1                          Casino Hotels               1  \n",
       "2                   Landscaping Services              14  \n",
       "3  All Other Specialty Trade Contractors               0  \n",
       "4                     Private Households               2  "
      ]
     },
     "execution_count": 14,
     "metadata": {},
     "output_type": "execute_result"
    }
   ],
   "source": [
    "df.head()"
   ]
  },
  {
   "cell_type": "code",
   "execution_count": 15,
   "id": "e6306158-76ca-46df-afb9-8846f3fb11cd",
   "metadata": {
    "execution": {
     "iopub.execute_input": "2024-03-28T17:18:24.194229Z",
     "iopub.status.busy": "2024-03-28T17:18:24.193608Z",
     "iopub.status.idle": "2024-03-28T17:18:24.221950Z",
     "shell.execute_reply": "2024-03-28T17:18:24.220944Z",
     "shell.execute_reply.started": "2024-03-28T17:18:24.194189Z"
    }
   },
   "outputs": [
    {
     "data": {
      "text/html": [
       "<div>\n",
       "<style scoped>\n",
       "    .dataframe tbody tr th:only-of-type {\n",
       "        vertical-align: middle;\n",
       "    }\n",
       "\n",
       "    .dataframe tbody tr th {\n",
       "        vertical-align: top;\n",
       "    }\n",
       "\n",
       "    .dataframe thead th {\n",
       "        text-align: right;\n",
       "    }\n",
       "</style>\n",
       "<table border=\"1\" class=\"dataframe\">\n",
       "  <thead>\n",
       "    <tr style=\"text-align: right;\">\n",
       "      <th></th>\n",
       "      <th>RECORD_ID</th>\n",
       "      <th>BUSINESS_NAME_ORG</th>\n",
       "      <th>BUSINESS_ADDR_LINE1</th>\n",
       "      <th>naics_code_description</th>\n",
       "      <th>case_violtn_cnt</th>\n",
       "    </tr>\n",
       "  </thead>\n",
       "  <tbody>\n",
       "    <tr>\n",
       "      <th>count</th>\n",
       "      <td>1533</td>\n",
       "      <td>1532</td>\n",
       "      <td>1532</td>\n",
       "      <td>1532</td>\n",
       "      <td>1532</td>\n",
       "    </tr>\n",
       "    <tr>\n",
       "      <th>freq</th>\n",
       "      <td>1</td>\n",
       "      <td>10</td>\n",
       "      <td>4</td>\n",
       "      <td>134</td>\n",
       "      <td>407</td>\n",
       "    </tr>\n",
       "    <tr>\n",
       "      <th>unique</th>\n",
       "      <td>1533</td>\n",
       "      <td>1413</td>\n",
       "      <td>1455</td>\n",
       "      <td>387</td>\n",
       "      <td>160</td>\n",
       "    </tr>\n",
       "  </tbody>\n",
       "</table>\n",
       "</div>"
      ],
      "text/plain": [
       "       RECORD_ID BUSINESS_NAME_ORG BUSINESS_ADDR_LINE1 naics_code_description  \\\n",
       "count       1533              1532                1532                   1532   \n",
       "freq           1                10                   4                    134   \n",
       "unique      1533              1413                1455                    387   \n",
       "\n",
       "       case_violtn_cnt  \n",
       "count             1532  \n",
       "freq               407  \n",
       "unique             160  "
      ]
     },
     "execution_count": 15,
     "metadata": {},
     "output_type": "execute_result"
    }
   ],
   "source": [
    "df.describe().loc[[ \"count\", \"freq\", \"unique\", ]]"
   ]
  },
  {
   "cell_type": "markdown",
   "id": "cf98bf73-d0ae-4620-a8b4-b2d8f168e731",
   "metadata": {},
   "source": [
    "### Load the PPP Loans dataset"
   ]
  },
  {
   "cell_type": "markdown",
   "id": "3a378837-47e3-491c-9de3-335250b3b0e1",
   "metadata": {},
   "source": [
    "Load the `PPP Loans over $150K` (PPP) dataset for Las Vegas, from the US Small Business Administration: <https://data.sba.gov/dataset/ppp-foia>"
   ]
  },
  {
   "cell_type": "code",
   "execution_count": 16,
   "id": "525eb7a0-b977-41fb-9711-f4032107b6d3",
   "metadata": {
    "execution": {
     "iopub.execute_input": "2024-03-28T17:18:26.299167Z",
     "iopub.status.busy": "2024-03-28T17:18:26.298743Z",
     "iopub.status.idle": "2024-03-28T17:18:26.328841Z",
     "shell.execute_reply": "2024-03-28T17:18:26.328154Z",
     "shell.execute_reply.started": "2024-03-28T17:18:26.299138Z"
    }
   },
   "outputs": [],
   "source": [
    "ppp_path: pathlib.Path = pathlib.Path(\"lv_data\") / \"ppp.csv\"\n",
    "\n",
    "df_ppp: pd.DataFrame = pd.read_csv(\n",
    "    ppp_path,\n",
    "    dtype = str,\n",
    "    encoding = \"utf-8\",\n",
    ")"
   ]
  },
  {
   "cell_type": "code",
   "execution_count": 17,
   "id": "332ec9d1-3602-4753-9260-2e05584a6956",
   "metadata": {
    "execution": {
     "iopub.execute_input": "2024-03-28T17:18:26.819175Z",
     "iopub.status.busy": "2024-03-28T17:18:26.818741Z",
     "iopub.status.idle": "2024-03-28T17:18:26.838970Z",
     "shell.execute_reply": "2024-03-28T17:18:26.838204Z",
     "shell.execute_reply.started": "2024-03-28T17:18:26.819144Z"
    }
   },
   "outputs": [
    {
     "data": {
      "text/html": [
       "<div>\n",
       "<style scoped>\n",
       "    .dataframe tbody tr th:only-of-type {\n",
       "        vertical-align: middle;\n",
       "    }\n",
       "\n",
       "    .dataframe tbody tr th {\n",
       "        vertical-align: top;\n",
       "    }\n",
       "\n",
       "    .dataframe thead th {\n",
       "        text-align: right;\n",
       "    }\n",
       "</style>\n",
       "<table border=\"1\" class=\"dataframe\">\n",
       "  <thead>\n",
       "    <tr style=\"text-align: right;\">\n",
       "      <th></th>\n",
       "      <th>RECORD_TYPE</th>\n",
       "      <th>DATA_SOURCE</th>\n",
       "      <th>RECORD_ID</th>\n",
       "      <th>Loan_Range</th>\n",
       "      <th>BUSINESS_NAME_ORG</th>\n",
       "      <th>BUSINESS_ADDR_LINE1</th>\n",
       "      <th>BUSINESS_ADDR_CITY</th>\n",
       "      <th>BUSINESS_ADDR_STATE</th>\n",
       "      <th>BUSINESS_ADDR_POSTAL_CODE</th>\n",
       "      <th>NAICS_Code</th>\n",
       "      <th>Business_Type</th>\n",
       "      <th>OwnedByRaceEthnicity</th>\n",
       "      <th>OwnedBy</th>\n",
       "      <th>OwnedByVeteran</th>\n",
       "      <th>NonProfit</th>\n",
       "      <th>JobsReported</th>\n",
       "      <th>DateApproved</th>\n",
       "      <th>Lender</th>\n",
       "      <th>CD</th>\n",
       "    </tr>\n",
       "  </thead>\n",
       "  <tbody>\n",
       "    <tr>\n",
       "      <th>0</th>\n",
       "      <td>ORGANIZATION</td>\n",
       "      <td>PPP_LOANS</td>\n",
       "      <td>7017</td>\n",
       "      <td>c $1-2 million</td>\n",
       "      <td>INFINITY HOSPICE CARE OF LAS VEGAS, LLC</td>\n",
       "      <td>5110 N 40TH ST STE 107</td>\n",
       "      <td>PHOENIX</td>\n",
       "      <td>AZ</td>\n",
       "      <td>85018</td>\n",
       "      <td>623110</td>\n",
       "      <td>Limited  Liability Company(LLC)</td>\n",
       "      <td>Unanswered</td>\n",
       "      <td>Male Owned</td>\n",
       "      <td>Unanswered</td>\n",
       "      <td>NaN</td>\n",
       "      <td>137</td>\n",
       "      <td>05/01/2020</td>\n",
       "      <td>JPMorgan Chase Bank, National Association</td>\n",
       "      <td>AZ-09</td>\n",
       "    </tr>\n",
       "    <tr>\n",
       "      <th>1</th>\n",
       "      <td>ORGANIZATION</td>\n",
       "      <td>PPP_LOANS</td>\n",
       "      <td>7018</td>\n",
       "      <td>d $350,000-1 million</td>\n",
       "      <td>CLUB TATTOO LAS VEGAS LLC</td>\n",
       "      <td>1839 s. almaschool rd. ste 230</td>\n",
       "      <td>MESA</td>\n",
       "      <td>AZ</td>\n",
       "      <td>85210</td>\n",
       "      <td>812199</td>\n",
       "      <td>Limited  Liability Company(LLC)</td>\n",
       "      <td>Unanswered</td>\n",
       "      <td>Male Owned</td>\n",
       "      <td>Non-Veteran</td>\n",
       "      <td>NaN</td>\n",
       "      <td>15</td>\n",
       "      <td>05/01/2020</td>\n",
       "      <td>JPMorgan Chase Bank, National Association</td>\n",
       "      <td>AZ-09</td>\n",
       "    </tr>\n",
       "    <tr>\n",
       "      <th>2</th>\n",
       "      <td>ORGANIZATION</td>\n",
       "      <td>PPP_LOANS</td>\n",
       "      <td>7021</td>\n",
       "      <td>d $350,000-1 million</td>\n",
       "      <td>LAS VEGAS LABOR, LLC</td>\n",
       "      <td>10265 W Camelback Rd, Ste 104</td>\n",
       "      <td>PHOENIX</td>\n",
       "      <td>AZ</td>\n",
       "      <td>85037</td>\n",
       "      <td>111421</td>\n",
       "      <td>Limited  Liability Company(LLC)</td>\n",
       "      <td>Unanswered</td>\n",
       "      <td>Unanswered</td>\n",
       "      <td>Unanswered</td>\n",
       "      <td>NaN</td>\n",
       "      <td>0</td>\n",
       "      <td>04/07/2020</td>\n",
       "      <td>UMB Bank, National Association</td>\n",
       "      <td>AZ-03</td>\n",
       "    </tr>\n",
       "    <tr>\n",
       "      <th>3</th>\n",
       "      <td>ORGANIZATION</td>\n",
       "      <td>PPP_LOANS</td>\n",
       "      <td>7022</td>\n",
       "      <td>e $150,000-350,000</td>\n",
       "      <td>FIRST CUP PARTNERS LAS VEGAS II, LLC</td>\n",
       "      <td>106 S Kyrene Rd, Ste 2</td>\n",
       "      <td>CHANDLER</td>\n",
       "      <td>AZ</td>\n",
       "      <td>85226</td>\n",
       "      <td>722511</td>\n",
       "      <td>Limited  Liability Company(LLC)</td>\n",
       "      <td>Unanswered</td>\n",
       "      <td>Male Owned</td>\n",
       "      <td>Non-Veteran</td>\n",
       "      <td>NaN</td>\n",
       "      <td>105</td>\n",
       "      <td>04/16/2020</td>\n",
       "      <td>JPMorgan Chase Bank, National Association</td>\n",
       "      <td>AZ-09</td>\n",
       "    </tr>\n",
       "    <tr>\n",
       "      <th>4</th>\n",
       "      <td>ORGANIZATION</td>\n",
       "      <td>PPP_LOANS</td>\n",
       "      <td>7023</td>\n",
       "      <td>e $150,000-350,000</td>\n",
       "      <td>FIRST CUP PARTNERS LAS VEGAS, LLC</td>\n",
       "      <td>2121 W Chandler Blvd Ste 106</td>\n",
       "      <td>Chandler</td>\n",
       "      <td>AZ</td>\n",
       "      <td>85224</td>\n",
       "      <td>NaN</td>\n",
       "      <td>Limited  Liability Company(LLC)</td>\n",
       "      <td>Unanswered</td>\n",
       "      <td>Male Owned</td>\n",
       "      <td>Non-Veteran</td>\n",
       "      <td>NaN</td>\n",
       "      <td>124</td>\n",
       "      <td>05/01/2020</td>\n",
       "      <td>JPMorgan Chase Bank, National Association</td>\n",
       "      <td>AZ-09</td>\n",
       "    </tr>\n",
       "  </tbody>\n",
       "</table>\n",
       "</div>"
      ],
      "text/plain": [
       "    RECORD_TYPE DATA_SOURCE RECORD_ID            Loan_Range  \\\n",
       "0  ORGANIZATION   PPP_LOANS      7017        c $1-2 million   \n",
       "1  ORGANIZATION   PPP_LOANS      7018  d $350,000-1 million   \n",
       "2  ORGANIZATION   PPP_LOANS      7021  d $350,000-1 million   \n",
       "3  ORGANIZATION   PPP_LOANS      7022    e $150,000-350,000   \n",
       "4  ORGANIZATION   PPP_LOANS      7023    e $150,000-350,000   \n",
       "\n",
       "                         BUSINESS_NAME_ORG             BUSINESS_ADDR_LINE1  \\\n",
       "0  INFINITY HOSPICE CARE OF LAS VEGAS, LLC          5110 N 40TH ST STE 107   \n",
       "1                CLUB TATTOO LAS VEGAS LLC  1839 s. almaschool rd. ste 230   \n",
       "2                     LAS VEGAS LABOR, LLC   10265 W Camelback Rd, Ste 104   \n",
       "3     FIRST CUP PARTNERS LAS VEGAS II, LLC          106 S Kyrene Rd, Ste 2   \n",
       "4        FIRST CUP PARTNERS LAS VEGAS, LLC    2121 W Chandler Blvd Ste 106   \n",
       "\n",
       "  BUSINESS_ADDR_CITY BUSINESS_ADDR_STATE BUSINESS_ADDR_POSTAL_CODE NAICS_Code  \\\n",
       "0            PHOENIX                  AZ                     85018     623110   \n",
       "1               MESA                  AZ                     85210     812199   \n",
       "2            PHOENIX                  AZ                     85037     111421   \n",
       "3           CHANDLER                  AZ                     85226     722511   \n",
       "4           Chandler                  AZ                     85224        NaN   \n",
       "\n",
       "                     Business_Type OwnedByRaceEthnicity     OwnedBy  \\\n",
       "0  Limited  Liability Company(LLC)           Unanswered  Male Owned   \n",
       "1  Limited  Liability Company(LLC)           Unanswered  Male Owned   \n",
       "2  Limited  Liability Company(LLC)           Unanswered  Unanswered   \n",
       "3  Limited  Liability Company(LLC)           Unanswered  Male Owned   \n",
       "4  Limited  Liability Company(LLC)           Unanswered  Male Owned   \n",
       "\n",
       "  OwnedByVeteran NonProfit JobsReported DateApproved  \\\n",
       "0     Unanswered       NaN          137   05/01/2020   \n",
       "1    Non-Veteran       NaN           15   05/01/2020   \n",
       "2     Unanswered       NaN            0   04/07/2020   \n",
       "3    Non-Veteran       NaN          105   04/16/2020   \n",
       "4    Non-Veteran       NaN          124   05/01/2020   \n",
       "\n",
       "                                      Lender     CD  \n",
       "0  JPMorgan Chase Bank, National Association  AZ-09  \n",
       "1  JPMorgan Chase Bank, National Association  AZ-09  \n",
       "2             UMB Bank, National Association  AZ-03  \n",
       "3  JPMorgan Chase Bank, National Association  AZ-09  \n",
       "4  JPMorgan Chase Bank, National Association  AZ-09  "
      ]
     },
     "execution_count": 17,
     "metadata": {},
     "output_type": "execute_result"
    }
   ],
   "source": [
    "df_ppp.head()"
   ]
  },
  {
   "cell_type": "code",
   "execution_count": 18,
   "id": "c1c37135-2391-46b8-91d0-84bef2809769",
   "metadata": {
    "execution": {
     "iopub.execute_input": "2024-03-28T17:18:27.348614Z",
     "iopub.status.busy": "2024-03-28T17:18:27.348177Z",
     "iopub.status.idle": "2024-03-28T17:18:27.358101Z",
     "shell.execute_reply": "2024-03-28T17:18:27.357085Z",
     "shell.execute_reply.started": "2024-03-28T17:18:27.348581Z"
    }
   },
   "outputs": [
    {
     "data": {
      "text/plain": [
       "Index(['RECORD_TYPE', 'DATA_SOURCE', 'RECORD_ID', 'Loan_Range',\n",
       "       'BUSINESS_NAME_ORG', 'BUSINESS_ADDR_LINE1', 'BUSINESS_ADDR_CITY',\n",
       "       'BUSINESS_ADDR_STATE', 'BUSINESS_ADDR_POSTAL_CODE', 'NAICS_Code',\n",
       "       'Business_Type', 'OwnedByRaceEthnicity', 'OwnedBy', 'OwnedByVeteran',\n",
       "       'NonProfit', 'JobsReported', 'DateApproved', 'Lender', 'CD'],\n",
       "      dtype='object')"
      ]
     },
     "execution_count": 18,
     "metadata": {},
     "output_type": "execute_result"
    }
   ],
   "source": [
    "df_ppp.columns"
   ]
  },
  {
   "cell_type": "code",
   "execution_count": 19,
   "id": "66a784be-ce89-4f43-9877-81d4d1380a26",
   "metadata": {
    "execution": {
     "iopub.execute_input": "2024-03-28T17:18:27.838578Z",
     "iopub.status.busy": "2024-03-28T17:18:27.837074Z",
     "iopub.status.idle": "2024-03-28T17:18:27.847509Z",
     "shell.execute_reply": "2024-03-28T17:18:27.846486Z",
     "shell.execute_reply.started": "2024-03-28T17:18:27.838527Z"
    }
   },
   "outputs": [],
   "source": [
    "df = sample_df(\n",
    "    df_ppp,\n",
    "    set([\n",
    "        \"RECORD_ID\",\n",
    "        \"BUSINESS_NAME_ORG\",\n",
    "        \"BUSINESS_ADDR_LINE1\",\n",
    "        \"Business_Type\",\n",
    "        \"JobsReported\",\n",
    "    ]),\n",
    ")"
   ]
  },
  {
   "cell_type": "code",
   "execution_count": 20,
   "id": "86bb0474-20ea-4036-ba17-9b31fd4fe7be",
   "metadata": {
    "execution": {
     "iopub.execute_input": "2024-03-28T17:18:28.435664Z",
     "iopub.status.busy": "2024-03-28T17:18:28.435370Z",
     "iopub.status.idle": "2024-03-28T17:18:28.447322Z",
     "shell.execute_reply": "2024-03-28T17:18:28.445832Z",
     "shell.execute_reply.started": "2024-03-28T17:18:28.435642Z"
    }
   },
   "outputs": [
    {
     "data": {
      "text/html": [
       "<div>\n",
       "<style scoped>\n",
       "    .dataframe tbody tr th:only-of-type {\n",
       "        vertical-align: middle;\n",
       "    }\n",
       "\n",
       "    .dataframe tbody tr th {\n",
       "        vertical-align: top;\n",
       "    }\n",
       "\n",
       "    .dataframe thead th {\n",
       "        text-align: right;\n",
       "    }\n",
       "</style>\n",
       "<table border=\"1\" class=\"dataframe\">\n",
       "  <thead>\n",
       "    <tr style=\"text-align: right;\">\n",
       "      <th></th>\n",
       "      <th>RECORD_ID</th>\n",
       "      <th>BUSINESS_NAME_ORG</th>\n",
       "      <th>BUSINESS_ADDR_LINE1</th>\n",
       "      <th>Business_Type</th>\n",
       "      <th>JobsReported</th>\n",
       "    </tr>\n",
       "  </thead>\n",
       "  <tbody>\n",
       "    <tr>\n",
       "      <th>0</th>\n",
       "      <td>7017</td>\n",
       "      <td>INFINITY HOSPICE CARE OF LAS VEGAS, LLC</td>\n",
       "      <td>5110 N 40TH ST STE 107</td>\n",
       "      <td>Limited  Liability Company(LLC)</td>\n",
       "      <td>137</td>\n",
       "    </tr>\n",
       "    <tr>\n",
       "      <th>1</th>\n",
       "      <td>7018</td>\n",
       "      <td>CLUB TATTOO LAS VEGAS LLC</td>\n",
       "      <td>1839 s. almaschool rd. ste 230</td>\n",
       "      <td>Limited  Liability Company(LLC)</td>\n",
       "      <td>15</td>\n",
       "    </tr>\n",
       "    <tr>\n",
       "      <th>2</th>\n",
       "      <td>7021</td>\n",
       "      <td>LAS VEGAS LABOR, LLC</td>\n",
       "      <td>10265 W Camelback Rd, Ste 104</td>\n",
       "      <td>Limited  Liability Company(LLC)</td>\n",
       "      <td>0</td>\n",
       "    </tr>\n",
       "    <tr>\n",
       "      <th>3</th>\n",
       "      <td>7022</td>\n",
       "      <td>FIRST CUP PARTNERS LAS VEGAS II, LLC</td>\n",
       "      <td>106 S Kyrene Rd, Ste 2</td>\n",
       "      <td>Limited  Liability Company(LLC)</td>\n",
       "      <td>105</td>\n",
       "    </tr>\n",
       "    <tr>\n",
       "      <th>4</th>\n",
       "      <td>7023</td>\n",
       "      <td>FIRST CUP PARTNERS LAS VEGAS, LLC</td>\n",
       "      <td>2121 W Chandler Blvd Ste 106</td>\n",
       "      <td>Limited  Liability Company(LLC)</td>\n",
       "      <td>124</td>\n",
       "    </tr>\n",
       "  </tbody>\n",
       "</table>\n",
       "</div>"
      ],
      "text/plain": [
       "  RECORD_ID                        BUSINESS_NAME_ORG  \\\n",
       "0      7017  INFINITY HOSPICE CARE OF LAS VEGAS, LLC   \n",
       "1      7018                CLUB TATTOO LAS VEGAS LLC   \n",
       "2      7021                     LAS VEGAS LABOR, LLC   \n",
       "3      7022     FIRST CUP PARTNERS LAS VEGAS II, LLC   \n",
       "4      7023        FIRST CUP PARTNERS LAS VEGAS, LLC   \n",
       "\n",
       "              BUSINESS_ADDR_LINE1                    Business_Type  \\\n",
       "0          5110 N 40TH ST STE 107  Limited  Liability Company(LLC)   \n",
       "1  1839 s. almaschool rd. ste 230  Limited  Liability Company(LLC)   \n",
       "2   10265 W Camelback Rd, Ste 104  Limited  Liability Company(LLC)   \n",
       "3          106 S Kyrene Rd, Ste 2  Limited  Liability Company(LLC)   \n",
       "4    2121 W Chandler Blvd Ste 106  Limited  Liability Company(LLC)   \n",
       "\n",
       "  JobsReported  \n",
       "0          137  \n",
       "1           15  \n",
       "2            0  \n",
       "3          105  \n",
       "4          124  "
      ]
     },
     "execution_count": 20,
     "metadata": {},
     "output_type": "execute_result"
    }
   ],
   "source": [
    "df.head()"
   ]
  },
  {
   "cell_type": "code",
   "execution_count": 21,
   "id": "70ffd1ac-5e7e-44e9-b1ea-a1a1d48e22f8",
   "metadata": {
    "execution": {
     "iopub.execute_input": "2024-03-28T17:18:29.300812Z",
     "iopub.status.busy": "2024-03-28T17:18:29.300490Z",
     "iopub.status.idle": "2024-03-28T17:18:29.328074Z",
     "shell.execute_reply": "2024-03-28T17:18:29.326897Z",
     "shell.execute_reply.started": "2024-03-28T17:18:29.300787Z"
    }
   },
   "outputs": [
    {
     "data": {
      "text/html": [
       "<div>\n",
       "<style scoped>\n",
       "    .dataframe tbody tr th:only-of-type {\n",
       "        vertical-align: middle;\n",
       "    }\n",
       "\n",
       "    .dataframe tbody tr th {\n",
       "        vertical-align: top;\n",
       "    }\n",
       "\n",
       "    .dataframe thead th {\n",
       "        text-align: right;\n",
       "    }\n",
       "</style>\n",
       "<table border=\"1\" class=\"dataframe\">\n",
       "  <thead>\n",
       "    <tr style=\"text-align: right;\">\n",
       "      <th></th>\n",
       "      <th>RECORD_ID</th>\n",
       "      <th>BUSINESS_NAME_ORG</th>\n",
       "      <th>BUSINESS_ADDR_LINE1</th>\n",
       "      <th>Business_Type</th>\n",
       "      <th>JobsReported</th>\n",
       "    </tr>\n",
       "  </thead>\n",
       "  <tbody>\n",
       "    <tr>\n",
       "      <th>count</th>\n",
       "      <td>3488</td>\n",
       "      <td>3487</td>\n",
       "      <td>3488</td>\n",
       "      <td>3485</td>\n",
       "      <td>3247</td>\n",
       "    </tr>\n",
       "    <tr>\n",
       "      <th>freq</th>\n",
       "      <td>1</td>\n",
       "      <td>2</td>\n",
       "      <td>20</td>\n",
       "      <td>1532</td>\n",
       "      <td>125</td>\n",
       "    </tr>\n",
       "    <tr>\n",
       "      <th>unique</th>\n",
       "      <td>3488</td>\n",
       "      <td>3480</td>\n",
       "      <td>3293</td>\n",
       "      <td>13</td>\n",
       "      <td>287</td>\n",
       "    </tr>\n",
       "  </tbody>\n",
       "</table>\n",
       "</div>"
      ],
      "text/plain": [
       "       RECORD_ID BUSINESS_NAME_ORG BUSINESS_ADDR_LINE1 Business_Type  \\\n",
       "count       3488              3487                3488          3485   \n",
       "freq           1                 2                  20          1532   \n",
       "unique      3488              3480                3293            13   \n",
       "\n",
       "       JobsReported  \n",
       "count          3247  \n",
       "freq            125  \n",
       "unique          287  "
      ]
     },
     "execution_count": 21,
     "metadata": {},
     "output_type": "execute_result"
    }
   ],
   "source": [
    "df.describe().loc[[ \"count\", \"freq\", \"unique\", ]]"
   ]
  },
  {
   "cell_type": "markdown",
   "id": "5704e747-2d67-4167-8f2b-672ab0649f97",
   "metadata": {
    "jp-MarkdownHeadingCollapsed": true
   },
   "source": [
    "## Connect GDS to Neo4j Desktop"
   ]
  },
  {
   "cell_type": "code",
   "execution_count": 22,
   "id": "1bc0cacc-5534-4535-ab7b-1790f0c45e78",
   "metadata": {
    "execution": {
     "iopub.execute_input": "2024-03-28T17:18:31.765021Z",
     "iopub.status.busy": "2024-03-28T17:18:31.764596Z",
     "iopub.status.idle": "2024-03-28T17:18:32.227447Z",
     "shell.execute_reply": "2024-03-28T17:18:32.226603Z",
     "shell.execute_reply.started": "2024-03-28T17:18:31.764990Z"
    }
   },
   "outputs": [],
   "source": [
    "dotenv.load_dotenv(dotenv.find_dotenv())\n",
    "\n",
    "bolt_uri: str = os.environ.get(\"NEO4J_BOLT\")\n",
    "database: str = os.environ.get(\"NEO4J_DBMS\")\n",
    "username: str = os.environ.get(\"NEO4J_USER\")\n",
    "password: str = os.environ.get(\"NEO4J_PASS\")\n",
    "\n",
    "gds:GraphDataScience = GraphDataScience(\n",
    "    bolt_uri,\n",
    "    auth = ( username, password, ),\n",
    "    database = database,\n",
    "    aura_ds = False,\n",
    ")"
   ]
  },
  {
   "cell_type": "markdown",
   "id": "a56522b3-3f2a-4903-906d-02c2a70033bc",
   "metadata": {},
   "source": [
    "Don't worry if you get a `\"Failed to write data to connection...\"` error.\n",
    "It's spurious here."
   ]
  },
  {
   "cell_type": "markdown",
   "id": "081a3490-da99-42bd-a092-5ece0cabd64f",
   "metadata": {},
   "source": [
    "To prepare to add structure to our graph, by adding [_constraints_](https://neo4j.com/docs/cypher-manual/current/constraints/) to ensure uniqueness of records and entities, where we expect uniqueness."
   ]
  },
  {
   "cell_type": "code",
   "execution_count": 23,
   "id": "c16f628d-f1d6-4169-ae98-d8816a026781",
   "metadata": {
    "execution": {
     "iopub.execute_input": "2024-03-28T17:18:34.820644Z",
     "iopub.status.busy": "2024-03-28T17:18:34.820013Z",
     "iopub.status.idle": "2024-03-28T17:18:35.360393Z",
     "shell.execute_reply": "2024-03-28T17:18:35.359747Z",
     "shell.execute_reply.started": "2024-03-28T17:18:34.820577Z"
    }
   },
   "outputs": [
    {
     "data": {
      "text/html": [
       "<div>\n",
       "<style scoped>\n",
       "    .dataframe tbody tr th:only-of-type {\n",
       "        vertical-align: middle;\n",
       "    }\n",
       "\n",
       "    .dataframe tbody tr th {\n",
       "        vertical-align: top;\n",
       "    }\n",
       "\n",
       "    .dataframe thead th {\n",
       "        text-align: right;\n",
       "    }\n",
       "</style>\n",
       "<table border=\"1\" class=\"dataframe\">\n",
       "  <thead>\n",
       "    <tr style=\"text-align: right;\">\n",
       "      <th></th>\n",
       "    </tr>\n",
       "  </thead>\n",
       "  <tbody>\n",
       "  </tbody>\n",
       "</table>\n",
       "</div>"
      ],
      "text/plain": [
       "Empty DataFrame\n",
       "Columns: []\n",
       "Index: []"
      ]
     },
     "execution_count": 23,
     "metadata": {},
     "output_type": "execute_result"
    }
   ],
   "source": [
    "gds.run_cypher(\n",
    "    \"\"\"\n",
    "CREATE CONSTRAINT unique_record \n",
    "    IF NOT EXISTS FOR (rec:Record) \n",
    "    REQUIRE rec.uid IS UNIQUE\n",
    "    \"\"\"\n",
    ")\n",
    "\n",
    "gds.run_cypher(\n",
    "    \"\"\"\n",
    "CREATE CONSTRAINT unique_entity \n",
    "    IF NOT EXISTS FOR (ent:Entity) \n",
    "    REQUIRE ent.uid IS UNIQUE\n",
    "    \"\"\"\n",
    ")"
   ]
  },
  {
   "cell_type": "markdown",
   "id": "4efc5c48-9e03-4700-8435-325744991d76",
   "metadata": {
    "jp-MarkdownHeadingCollapsed": true
   },
   "source": [
    "## Load records into the KG"
   ]
  },
  {
   "cell_type": "markdown",
   "id": "af2f9e52-e221-4707-8992-adb1fdc684db",
   "metadata": {},
   "source": [
    "Define utility functions used for loading the graph data."
   ]
  },
  {
   "cell_type": "code",
   "execution_count": 36,
   "id": "67482f89-7d4e-43e5-89ce-eb7f1cd08da4",
   "metadata": {
    "execution": {
     "iopub.execute_input": "2024-03-28T18:16:56.943076Z",
     "iopub.status.busy": "2024-03-28T18:16:56.938768Z",
     "iopub.status.idle": "2024-03-28T18:16:57.016920Z",
     "shell.execute_reply": "2024-03-28T18:16:57.015580Z",
     "shell.execute_reply.started": "2024-03-28T18:16:56.942898Z"
    }
   },
   "outputs": [],
   "source": [
    "def get_property_keys (\n",
    "    df: pd.DataFrame,\n",
    "    ) -> typing.List[ str ]:\n",
    "    \"\"\"\n",
    "Convert the column names from the given Pandas dataframe into Cypher property names.\n",
    "    \"\"\"\n",
    "    return [\n",
    "        name.lower().replace(\" \", \"_\")\n",
    "        for name in df.columns.values.tolist()\n",
    "    ]\n",
    "\n",
    "\n",
    "def safe_value (\n",
    "    obj: typing.Any,\n",
    "    ) -> typing.Any:\n",
    "    \"\"\"\n",
    "Escape double quotes within string values.\n",
    "    \"\"\"\n",
    "    if pd.isna(obj):\n",
    "        return None\n",
    "\n",
    "    if isinstance(obj, str):\n",
    "        return obj.replace('\"', \"'\")\n",
    "\n",
    "    return obj"
   ]
  },
  {
   "cell_type": "code",
   "execution_count": 27,
   "id": "7a6992d6-a119-40c1-ae75-fa43cc869daa",
   "metadata": {
    "execution": {
     "iopub.execute_input": "2024-03-28T17:19:16.672019Z",
     "iopub.status.busy": "2024-03-28T17:19:16.670860Z",
     "iopub.status.idle": "2024-03-28T17:19:16.686462Z",
     "shell.execute_reply": "2024-03-28T17:19:16.685714Z",
     "shell.execute_reply.started": "2024-03-28T17:19:16.671977Z"
    }
   },
   "outputs": [],
   "source": [
    "def get_param_list (\n",
    "    params: dict,\n",
    "    ) -> str:\n",
    "    \"\"\"\n",
    "Format the properties to set.\n",
    "    \"\"\"\n",
    "    param_list: str = \", \".join([\n",
    "        f\"{key}: ${key}\"\n",
    "        for key in params.keys()\n",
    "        if key != \"uid\"\n",
    "    ])\n",
    "\n",
    "    return \"{\" + param_list + \"}\"\n",
    "\n",
    "\n",
    "def load_records (\n",
    "    gds: GraphDataScience,\n",
    "    df: pd.DataFrame,\n",
    "    ) -> None:\n",
    "    \"\"\"\n",
    "Iterate over each Record from one dataset to load using Cypher.\n",
    "    \"\"\"\n",
    "    keys: typing.List[ str ] = get_property_keys(df)\n",
    "\n",
    "    for _, row in tqdm(df.iterrows(), desc = \"merge record nodes\"):\n",
    "        safe_vals = [ safe_value(v) for v in row.tolist() ]\n",
    "        params: dict = dict(zip(keys, safe_vals))\n",
    "        params[\"uid\"] = params[\"data_source\"].upper() + \".\" + str(params[\"record_id\"])\n",
    "        param_list: str = get_param_list(params)\n",
    "\n",
    "        query: str = f\"\"\"\n",
    "MERGE (rec:Record {{ uid: $uid }})\n",
    "  ON CREATE SET rec += {param_list}\n",
    "RETURN rec.data_source, rec.record_id\n",
    "    \"\"\"\n",
    "\n",
    "        gds.run_cypher(query, params)"
   ]
  },
  {
   "cell_type": "code",
   "execution_count": 32,
   "id": "4dd7cc33-db96-40ec-8ba6-bd8c1f48d0ac",
   "metadata": {
    "execution": {
     "iopub.execute_input": "2024-03-28T17:24:07.199395Z",
     "iopub.status.busy": "2024-03-28T17:24:07.196731Z",
     "iopub.status.idle": "2024-03-28T18:15:07.040927Z",
     "shell.execute_reply": "2024-03-28T18:15:07.014906Z",
     "shell.execute_reply.started": "2024-03-28T17:24:07.199161Z"
    }
   },
   "outputs": [
    {
     "name": "stderr",
     "output_type": "stream",
     "text": [
      "merge record nodes: 98806it [50:59, 32.29it/s] \n"
     ]
    }
   ],
   "source": [
    "load_records(gds, df_poi)"
   ]
  },
  {
   "cell_type": "code",
   "execution_count": 30,
   "id": "8b947887-ff23-49ce-910b-fb71aa161028",
   "metadata": {
    "execution": {
     "iopub.execute_input": "2024-03-28T17:21:22.138941Z",
     "iopub.status.busy": "2024-03-28T17:21:22.134210Z",
     "iopub.status.idle": "2024-03-28T17:22:28.704697Z",
     "shell.execute_reply": "2024-03-28T17:22:28.701169Z",
     "shell.execute_reply.started": "2024-03-28T17:21:22.138900Z"
    }
   },
   "outputs": [
    {
     "name": "stderr",
     "output_type": "stream",
     "text": [
      "merge record nodes: 1533it [01:06, 23.05it/s]\n"
     ]
    }
   ],
   "source": [
    "load_records(gds, df_dol)"
   ]
  },
  {
   "cell_type": "code",
   "execution_count": 28,
   "id": "579299f7-aa36-43cf-b992-4f63922ac065",
   "metadata": {
    "execution": {
     "iopub.execute_input": "2024-03-28T17:19:27.077413Z",
     "iopub.status.busy": "2024-03-28T17:19:27.077083Z",
     "iopub.status.idle": "2024-03-28T17:20:58.375935Z",
     "shell.execute_reply": "2024-03-28T17:20:58.372958Z",
     "shell.execute_reply.started": "2024-03-28T17:19:27.077388Z"
    }
   },
   "outputs": [
    {
     "name": "stderr",
     "output_type": "stream",
     "text": [
      "merge record nodes: 3488it [01:31, 38.22it/s]\n"
     ]
    }
   ],
   "source": [
    "load_records(gds, df_ppp)"
   ]
  },
  {
   "cell_type": "code",
   "execution_count": 38,
   "id": "abd5ff98-d768-4f5c-b345-7d8279da7237",
   "metadata": {
    "execution": {
     "iopub.execute_input": "2024-03-28T18:17:29.706235Z",
     "iopub.status.busy": "2024-03-28T18:17:29.704996Z",
     "iopub.status.idle": "2024-03-28T18:17:30.128730Z",
     "shell.execute_reply": "2024-03-28T18:17:30.127379Z",
     "shell.execute_reply.started": "2024-03-28T18:17:29.706152Z"
    },
    "scrolled": true
   },
   "outputs": [
    {
     "data": {
      "text/html": [
       "<div>\n",
       "<style scoped>\n",
       "    .dataframe tbody tr th:only-of-type {\n",
       "        vertical-align: middle;\n",
       "    }\n",
       "\n",
       "    .dataframe tbody tr th {\n",
       "        vertical-align: top;\n",
       "    }\n",
       "\n",
       "    .dataframe thead th {\n",
       "        text-align: right;\n",
       "    }\n",
       "</style>\n",
       "<table border=\"1\" class=\"dataframe\">\n",
       "  <thead>\n",
       "    <tr style=\"text-align: right;\">\n",
       "      <th></th>\n",
       "      <th>COUNT(rec.uid)</th>\n",
       "    </tr>\n",
       "  </thead>\n",
       "  <tbody>\n",
       "    <tr>\n",
       "      <th>0</th>\n",
       "      <td>103827</td>\n",
       "    </tr>\n",
       "  </tbody>\n",
       "</table>\n",
       "</div>"
      ],
      "text/plain": [
       "   COUNT(rec.uid)\n",
       "0          103827"
      ]
     },
     "execution_count": 38,
     "metadata": {},
     "output_type": "execute_result"
    }
   ],
   "source": [
    "gds.run_cypher(\n",
    "    \"\"\"\n",
    "MATCH (rec:Record)\n",
    "RETURN COUNT(rec.uid)\n",
    "    \"\"\"\n",
    ")"
   ]
  }
 ],
 "metadata": {
  "kernelspec": {
   "display_name": "Python 3 (ipykernel)",
   "language": "python",
   "name": "python3"
  },
  "language_info": {
   "codemirror_mode": {
    "name": "ipython",
    "version": 3
   },
   "file_extension": ".py",
   "mimetype": "text/x-python",
   "name": "python",
   "nbconvert_exporter": "python",
   "pygments_lexer": "ipython3",
   "version": "3.11.0"
  }
 },
 "nbformat": 4,
 "nbformat_minor": 5
}
